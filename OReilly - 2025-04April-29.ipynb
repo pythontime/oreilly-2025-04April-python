{
 "cells": [
  {
   "cell_type": "markdown",
   "metadata": {},
   "source": [
    "# Agenda, day 5: Modules and packages\n",
    "\n",
    "1. Q&A\n",
    "2. What are modules? What do they contain?\n",
    "3. `import`, and how to use a module\n",
    "4. The different forms of `import`, and how/why we use them\n",
    "5. How can we develop our own module?\n",
    "6. The special `__name__` value in a  module\n",
    "7. Python's standard library\n",
    "8. PyPI and `pip`, and installing packages from the Internet\n",
    "9. What next?\n",
    "10. AMA -- ask me anything!"
   ]
  },
  {
   "cell_type": "markdown",
   "metadata": {},
   "source": [
    "# What are modules?\n",
    "\n",
    "DRY rule -- \"don't repeat yourself.\"\n",
    "\n",
    "- If you have code that repeats itself, several lines in a row, then you should use a loop\n",
    "- If you have code that repeats itself in several places in your program, then you should use a function\n",
    "- If you have code that repeats itself in several places across several programs, then you can use a *library*.\n",
    "\n",
    "\"Library\" is the term used across all programming languages. In Python, we call our libraries \"modules.\" When someone uses a module, they're using some Python code that was written once, and can be used many times. If your code is being used in many programs, then you can also write a module -- using it yourself, or giving it to other people to use, as well.\n",
    "\n",
    "Actually, a module in Python does two things:\n",
    "\n",
    "1. It provides reusable code\n",
    "2. It provides us with a \"namespace,\" to ensure that we don't have \"namespace collisions\" -- in other words, when the same variable is defined in several different places.\n",
    "\n",
    "It's a rare Python program that doesn't use modules."
   ]
  },
  {
   "cell_type": "markdown",
   "metadata": {},
   "source": [
    "# Using modules\n",
    "\n",
    "We can take advantage of a module using the `import` statement in Python. It looks like this:\n",
    "\n",
    "    import random\n",
    "\n",
    "Several things to notice about `import`:\n",
    "\n",
    "1. It isn't a function! It doesn't use `()`\n",
    "2. The argument you give it is not a filename (or a string). It's the name of the module variable you want to define. You can think of it as the name of the module you want to load without the `.py` at the end of the file."
   ]
  },
  {
   "cell_type": "code",
   "execution_count": 1,
   "metadata": {},
   "outputs": [],
   "source": [
    "# I want to use the \"random\" module, because I want to generate random numbers\n",
    "\n",
    "import random"
   ]
  },
  {
   "cell_type": "markdown",
   "metadata": {},
   "source": [
    "# What happens when I `import random`?\n",
    "\n",
    "1. Python takes the name we gave it and looks for a file called `random.py`\n",
    "2. If it finds that file, then it loads all of the definitions the file contains, and puts them into a module\n",
    "3. It makes that module available via a variable, the same name we gave it (i.e., `random`)\n",
    "4. The functions and variables in that module are then available as *attributes* on `random`, i.e., names after a `.`"
   ]
  },
  {
   "cell_type": "code",
   "execution_count": 6,
   "metadata": {},
   "outputs": [
    {
     "data": {
      "text/plain": [
       "22"
      ]
     },
     "execution_count": 6,
     "metadata": {},
     "output_type": "execute_result"
    }
   ],
   "source": [
    "random.randint(0, 100)   # this invokes the \"randint\" function in the \"random\" module"
   ]
  },
  {
   "cell_type": "markdown",
   "metadata": {},
   "source": [
    "# What names are in a module?\n",
    "\n",
    "It's nice that I knew that `randint` was in `random` -- but how is a newcomer supposed to know?\n",
    "\n",
    "1. You can invoke `dir` on a module value, and you'll get a list of strings -- the names defined. This will mix together variables, functions, data types, etc., so it's not perfect, it's not a bad shortcut.\n",
    "2. You can invoke `help` on a module value, and you'll get the docstring for the module and all of its functions. This is easier to undertsand and read. (`help` works in Jupyter; if you're in PyCharm or some editor like that, you can usually hover over a name to get its documentation.)\n",
    "3. You can go to `docs.python.org` and find the documentation, and read it there."
   ]
  },
  {
   "cell_type": "code",
   "execution_count": null,
   "metadata": {},
   "outputs": [],
   "source": []
  }
 ],
 "metadata": {
  "kernelspec": {
   "display_name": "Python 3 (ipykernel)",
   "language": "python",
   "name": "python3"
  },
  "language_info": {
   "codemirror_mode": {
    "name": "ipython",
    "version": 3
   },
   "file_extension": ".py",
   "mimetype": "text/x-python",
   "name": "python",
   "nbconvert_exporter": "python",
   "pygments_lexer": "ipython3",
   "version": "3.13.2"
  }
 },
 "nbformat": 4,
 "nbformat_minor": 4
}
