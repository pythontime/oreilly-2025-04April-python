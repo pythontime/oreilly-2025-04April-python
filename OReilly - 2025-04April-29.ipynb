{
 "cells": [
  {
   "cell_type": "markdown",
   "metadata": {},
   "source": [
    "# Agenda, day 5: Modules and packages\n",
    "\n",
    "1. Q&A\n",
    "2. What are modules? What do they contain?\n",
    "3. `import`, and how to use a module\n",
    "4. The different forms of `import`, and how/why we use them\n",
    "5. How can we develop our own module?\n",
    "6. The special `__name__` value in a  module\n",
    "7. Python's standard library\n",
    "8. PyPI and `pip`, and installing packages from the Internet\n",
    "9. What next?\n",
    "10. AMA -- ask me anything!"
   ]
  },
  {
   "cell_type": "markdown",
   "metadata": {},
   "source": [
    "# What are modules?\n",
    "\n",
    "DRY rule -- \"don't repeat yourself.\"\n",
    "\n",
    "- If you have code that repeats itself, several lines in a row, then you should use a loop\n",
    "- If you have code that repeats itself in several places in your program, then you should use a function\n",
    "- If you have code that repeats itself in several places across several programs, then you can use a *library*.\n",
    "\n",
    "\"Library\" is the term used across all programming languages. In Python, we call our libraries \"modules.\" When someone uses a module, they're using some Python code that was written once, and can be used many times. If your code is being used in many programs, then you can also write a module -- using it yourself, or giving it to other people to use, as well.\n",
    "\n"
   ]
  },
  {
   "cell_type": "code",
   "execution_count": null,
   "metadata": {},
   "outputs": [],
   "source": []
  }
 ],
 "metadata": {
  "kernelspec": {
   "display_name": "Python 3 (ipykernel)",
   "language": "python",
   "name": "python3"
  },
  "language_info": {
   "codemirror_mode": {
    "name": "ipython",
    "version": 3
   },
   "file_extension": ".py",
   "mimetype": "text/x-python",
   "name": "python",
   "nbconvert_exporter": "python",
   "pygments_lexer": "ipython3",
   "version": "3.13.2"
  }
 },
 "nbformat": 4,
 "nbformat_minor": 4
}
