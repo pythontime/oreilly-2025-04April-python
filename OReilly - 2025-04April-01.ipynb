{
 "cells": [
  {
   "cell_type": "markdown",
   "metadata": {},
   "source": [
    "# Agenda\n",
    "\n",
    "1. Fundamentals\n",
    "    - What is a programming language? What is Python?\n",
    "    - A little bit about using Jupyter\n",
    "    - Variables and values\n",
    "    - `print` and displaying things on the screen\n",
    "    - `input` and getting input from a user\n",
    "    - Assignment to variables\n",
    "    - Conditional execution of code with `if` and `else`\n",
    "    - Numbers (integers and floats)\n",
    "    - Strings (i.e., text)\n",
    "    - A little bit about methods\n",
    "3. Loops, lists, and tuples\n",
    "    - How we can iterate over things with a `for` loop or a `while` loop\n",
    "    - Lists\n",
    "    - Tuples\n",
    "4. Dictionaries and files\n",
    "    - Dictionaries (what they are, how to use them)\n",
    "    - Files (reading from them, and a *little* writing to them)\n",
    "5. Functions\n",
    "    - What are functions?\n",
    "    - How do we invoke functions?\n",
    "    - How do we define functions?\n",
    "    - How can we pass values to them as arguments?\n",
    "    - How can we get values back as return values?\n",
    "6. Modules and packages\n",
    "    - Reusable components that we can use in our software -- or give to others to use in theirs"
   ]
  },
  {
   "cell_type": "markdown",
   "metadata": {},
   "source": [
    "# Programming languages\n",
    "\n",
    "When computers were first invented, each computer was built to solve a different problem. At a certain point, people created general-purpose computers that could solve many problems. The problems were solved using \"software,\" or \"programs,\" written in 1s and 0s (known as \"binary code.\" This worked fine, except that it was super annoying to write, read, and maintain such programs.\n",
    "\n",
    "Pretty quickly, people created \"programming languages,\" that we would write in and were then translated into 1s and 0s, which were then executed.\n",
    "\n",
    "This is still how programs work today!\n",
    "\n",
    "You write code in a higher-level language which is then translated into those 1s and 0s. Different languages emphasize differnet things we might want to do, and at different levels:\n",
    "\n",
    "- C is a language that runs very very quickly, but that's because you have to write code that's very similar to the 1s and 0s\n",
    "- Java and C# are higher-level langauges that run almost as quickly as C, but which are easier to write.\n",
    "- Python is a high-level language. It is closer to English than the other ones, and doesn't run as fast, but that's OK for a huge number of problems we want to solve!\n",
    "\n",
    "Python has been around for > 30 years. It is now super popular, in part because Python is good for an age in which computers are cheap and people are expensive.\n",
    "\n",
    "Where is Python used? (Besides \"everywhere\")\n",
    "\n",
    "- #1 language for data science and machine learning (AI)\n",
    "- Web applications\n",
    "- Devops\n",
    "- Data analysis\n",
    "- Education (many, *many* universities teach it)\n",
    "\n",
    "The main places where Python is *not* used:\n",
    "- Where it needs to be super fast\n",
    "- Mobile apps\n",
    "\n",
    "Python is easier than many other languages to learn:\n",
    "- High-level language that lets you ignore the low-level details about computer hardware\n",
    "- It is highly consistent, which means that once you learn something, it sticks with you"
   ]
  },
  {
   "cell_type": "markdown",
   "metadata": {
    "jp-MarkdownHeadingCollapsed": true
   },
   "source": [
    "# How can you run/use Python?\n",
    "\n",
    "1. I have a series of videos on O'Reilly telling you how to install Python and Jupyter and VSCode on your computer and run it\n",
    "2. If you want a Jupyter-like system while we're taking the class, you can use Google Colab. "
   ]
  },
  {
   "cell_type": "markdown",
   "metadata": {},
   "source": [
    "# Quick Jupyter tutorial\n",
    "\n",
    "Jupyter is a popular application for writing code and documentation, especially (but not only) among data scientists. It works with dozens of programming languages, but is primarily used in Python. The idea is that you have an illusion of running Python inside of your browser. The document you create can have documentation, code, data analysis, and even plotting all inside of the same place, which is very convenient.\n",
    "\n",
    "When we use Jupyter, we talk about using \"cells.\" I'm currently typing into a cell.\n",
    "\n",
    "When I type, I can be in one of two modes:\n",
    "- Edit mode, when what I type is going into the cell. I can enter edit mode by clicking inside of the cell or pressing `ENTER`.\n",
    "- Command mode, when what I type is given to Jupyter as a command. It doesn't appear on the screen, but has effects. I can enter command mode by clicking to the left of the cell or pressing `ESC`.\n",
    "\n",
    "When we're in edit mode, we can just type. Each cell can be in \"Markdown\" (for nice formatting, like this) or \"Python code\" (where we want to run code.)\n",
    "\n",
    "To finalize/run/format a cell, press shift+`ENTER`.\n",
    "\n",
    "What commands can we use in command mode?\n",
    "- `c` -- copies the current cell\n",
    "- `x` -- cuts the current cell\n",
    "- `v` -- pastes the most recently copied/cut cell\n",
    "- `m` -- enter markdown mode, for nicely formatted documentation (like this)\n",
    "- `y` -- enter coding mode, for Python code\n",
    "- `a` -- create a new cell above the current one\n",
    "- `b` -- create a new cell *below* the current one"
   ]
  },
  {
   "cell_type": "markdown",
   "metadata": {},
   "source": [
    "# Let's write some Python!\n",
    "\n",
    "If I'm in a Jupyter cell, and that cell is in \"code\" mode, then I can write Python. The traditional first thing for someone to write in a programming language is a greeting, often \"Hello, world\" but you can write whatever you want."
   ]
  },
  {
   "cell_type": "code",
   "execution_count": 1,
   "metadata": {},
   "outputs": [
    {
     "name": "stdout",
     "output_type": "stream",
     "text": [
      "Hello, world!\n"
     ]
    }
   ],
   "source": [
    "# this is a comment; # until the end of the line are comments are are ignored by Python\n",
    "# you want to write comments in your code so that the future you (or your colleagues) will remember/know what your intention was\n",
    "\n",
    "# here, we're invoking \"print\", which is a function -- a verb in the Python world\n",
    "# in order to run the function, we use ()\n",
    "# inside of the () here we put text, inside of '' (or you can use \"\" if you prefer -- they're the same to Python), and whatever you want\n",
    "# to print\n",
    "\n",
    "print('Hello, world!')"
   ]
  },
  {
   "cell_type": "code",
   "execution_count": 2,
   "metadata": {},
   "outputs": [
    {
     "name": "stdout",
     "output_type": "stream",
     "text": [
      "Hello, Reuven!\n"
     ]
    }
   ],
   "source": [
    "print('Hello, Reuven!')"
   ]
  },
  {
   "cell_type": "code",
   "execution_count": 3,
   "metadata": {},
   "outputs": [
    {
     "name": "stdout",
     "output_type": "stream",
     "text": [
      "2\n"
     ]
    }
   ],
   "source": [
    "# can I use numbers?\n",
    "\n",
    "print(2)"
   ]
  },
  {
   "cell_type": "code",
   "execution_count": 5,
   "metadata": {},
   "outputs": [
    {
     "name": "stdout",
     "output_type": "stream",
     "text": [
      "5\n"
     ]
    }
   ],
   "source": [
    "# here, first Python runs whatever code is inside of ()\n",
    "# that returns 5, which print then displays on the screen\n",
    "# print never knows that there was originally a 2+3 there, it just gets 5.\n",
    "\n",
    "print(2+3)"
   ]
  },
  {
   "cell_type": "code",
   "execution_count": 6,
   "metadata": {},
   "outputs": [
    {
     "name": "stdout",
     "output_type": "stream",
     "text": [
      "Hello, Reuven\n"
     ]
    }
   ],
   "source": [
    "# can I add text together???\n",
    "\n",
    "print('Hello, ' + 'Reuven')"
   ]
  },
  {
   "cell_type": "code",
   "execution_count": 7,
   "metadata": {},
   "outputs": [
    {
     "name": "stdout",
     "output_type": "stream",
     "text": [
      "Hello,Reuven\n"
     ]
    }
   ],
   "source": [
    "# what if there is no space?\n",
    "\n",
    "# computers don't do what you want them to do.\n",
    "# they do what you tell them to do.\n",
    "\n",
    "print('Hello,' + 'Reuven')"
   ]
  },
  {
   "cell_type": "markdown",
   "metadata": {},
   "source": [
    "# Variables and assignment\n",
    "\n",
    "This works great... but it has some issues:\n",
    "\n",
    "- What if I want to use the same value many times?\n",
    "- What if I want to change a value?\n",
    "\n",
    "A better idea is to create a variable, a name that refers to the value. (If values are the nouns in a programming language, then variables are the pronouns, referring to a noun/data, but not requiring us to say the whole value each time.)\n",
    "\n",
    "To give a variable a value, we use *assignment*, and that is done with the `=` operator.\n",
    "\n",
    "Note: If you ever took any math class beyond Kindergarten, you know that `=` does not \"assign,\" but that it means, 'The left side and the right side are the same.'\n",
    "\n",
    "NOT IN Python! In Python, `=` means: I am taking the value on the right, and assigning it to the variable on the left.\n",
    "\n",
    "- If the variable on the left doesn't yet exist, it'll be created.\n",
    "- If the variable on the left does exist already, we'll give it a new value."
   ]
  },
  {
   "cell_type": "code",
   "execution_count": 8,
   "metadata": {},
   "outputs": [
    {
     "name": "stdout",
     "output_type": "stream",
     "text": [
      "11\n"
     ]
    }
   ],
   "source": [
    "# some languages require that we \"declare\" our variables before using them\n",
    "# that doesn't exist in Python! Assigning to a variable that is new creates it.\n",
    "\n",
    "x = 5  # we assigned the value 5 to x\n",
    "y = 6  # we assigned the value 6 to y\n",
    "\n",
    "print(x + y)"
   ]
  },
  {
   "cell_type": "code",
   "execution_count": 9,
   "metadata": {},
   "outputs": [
    {
     "name": "stdout",
     "output_type": "stream",
     "text": [
      "2445\n"
     ]
    }
   ],
   "source": [
    "# can I assign a new value to a variable? YES!\n",
    "\n",
    "x = 100\n",
    "y = 2345\n",
    "\n",
    "print(x + y)"
   ]
  },
  {
   "cell_type": "markdown",
   "metadata": {},
   "source": [
    "# A common mistake/misconception\n",
    "\n",
    "How does Python differentiate between variabels and text? That is, how does it know that when I say\n",
    "\n",
    "    print('Hello')\n",
    "\n",
    "I want it to print 'Hello' but when I say\n",
    "\n",
    "    print(name)\n",
    "\n",
    "I want it to print the contents of the variable `name`?\n",
    "\n",
    "The difference is that literal text values are surrounded by quotes, either `''` or `\"\"`. Variable names have no quotes around them. So there's a big difference between\n",
    "\n",
    "    print(name)   # print the value of the variable name\n",
    "\n",
    "and \n",
    "\n",
    "    print('name')  # print the literal text 'name'"
   ]
  },
  {
   "cell_type": "markdown",
   "metadata": {},
   "source": [
    "# Exericse: Basic assignment + printing\n",
    "\n",
    "1. Define `x` and `y` to be two numbers. Print their sum.\n",
    "2. Define `name` to be your name. Print a nice greeting to yourself using `name` (the variable) and `+` to join other text with it.\n",
    "\n",
    "Don't try to use `+` on numbers and text in the same expression. It won't work!"
   ]
  },
  {
   "cell_type": "code",
   "execution_count": 10,
   "metadata": {},
   "outputs": [
    {
     "name": "stdout",
     "output_type": "stream",
     "text": [
      "579\n"
     ]
    }
   ],
   "source": [
    "x = 123\n",
    "y = 456\n",
    "\n",
    "print(x + y)"
   ]
  },
  {
   "cell_type": "code",
   "execution_count": 11,
   "metadata": {},
   "outputs": [
    {
     "name": "stdout",
     "output_type": "stream",
     "text": [
      "123456\n"
     ]
    }
   ],
   "source": [
    "# notice what happens here!\n",
    "\n",
    "x = '123'\n",
    "y = '456'\n",
    "\n",
    "print(x + y)"
   ]
  },
  {
   "cell_type": "code",
   "execution_count": 14,
   "metadata": {},
   "outputs": [
    {
     "ename": "TypeError",
     "evalue": "can only concatenate str (not \"int\") to str",
     "output_type": "error",
     "traceback": [
      "\u001b[31m---------------------------------------------------------------------------\u001b[39m",
      "\u001b[31mTypeError\u001b[39m                                 Traceback (most recent call last)",
      "\u001b[36mCell\u001b[39m\u001b[36m \u001b[39m\u001b[32mIn[14]\u001b[39m\u001b[32m, line 2\u001b[39m\n\u001b[32m      1\u001b[39m x = \u001b[32m123\u001b[39m\n\u001b[32m----> \u001b[39m\u001b[32m2\u001b[39m \u001b[38;5;28mprint\u001b[39m(\u001b[33;43m'\u001b[39;49m\u001b[33;43mYour favorite number is \u001b[39;49m\u001b[33;43m'\u001b[39;49m\u001b[43m \u001b[49m\u001b[43m+\u001b[49m\u001b[43m \u001b[49m\u001b[43mx\u001b[49m)  \u001b[38;5;66;03m# you cannot use + between an integer and a text string\u001b[39;00m\n",
      "\u001b[31mTypeError\u001b[39m: can only concatenate str (not \"int\") to str"
     ]
    }
   ],
   "source": [
    "x = 123\n",
    "print('Your favorite number is ' + x)  # you cannot use + between an integer and a text string"
   ]
  },
  {
   "cell_type": "code",
   "execution_count": 15,
   "metadata": {},
   "outputs": [
    {
     "name": "stdout",
     "output_type": "stream",
     "text": [
      "Hello, Reuven!\n"
     ]
    }
   ],
   "source": [
    "name = 'Reuven'\n",
    "print('Hello, ' + name + '!')"
   ]
  },
  {
   "cell_type": "markdown",
   "metadata": {},
   "source": [
    "Why is it impossible (for now) to print both a number and a text string together?\n",
    "\n",
    "Every piece of data in a program has a different \"type,\" and every type has a different set of features/functionality.\n",
    "\n",
    "- Numbers are great for counting\n",
    "- Text is great for retrieving characters, capitalizing/lowercasing\n",
    "\n",
    "These are different, and Python can't be sure how to combine them with `+`.\n",
    "\n"
   ]
  },
  {
   "cell_type": "code",
   "execution_count": 16,
   "metadata": {},
   "outputs": [
    {
     "ename": "TypeError",
     "evalue": "unsupported operand type(s) for +: 'int' and 'str'",
     "output_type": "error",
     "traceback": [
      "\u001b[31m---------------------------------------------------------------------------\u001b[39m",
      "\u001b[31mTypeError\u001b[39m                                 Traceback (most recent call last)",
      "\u001b[36mCell\u001b[39m\u001b[36m \u001b[39m\u001b[32mIn[16]\u001b[39m\u001b[32m, line 4\u001b[39m\n\u001b[32m      1\u001b[39m x = \u001b[32m10\u001b[39m\n\u001b[32m      2\u001b[39m y = \u001b[33m'\u001b[39m\u001b[33m20\u001b[39m\u001b[33m'\u001b[39m\n\u001b[32m----> \u001b[39m\u001b[32m4\u001b[39m \u001b[38;5;28mprint\u001b[39m(\u001b[43mx\u001b[49m\u001b[43m \u001b[49m\u001b[43m+\u001b[49m\u001b[43m \u001b[49m\u001b[43my\u001b[49m)  \u001b[38;5;66;03m# should Python print 1020? Or should it print 30, and treat them as integers? The answer: It gives an error!\u001b[39;00m\n",
      "\u001b[31mTypeError\u001b[39m: unsupported operand type(s) for +: 'int' and 'str'"
     ]
    }
   ],
   "source": [
    "x = 10\n",
    "y = '20'\n",
    "\n",
    "print(x + y)  # should Python print 1020? Or should it print 30, and treat them as integers? The answer: It gives an error!"
   ]
  },
  {
   "cell_type": "code",
   "execution_count": 17,
   "metadata": {},
   "outputs": [
    {
     "name": "stdout",
     "output_type": "stream",
     "text": [
      "abc\n"
     ]
    }
   ],
   "source": [
    "name = 'abc'    # this means: take the text value 'abc' and assign to the variable name\n",
    "\n",
    "print(name)"
   ]
  },
  {
   "cell_type": "code",
   "execution_count": 18,
   "metadata": {},
   "outputs": [
    {
     "ename": "NameError",
     "evalue": "name 'abc' is not defined",
     "output_type": "error",
     "traceback": [
      "\u001b[31m---------------------------------------------------------------------------\u001b[39m",
      "\u001b[31mNameError\u001b[39m                                 Traceback (most recent call last)",
      "\u001b[36mCell\u001b[39m\u001b[36m \u001b[39m\u001b[32mIn[18]\u001b[39m\u001b[32m, line 1\u001b[39m\n\u001b[32m----> \u001b[39m\u001b[32m1\u001b[39m name = \u001b[43mabc\u001b[49m\n\u001b[32m      3\u001b[39m \u001b[38;5;28mprint\u001b[39m(name)   \u001b[38;5;66;03m# here, we don't have quotes around \"name\", so it's a variable... and we don't have a variable called name\u001b[39;00m\n",
      "\u001b[31mNameError\u001b[39m: name 'abc' is not defined"
     ]
    }
   ],
   "source": [
    "name = abc   # here, we don't have quotes around \"abc\", so it's a variable... and we don't have a variable called abc\n",
    "\n",
    "print(name)  "
   ]
  },
  {
   "cell_type": "markdown",
   "metadata": {},
   "source": [
    "# This is kind of boring!\n",
    "\n",
    "Right now, we're stuck using data that was already in the program when it started to run. Most programs are a bit more interesting than that, since they can get input from the user and change what they write based on that input.\n",
    "\n",
    "If we want, we can ask the user to give us a value. That's done using the `input` function.\n",
    "\n",
    "When we call `input`, it pauses the program, and asks whatever question we told it to ask. Whatever the user types is \"returned\" by the function, which we normally put on the right side of assignment."
   ]
  },
  {
   "cell_type": "code",
   "execution_count": 22,
   "metadata": {},
   "outputs": [
    {
     "name": "stdin",
     "output_type": "stream",
     "text": [
      "Enter your name:  someone else\n"
     ]
    }
   ],
   "source": [
    "# 1. input will be invoked\n",
    "# 2. that will pause the program\n",
    "# 3. It will display \"Enter your name: \" and then wait\n",
    "# 4. The user can (must) type something \n",
    "# 5. Whatever the user typed, AS A TEXT STRING, is assigned to the variable name\n",
    "\n",
    "name = input('Enter your name: ')"
   ]
  },
  {
   "cell_type": "code",
   "execution_count": 23,
   "metadata": {},
   "outputs": [
    {
     "name": "stdout",
     "output_type": "stream",
     "text": [
      "Hello, someone else\n"
     ]
    }
   ],
   "source": [
    "print('Hello, ' + name)"
   ]
  },
  {
   "cell_type": "code",
   "execution_count": 24,
   "metadata": {},
   "outputs": [
    {
     "name": "stdin",
     "output_type": "stream",
     "text": [
      "Enter your name:  Reuven\n"
     ]
    }
   ],
   "source": [
    "# U1\n",
    "\n",
    "name = input('Enter your name: ')"
   ]
  },
  {
   "cell_type": "code",
   "execution_count": 25,
   "metadata": {
    "scrolled": true
   },
   "outputs": [
    {
     "ename": "NameError",
     "evalue": "name 'Y' is not defined",
     "output_type": "error",
     "traceback": [
      "\u001b[31m---------------------------------------------------------------------------\u001b[39m",
      "\u001b[31mNameError\u001b[39m                                 Traceback (most recent call last)",
      "\u001b[36mCell\u001b[39m\u001b[36m \u001b[39m\u001b[32mIn[25]\u001b[39m\u001b[32m, line 6\u001b[39m\n\u001b[32m      3\u001b[39m X = \u001b[32m2\u001b[39m  \n\u001b[32m      4\u001b[39m y = \u001b[32m3\u001b[39m  \n\u001b[32m----> \u001b[39m\u001b[32m6\u001b[39m \u001b[38;5;28mprint\u001b[39m(x+\u001b[43mY\u001b[49m) \n",
      "\u001b[31mNameError\u001b[39m: name 'Y' is not defined"
     ]
    }
   ],
   "source": [
    "# KM\n",
    "\n",
    "X = 2  \n",
    "y = 3  \n",
    "\n",
    "print(x+Y) "
   ]
  },
  {
   "cell_type": "markdown",
   "metadata": {},
   "source": [
    "# Variable names in Python\n",
    "\n",
    "What can you call a variable in Python?\n",
    "\n",
    "Answer: You can use (almost) any combination of letters, digits, and `_`. Some rules and guidelines:\n",
    "\n",
    "- Use longish variable names that make sense!\n",
    "- Capital and lowercase letters are completely different. So if you define `x` and print `X`, you'll get an error.\n",
    "- Typically, in Python, we only use lowercase letters, never capitals.\n",
    "- Digits are fine anywhere except at the beginning of a variable name\n",
    "- `_` are fine anywhere, but you shouldn't use them at the start or end, because those have special meanings in Python\n",
    "\n",
    "Some languages have \"constants,\" where you can define them once and then trying to assign to them a second time won't work. Python doesn't have this! You can assign to any variable any number of times.\n",
    "\n",
    "However, if you give a variable `ALL_CAPS` (and maybe `_` between words), that's called a \"constant\" in the Python world, and we aim not to assign to it more than once."
   ]
  },
  {
   "cell_type": "code",
   "execution_count": 26,
   "metadata": {},
   "outputs": [
    {
     "name": "stdout",
     "output_type": "stream",
     "text": [
      "5\n"
     ]
    }
   ],
   "source": [
    "# KM, try again \n",
    "\n",
    "x = 2  \n",
    "y = 3  \n",
    "\n",
    "print(x+y) "
   ]
  },
  {
   "cell_type": "markdown",
   "metadata": {},
   "source": [
    "# Next up\n",
    "\n",
    "1. Using `input`\n",
    "2. More with assignment\n",
    "3. f-strings\n",
    "4. Comparisons\n",
    "5. Conditions"
   ]
  },
  {
   "cell_type": "code",
   "execution_count": 27,
   "metadata": {},
   "outputs": [
    {
     "name": "stdin",
     "output_type": "stream",
     "text": [
      "Enter your favorite number:  72\n"
     ]
    },
    {
     "name": "stdout",
     "output_type": "stream",
     "text": [
      "7272\n"
     ]
    }
   ],
   "source": [
    "# I can use input to get anything from the user\n",
    "# even if they give me digits, it'll still be a text string -- not a number!\n",
    "\n",
    "favorite_number = input('Enter your favorite number: ')\n",
    "\n",
    "double_the_favorite = favorite_number * 2\n",
    "\n",
    "print(double_the_favorite)"
   ]
  },
  {
   "cell_type": "markdown",
   "metadata": {},
   "source": [
    "# Assignment order\n",
    "\n",
    "Always remember that in assignment, the right side runs before the left side.\n",
    "\n",
    "Whatever is on the right side of `=` can be any Python expression, function call, operation, etc. It resulting value is assigned to the variable on the left."
   ]
  },
  {
   "cell_type": "code",
   "execution_count": 28,
   "metadata": {},
   "outputs": [
    {
     "name": "stdout",
     "output_type": "stream",
     "text": [
      "30\n"
     ]
    }
   ],
   "source": [
    "x = 10\n",
    "y = 20\n",
    "\n",
    "print(x + y)"
   ]
  },
  {
   "cell_type": "code",
   "execution_count": 29,
   "metadata": {},
   "outputs": [
    {
     "name": "stdout",
     "output_type": "stream",
     "text": [
      "2010\n"
     ]
    }
   ],
   "source": [
    "y = 2000\n",
    "\n",
    "print(x + y)   # when we run this line, Python looks up x and y, gets their current values, adds them, and prints the result"
   ]
  },
  {
   "cell_type": "markdown",
   "metadata": {},
   "source": [
    "# f-strings (\"format strings\")\n",
    "\n",
    "So far, we've seen that we can create a text strings with `''` or `\"\"`. Those contain text. But if we want to include numbers in our printout, we're out of luck... so far.\n",
    "\n",
    "f-strings have been in Python for about a decade, and they make it much easier to define a string that contains other values. Basically:\n",
    "\n",
    "- An f-string is a string! It's just another way to create a string\n",
    "- It looks like a regular string, but there is an `f` before the opening `''`\n",
    "- Inside of the string, if you have `{}`, you can put any Python expression you want inside -- include a variable\n",
    "- That expression is turned into a string and the whole thing is put together"
   ]
  },
  {
   "cell_type": "code",
   "execution_count": 30,
   "metadata": {},
   "outputs": [
    {
     "name": "stdout",
     "output_type": "stream",
     "text": [
      "10 + 15 = 25\n"
     ]
    }
   ],
   "source": [
    "x = 10\n",
    "y = 15\n",
    "\n",
    "print(f'{x} + {y} = {x+y}')"
   ]
  },
  {
   "cell_type": "code",
   "execution_count": null,
   "metadata": {},
   "outputs": [],
   "source": []
  }
 ],
 "metadata": {
  "kernelspec": {
   "display_name": "Python 3 (ipykernel)",
   "language": "python",
   "name": "python3"
  },
  "language_info": {
   "codemirror_mode": {
    "name": "ipython",
    "version": 3
   },
   "file_extension": ".py",
   "mimetype": "text/x-python",
   "name": "python",
   "nbconvert_exporter": "python",
   "pygments_lexer": "ipython3",
   "version": "3.13.2"
  }
 },
 "nbformat": 4,
 "nbformat_minor": 4
}
