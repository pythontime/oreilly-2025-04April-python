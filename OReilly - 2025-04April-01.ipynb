{
 "cells": [
  {
   "cell_type": "markdown",
   "metadata": {},
   "source": [
    "# Agenda\n",
    "\n",
    "1. Fundamentals\n",
    "    - Variables and values\n",
    "    - `print` and displaying things on the screen\n",
    "    - `input` and getting input from a user\n",
    "    - Assignment to variables\n",
    "    - Conditional execution of code with `if` and `else`\n",
    "    - Numbers (integers and floats)\n",
    "    - Strings (i.e., text)\n",
    "    - A little bit about methods\n",
    "2. Loops, lists, and tuples\n",
    "    - How we can it\n",
    "\n"
   ]
  },
  {
   "cell_type": "code",
   "execution_count": null,
   "metadata": {},
   "outputs": [],
   "source": []
  }
 ],
 "metadata": {
  "kernelspec": {
   "display_name": "Python 3 (ipykernel)",
   "language": "python",
   "name": "python3"
  },
  "language_info": {
   "codemirror_mode": {
    "name": "ipython",
    "version": 3
   },
   "file_extension": ".py",
   "mimetype": "text/x-python",
   "name": "python",
   "nbconvert_exporter": "python",
   "pygments_lexer": "ipython3",
   "version": "3.13.2"
  }
 },
 "nbformat": 4,
 "nbformat_minor": 4
}
