{
 "cells": [
  {
   "cell_type": "markdown",
   "metadata": {},
   "source": [
    "# Agenda\n",
    "\n",
    "1. Fundamentals\n",
    "    - What is a programming language? What is Python?\n",
    "    - A little bit about using Jupyter\n",
    "    - Variables and values\n",
    "    - `print` and displaying things on the screen\n",
    "    - `input` and getting input from a user\n",
    "    - Assignment to variables\n",
    "    - Conditional execution of code with `if` and `else`\n",
    "    - Numbers (integers and floats)\n",
    "    - Strings (i.e., text)\n",
    "    - A little bit about methods\n",
    "3. Loops, lists, and tuples\n",
    "    - How we can iterate over things with a `for` loop or a `while` loop\n",
    "    - Lists\n",
    "    - Tuples\n",
    "4. Dictionaries and files\n",
    "    - Dictionaries (what they are, how to use them)\n",
    "    - Files (reading from them, and a *little* writing to them)\n",
    "5. Functions\n",
    "    - What are functions?\n",
    "    - How do we invoke functions?\n",
    "    - How do we define functions?\n",
    "    - How can we pass values to them as arguments?\n",
    "    - How can we get values back as return values?\n",
    "6. Modules and packages\n",
    "    - Reusable components that we can use in our software -- or give to others to use in theirs"
   ]
  },
  {
   "cell_type": "markdown",
   "metadata": {},
   "source": [
    "# Programming languages\n",
    "\n",
    "When computers were first invented, each computer was built to solve a different problem. At a certain point, people created general-purpose computers that could solve many problems. The problems were solved using \"software,\" or \"programs,\" written in 1s and 0s (known as \"binary code.\" This worked fine, except that it was super annoying to write, read, and maintain such programs.\n",
    "\n",
    "Pretty quickly, people created \"programming languages,\" that we would write in and were then translated into 1s and 0s, which were then executed.\n",
    "\n",
    "This is still how programs work today!\n",
    "\n",
    "You write code in a higher-level language which is then translated into those 1s and 0s. Different languages emphasize differnet things we might want to do, and at different levels:\n",
    "\n",
    "- C is a language that runs very very quickly, but that's because you have to write code that's very similar to the 1s and 0s\n",
    "- Java and C# are higher-level langauges that run almost as quickly as C, but which are easier to write.\n",
    "- Python is a high-level language. It is closer to English than the other ones, and doesn't run as fast, but that's OK for a huge number of problems we want to solve!\n",
    "\n",
    "Python has been around for > 30 years. It is now super popular, in part because Python is good for an age in which computers are cheap and people are expensive.\n",
    "\n",
    "Where is Python used? (Besides \"everywhere\")\n",
    "\n",
    "- #1 language for data science and machine learning (AI)\n",
    "- Web applications\n",
    "- Devops\n",
    "- Data analysis\n",
    "- Education (many, *many* universities teach it)\n",
    "\n",
    "The main places where Python is *not* used:\n",
    "- Where it needs to be super fast\n",
    "- Mobile apps\n",
    "\n",
    "Python is easier than many other languages to learn:\n",
    "- High-level language that lets you ignore the low-level details about computer hardware\n",
    "- It is highly consistent, which means that once you learn something, it sticks with you"
   ]
  },
  {
   "cell_type": "markdown",
   "metadata": {
    "jp-MarkdownHeadingCollapsed": true
   },
   "source": [
    "# How can you run/use Python?\n",
    "\n",
    "1. I have a series of videos on O'Reilly telling you how to install Python and Jupyter and VSCode on your computer and run it\n",
    "2. If you want a Jupyter-like system while we're taking the class, you can use Google Colab. "
   ]
  },
  {
   "cell_type": "markdown",
   "metadata": {},
   "source": [
    "# Quick Jupyter tutorial\n",
    "\n",
    "Jupyter is a popular application for writing code and documentation, especially (but not only) among data scientists. It works with dozens of programming languages, but is primarily used in Python. The idea is that you have an illusion of running Python inside of your browser. The document you create can have documentation, code, data analysis, and even plotting all inside of the same place, which is very convenient.\n",
    "\n",
    "When we use Jupyter, we talk about using \"cells.\" I'm currently typing into a cell.\n",
    "\n",
    "When I type, I can be in one of two modes:\n",
    "- Edit mode, when what I type is going into the cell. I can enter edit mode by clicking inside of the cell or pressing `ENTER`.\n",
    "- Command mode, when what I type is given to Jupyter as a command. It doesn't appear on the screen, but has effects. I can enter command mode by clicking to the left of the cell or pressing `ESC`.\n",
    "\n",
    "When we're in edit mode, we can just type. Each cell can be in \"Markdown\" (for nice formatting, like this) or \"Python code\" (where we want to run code.)\n",
    "\n",
    "To finalize/run/format a cell, press shift+`ENTER`.\n",
    "\n",
    "What commands can we use in command mode?\n",
    "- `c` -- copies the current cell\n",
    "- `x` -- cuts the current cell\n",
    "- `v` -- pastes the most recently copied/cut cell\n",
    "- `m` -- enter markdown mode, for nicely formatted documentation (like this)\n",
    "- `y` -- enter coding mode, for Python code\n",
    "- `a` -- create a new cell above the current one\n",
    "- `b` -- create a new cell *below* the current one"
   ]
  },
  {
   "cell_type": "markdown",
   "metadata": {},
   "source": [
    "# Let's write some Python!\n",
    "\n",
    "If I'm in a Jupyter cell, and that cell is in \"code\" mode, then I can write Python. The traditional first thing for someone to write in a programming language is a greeting, often \"Hello, world\" but you can write whatever you want."
   ]
  },
  {
   "cell_type": "code",
   "execution_count": 1,
   "metadata": {},
   "outputs": [
    {
     "name": "stdout",
     "output_type": "stream",
     "text": [
      "Hello, world!\n"
     ]
    }
   ],
   "source": [
    "# this is a comment; # until the end of the line are comments are are ignored by Python\n",
    "# you want to write comments in your code so that the future you (or your colleagues) will remember/know what your intention was\n",
    "\n",
    "# here, we're invoking \"print\", which is a function -- a verb in the Python world\n",
    "# in order to run the function, we use ()\n",
    "# inside of the () here we put text, inside of '' (or you can use \"\" if you prefer -- they're the same to Python), and whatever you want\n",
    "# to print\n",
    "\n",
    "print('Hello, world!')"
   ]
  },
  {
   "cell_type": "code",
   "execution_count": 2,
   "metadata": {},
   "outputs": [
    {
     "name": "stdout",
     "output_type": "stream",
     "text": [
      "Hello, Reuven!\n"
     ]
    }
   ],
   "source": [
    "print('Hello, Reuven!')"
   ]
  },
  {
   "cell_type": "code",
   "execution_count": 3,
   "metadata": {},
   "outputs": [
    {
     "name": "stdout",
     "output_type": "stream",
     "text": [
      "2\n"
     ]
    }
   ],
   "source": [
    "# can I use numbers?\n",
    "\n",
    "print(2)"
   ]
  },
  {
   "cell_type": "code",
   "execution_count": 5,
   "metadata": {},
   "outputs": [
    {
     "name": "stdout",
     "output_type": "stream",
     "text": [
      "5\n"
     ]
    }
   ],
   "source": [
    "# here, first Python runs whatever code is inside of ()\n",
    "# that returns 5, which print then displays on the screen\n",
    "# print never knows that there was originally a 2+3 there, it just gets 5.\n",
    "\n",
    "print(2+3)"
   ]
  },
  {
   "cell_type": "code",
   "execution_count": 6,
   "metadata": {},
   "outputs": [
    {
     "name": "stdout",
     "output_type": "stream",
     "text": [
      "Hello, Reuven\n"
     ]
    }
   ],
   "source": [
    "# can I add text together???\n",
    "\n",
    "print('Hello, ' + 'Reuven')"
   ]
  },
  {
   "cell_type": "code",
   "execution_count": 7,
   "metadata": {},
   "outputs": [
    {
     "name": "stdout",
     "output_type": "stream",
     "text": [
      "Hello,Reuven\n"
     ]
    }
   ],
   "source": [
    "# what if there is no space?\n",
    "\n",
    "# computers don't do what you want them to do.\n",
    "# they do what you tell them to do.\n",
    "\n",
    "print('Hello,' + 'Reuven')"
   ]
  },
  {
   "cell_type": "markdown",
   "metadata": {},
   "source": [
    "# Variables and assignment\n",
    "\n",
    "This works great... but it has some issues:\n",
    "\n",
    "- What if I want to use the same value many times?\n",
    "- What if I want to change a value?\n",
    "\n",
    "A better idea is to create a variable, a name that refers to the value. (If values are the nouns in a programming language, then variables are the pronouns, referring to a noun/data, but not requiring us to say the whole value each time.)\n",
    "\n",
    "To give a variable a value, we use *assignment*, and that is done with the `=` operator.\n",
    "\n",
    "Note: If you ever took any math class beyond Kindergarten, you know that `=` does not \"assign,\" but that it means, 'The left side and the right side are the same.'\n",
    "\n",
    "NOT IN Python! In Python, `=` means: I am taking the value on the right, and assigning it to the variable on the left.\n",
    "\n",
    "- If the variable on the left doesn't yet exist, it'll be created.\n",
    "- If the variable on the left does exist already, we'll give it a new value."
   ]
  },
  {
   "cell_type": "code",
   "execution_count": 8,
   "metadata": {},
   "outputs": [
    {
     "name": "stdout",
     "output_type": "stream",
     "text": [
      "11\n"
     ]
    }
   ],
   "source": [
    "# some languages require that we \"declare\" our variables before using them\n",
    "# that doesn't exist in Python! Assigning to a variable that is new creates it.\n",
    "\n",
    "x = 5  # we assigned the value 5 to x\n",
    "y = 6  # we assigned the value 6 to y\n",
    "\n",
    "print(x + y)"
   ]
  },
  {
   "cell_type": "code",
   "execution_count": 9,
   "metadata": {},
   "outputs": [
    {
     "name": "stdout",
     "output_type": "stream",
     "text": [
      "2445\n"
     ]
    }
   ],
   "source": [
    "# can I assign a new value to a variable? YES!\n",
    "\n",
    "x = 100\n",
    "y = 2345\n",
    "\n",
    "print(x + y)"
   ]
  },
  {
   "cell_type": "markdown",
   "metadata": {},
   "source": [
    "# A common mistake/misconception\n",
    "\n",
    "How does Python differentiate between variabels and text? That is, how does it know that when I say\n",
    "\n",
    "    print('Hello')\n",
    "\n",
    "I want it to print 'Hello' but when I say\n",
    "\n",
    "    print(name)\n",
    "\n",
    "I want it to print the contents of the variable `name`?\n",
    "\n",
    "The difference is that literal text values are surrounded by quotes, either `''` or `\"\"`. Variable names have no quotes around them. So there's a big difference between\n",
    "\n",
    "    print(name)   # print the value of the variable name\n",
    "\n",
    "and \n",
    "\n",
    "    print('name')  # print the literal text 'name'"
   ]
  },
  {
   "cell_type": "markdown",
   "metadata": {},
   "source": [
    "# Exericse: Basic assignment + printing\n",
    "\n",
    "1. Define `x` and `y` to be two numbers. Print their sum.\n",
    "2. Define `name` to be your name. Print a nice greeting to yourself using `name` (the variable) and `+` to join other text with it.\n",
    "\n",
    "Don't try to use `+` on numbers and text in the same expression. It won't work!"
   ]
  },
  {
   "cell_type": "code",
   "execution_count": 10,
   "metadata": {},
   "outputs": [
    {
     "name": "stdout",
     "output_type": "stream",
     "text": [
      "579\n"
     ]
    }
   ],
   "source": [
    "x = 123\n",
    "y = 456\n",
    "\n",
    "print(x + y)"
   ]
  },
  {
   "cell_type": "code",
   "execution_count": 11,
   "metadata": {},
   "outputs": [
    {
     "name": "stdout",
     "output_type": "stream",
     "text": [
      "123456\n"
     ]
    }
   ],
   "source": [
    "# notice what happens here!\n",
    "\n",
    "x = '123'\n",
    "y = '456'\n",
    "\n",
    "print(x + y)"
   ]
  },
  {
   "cell_type": "code",
   "execution_count": 14,
   "metadata": {},
   "outputs": [
    {
     "ename": "TypeError",
     "evalue": "can only concatenate str (not \"int\") to str",
     "output_type": "error",
     "traceback": [
      "\u001b[31m---------------------------------------------------------------------------\u001b[39m",
      "\u001b[31mTypeError\u001b[39m                                 Traceback (most recent call last)",
      "\u001b[36mCell\u001b[39m\u001b[36m \u001b[39m\u001b[32mIn[14]\u001b[39m\u001b[32m, line 2\u001b[39m\n\u001b[32m      1\u001b[39m x = \u001b[32m123\u001b[39m\n\u001b[32m----> \u001b[39m\u001b[32m2\u001b[39m \u001b[38;5;28mprint\u001b[39m(\u001b[33;43m'\u001b[39;49m\u001b[33;43mYour favorite number is \u001b[39;49m\u001b[33;43m'\u001b[39;49m\u001b[43m \u001b[49m\u001b[43m+\u001b[49m\u001b[43m \u001b[49m\u001b[43mx\u001b[49m)  \u001b[38;5;66;03m# you cannot use + between an integer and a text string\u001b[39;00m\n",
      "\u001b[31mTypeError\u001b[39m: can only concatenate str (not \"int\") to str"
     ]
    }
   ],
   "source": [
    "x = 123\n",
    "print('Your favorite number is ' + x)  # you cannot use + between an integer and a text string"
   ]
  },
  {
   "cell_type": "code",
   "execution_count": 15,
   "metadata": {},
   "outputs": [
    {
     "name": "stdout",
     "output_type": "stream",
     "text": [
      "Hello, Reuven!\n"
     ]
    }
   ],
   "source": [
    "name = 'Reuven'\n",
    "print('Hello, ' + name + '!')"
   ]
  },
  {
   "cell_type": "markdown",
   "metadata": {},
   "source": [
    "Why is it impossible (for now) to print both a number and a text string together?\n",
    "\n",
    "Every piece of data in a program has a different \"type,\" and every type has a different set of features/functionality.\n",
    "\n",
    "- Numbers are great for counting\n",
    "- Text is great for retrieving characters, capitalizing/lowercasing\n",
    "\n",
    "These are different, and Python can't be sure how to combine them with `+`.\n",
    "\n"
   ]
  },
  {
   "cell_type": "code",
   "execution_count": 16,
   "metadata": {},
   "outputs": [
    {
     "ename": "TypeError",
     "evalue": "unsupported operand type(s) for +: 'int' and 'str'",
     "output_type": "error",
     "traceback": [
      "\u001b[31m---------------------------------------------------------------------------\u001b[39m",
      "\u001b[31mTypeError\u001b[39m                                 Traceback (most recent call last)",
      "\u001b[36mCell\u001b[39m\u001b[36m \u001b[39m\u001b[32mIn[16]\u001b[39m\u001b[32m, line 4\u001b[39m\n\u001b[32m      1\u001b[39m x = \u001b[32m10\u001b[39m\n\u001b[32m      2\u001b[39m y = \u001b[33m'\u001b[39m\u001b[33m20\u001b[39m\u001b[33m'\u001b[39m\n\u001b[32m----> \u001b[39m\u001b[32m4\u001b[39m \u001b[38;5;28mprint\u001b[39m(\u001b[43mx\u001b[49m\u001b[43m \u001b[49m\u001b[43m+\u001b[49m\u001b[43m \u001b[49m\u001b[43my\u001b[49m)  \u001b[38;5;66;03m# should Python print 1020? Or should it print 30, and treat them as integers? The answer: It gives an error!\u001b[39;00m\n",
      "\u001b[31mTypeError\u001b[39m: unsupported operand type(s) for +: 'int' and 'str'"
     ]
    }
   ],
   "source": [
    "x = 10\n",
    "y = '20'\n",
    "\n",
    "print(x + y)  # should Python print 1020? Or should it print 30, and treat them as integers? The answer: It gives an error!"
   ]
  },
  {
   "cell_type": "code",
   "execution_count": 17,
   "metadata": {},
   "outputs": [
    {
     "name": "stdout",
     "output_type": "stream",
     "text": [
      "abc\n"
     ]
    }
   ],
   "source": [
    "name = 'abc'    # this means: take the text value 'abc' and assign to the variable name\n",
    "\n",
    "print(name)"
   ]
  },
  {
   "cell_type": "code",
   "execution_count": 18,
   "metadata": {},
   "outputs": [
    {
     "ename": "NameError",
     "evalue": "name 'abc' is not defined",
     "output_type": "error",
     "traceback": [
      "\u001b[31m---------------------------------------------------------------------------\u001b[39m",
      "\u001b[31mNameError\u001b[39m                                 Traceback (most recent call last)",
      "\u001b[36mCell\u001b[39m\u001b[36m \u001b[39m\u001b[32mIn[18]\u001b[39m\u001b[32m, line 1\u001b[39m\n\u001b[32m----> \u001b[39m\u001b[32m1\u001b[39m name = \u001b[43mabc\u001b[49m\n\u001b[32m      3\u001b[39m \u001b[38;5;28mprint\u001b[39m(name)   \u001b[38;5;66;03m# here, we don't have quotes around \"name\", so it's a variable... and we don't have a variable called name\u001b[39;00m\n",
      "\u001b[31mNameError\u001b[39m: name 'abc' is not defined"
     ]
    }
   ],
   "source": [
    "name = abc   # here, we don't have quotes around \"abc\", so it's a variable... and we don't have a variable called abc\n",
    "\n",
    "print(name)  "
   ]
  },
  {
   "cell_type": "markdown",
   "metadata": {},
   "source": [
    "# This is kind of boring!\n",
    "\n",
    "Right now, we're stuck using data that was already in the program when it started to run. Most programs are a bit more interesting than that, since they can get input from the user and change what they write based on that input.\n",
    "\n",
    "If we want, we can ask the user to give us a value. That's done using the `input` function.\n",
    "\n",
    "When we call `input`, it pauses the program, and asks whatever question we told it to ask. Whatever the user types is \"returned\" by the function, which we normally put on the right side of assignment."
   ]
  },
  {
   "cell_type": "code",
   "execution_count": 22,
   "metadata": {},
   "outputs": [
    {
     "name": "stdin",
     "output_type": "stream",
     "text": [
      "Enter your name:  someone else\n"
     ]
    }
   ],
   "source": [
    "# 1. input will be invoked\n",
    "# 2. that will pause the program\n",
    "# 3. It will display \"Enter your name: \" and then wait\n",
    "# 4. The user can (must) type something \n",
    "# 5. Whatever the user typed, AS A TEXT STRING, is assigned to the variable name\n",
    "\n",
    "name = input('Enter your name: ')"
   ]
  },
  {
   "cell_type": "code",
   "execution_count": 23,
   "metadata": {},
   "outputs": [
    {
     "name": "stdout",
     "output_type": "stream",
     "text": [
      "Hello, someone else\n"
     ]
    }
   ],
   "source": [
    "print('Hello, ' + name)"
   ]
  },
  {
   "cell_type": "code",
   "execution_count": 24,
   "metadata": {},
   "outputs": [
    {
     "name": "stdin",
     "output_type": "stream",
     "text": [
      "Enter your name:  Reuven\n"
     ]
    }
   ],
   "source": [
    "# U1\n",
    "\n",
    "name = input('Enter your name: ')"
   ]
  },
  {
   "cell_type": "code",
   "execution_count": 25,
   "metadata": {
    "scrolled": true
   },
   "outputs": [
    {
     "ename": "NameError",
     "evalue": "name 'Y' is not defined",
     "output_type": "error",
     "traceback": [
      "\u001b[31m---------------------------------------------------------------------------\u001b[39m",
      "\u001b[31mNameError\u001b[39m                                 Traceback (most recent call last)",
      "\u001b[36mCell\u001b[39m\u001b[36m \u001b[39m\u001b[32mIn[25]\u001b[39m\u001b[32m, line 6\u001b[39m\n\u001b[32m      3\u001b[39m X = \u001b[32m2\u001b[39m  \n\u001b[32m      4\u001b[39m y = \u001b[32m3\u001b[39m  \n\u001b[32m----> \u001b[39m\u001b[32m6\u001b[39m \u001b[38;5;28mprint\u001b[39m(x+\u001b[43mY\u001b[49m) \n",
      "\u001b[31mNameError\u001b[39m: name 'Y' is not defined"
     ]
    }
   ],
   "source": [
    "# KM\n",
    "\n",
    "X = 2  \n",
    "y = 3  \n",
    "\n",
    "print(x+Y) "
   ]
  },
  {
   "cell_type": "markdown",
   "metadata": {},
   "source": [
    "# Variable names in Python\n",
    "\n",
    "What can you call a variable in Python?\n",
    "\n",
    "Answer: You can use (almost) any combination of letters, digits, and `_`. Some rules and guidelines:\n",
    "\n",
    "- Use longish variable names that make sense!\n",
    "- Capital and lowercase letters are completely different. So if you define `x` and print `X`, you'll get an error.\n",
    "- Typically, in Python, we only use lowercase letters, never capitals.\n",
    "- Digits are fine anywhere except at the beginning of a variable name\n",
    "- `_` are fine anywhere, but you shouldn't use them at the start or end, because those have special meanings in Python\n",
    "\n",
    "Some languages have \"constants,\" where you can define them once and then trying to assign to them a second time won't work. Python doesn't have this! You can assign to any variable any number of times.\n",
    "\n",
    "However, if you give a variable `ALL_CAPS` (and maybe `_` between words), that's called a \"constant\" in the Python world, and we aim not to assign to it more than once."
   ]
  },
  {
   "cell_type": "code",
   "execution_count": 26,
   "metadata": {},
   "outputs": [
    {
     "name": "stdout",
     "output_type": "stream",
     "text": [
      "5\n"
     ]
    }
   ],
   "source": [
    "# KM, try again \n",
    "\n",
    "x = 2  \n",
    "y = 3  \n",
    "\n",
    "print(x+y) "
   ]
  },
  {
   "cell_type": "markdown",
   "metadata": {},
   "source": [
    "# Next up\n",
    "\n",
    "1. Using `input`\n",
    "2. More with assignment\n",
    "3. f-strings\n",
    "4. Comparisons\n",
    "5. Conditions"
   ]
  },
  {
   "cell_type": "code",
   "execution_count": 27,
   "metadata": {},
   "outputs": [
    {
     "name": "stdin",
     "output_type": "stream",
     "text": [
      "Enter your favorite number:  72\n"
     ]
    },
    {
     "name": "stdout",
     "output_type": "stream",
     "text": [
      "7272\n"
     ]
    }
   ],
   "source": [
    "# I can use input to get anything from the user\n",
    "# even if they give me digits, it'll still be a text string -- not a number!\n",
    "\n",
    "favorite_number = input('Enter your favorite number: ')\n",
    "\n",
    "double_the_favorite = favorite_number * 2\n",
    "\n",
    "print(double_the_favorite)"
   ]
  },
  {
   "cell_type": "markdown",
   "metadata": {},
   "source": [
    "# Assignment order\n",
    "\n",
    "Always remember that in assignment, the right side runs before the left side.\n",
    "\n",
    "Whatever is on the right side of `=` can be any Python expression, function call, operation, etc. It resulting value is assigned to the variable on the left."
   ]
  },
  {
   "cell_type": "code",
   "execution_count": 28,
   "metadata": {},
   "outputs": [
    {
     "name": "stdout",
     "output_type": "stream",
     "text": [
      "30\n"
     ]
    }
   ],
   "source": [
    "x = 10\n",
    "y = 20\n",
    "\n",
    "print(x + y)"
   ]
  },
  {
   "cell_type": "code",
   "execution_count": 29,
   "metadata": {},
   "outputs": [
    {
     "name": "stdout",
     "output_type": "stream",
     "text": [
      "2010\n"
     ]
    }
   ],
   "source": [
    "y = 2000\n",
    "\n",
    "print(x + y)   # when we run this line, Python looks up x and y, gets their current values, adds them, and prints the result"
   ]
  },
  {
   "cell_type": "markdown",
   "metadata": {},
   "source": [
    "# f-strings (\"format strings\")\n",
    "\n",
    "So far, we've seen that we can create a text strings with `''` or `\"\"`. Those contain text. But if we want to include numbers in our printout, we're out of luck... so far.\n",
    "\n",
    "f-strings have been in Python for about a decade, and they make it much easier to define a string that contains other values. Basically:\n",
    "\n",
    "- An f-string is a string! It's just another way to create a string\n",
    "- It looks like a regular string, but there is an `f` before the opening `''`\n",
    "- Inside of the string, if you have `{}`, you can put any Python expression you want inside -- include a variable\n",
    "- That expression is turned into a string and the whole thing is put together"
   ]
  },
  {
   "cell_type": "code",
   "execution_count": 30,
   "metadata": {},
   "outputs": [
    {
     "name": "stdout",
     "output_type": "stream",
     "text": [
      "10 + 15 = 25\n"
     ]
    }
   ],
   "source": [
    "x = 10\n",
    "y = 15\n",
    "\n",
    "print(f'{x} + {y} = {x+y}')"
   ]
  },
  {
   "cell_type": "code",
   "execution_count": 32,
   "metadata": {},
   "outputs": [
    {
     "name": "stdout",
     "output_type": "stream",
     "text": [
      "My name is Reuven.\n"
     ]
    }
   ],
   "source": [
    "name = 'Reuven'\n",
    "favorite_number = 72\n",
    "shoe_size = 46\n",
    "\n",
    "print(f'My name is {name}.')   # put an f before the opening quote, and {name} is converted into the value of the name variable"
   ]
  },
  {
   "cell_type": "code",
   "execution_count": 33,
   "metadata": {},
   "outputs": [
    {
     "name": "stdout",
     "output_type": "stream",
     "text": [
      "My name is Reuven, and my shoe size is 46.\n"
     ]
    }
   ],
   "source": [
    "print(f'My name is {name}, and my shoe size is {shoe_size}.')"
   ]
  },
  {
   "cell_type": "code",
   "execution_count": 34,
   "metadata": {},
   "outputs": [
    {
     "name": "stdout",
     "output_type": "stream",
     "text": [
      "My name is Reuven, and my shoe size is 46, and my favorite number is 72.\n"
     ]
    }
   ],
   "source": [
    "print(f'My name is {name}, and my shoe size is {shoe_size}, and my favorite number is {favorite_number}.')"
   ]
  },
  {
   "cell_type": "markdown",
   "metadata": {},
   "source": [
    "# Exercise: Printing with f-strings\n",
    "\n",
    "1. Define two variables, `x` and `y`, assigning integers (numbers) to them. Assign their sum to a new variable, `total`. Print `x`, `y`, and `total` in a single line.\n",
    "2. Ask the user to enter their name, and assign to `name`, and print a nice greeting."
   ]
  },
  {
   "cell_type": "code",
   "execution_count": 35,
   "metadata": {},
   "outputs": [
    {
     "name": "stdout",
     "output_type": "stream",
     "text": [
      "10 + 15 = 25\n"
     ]
    }
   ],
   "source": [
    "x = 10\n",
    "y = 15\n",
    "total = x + y\n",
    "\n",
    "print(f'{x} + {y} = {total}')"
   ]
  },
  {
   "cell_type": "code",
   "execution_count": 38,
   "metadata": {},
   "outputs": [
    {
     "ename": "KeyboardInterrupt",
     "evalue": "Interrupted by user",
     "output_type": "error",
     "traceback": [
      "\u001b[31m---------------------------------------------------------------------------\u001b[39m",
      "\u001b[31mKeyboardInterrupt\u001b[39m                         Traceback (most recent call last)",
      "\u001b[36mCell\u001b[39m\u001b[36m \u001b[39m\u001b[32mIn[38]\u001b[39m\u001b[32m, line 1\u001b[39m\n\u001b[32m----> \u001b[39m\u001b[32m1\u001b[39m name = \u001b[38;5;28;43minput\u001b[39;49m\u001b[43m(\u001b[49m\u001b[33;43m'\u001b[39;49m\u001b[33;43mEnter your name: \u001b[39;49m\u001b[33;43m'\u001b[39;49m\u001b[43m)\u001b[49m\n\u001b[32m      3\u001b[39m \u001b[38;5;28mprint\u001b[39m(\u001b[33mf\u001b[39m\u001b[33m'\u001b[39m\u001b[33mHello to you, \u001b[39m\u001b[38;5;132;01m{\u001b[39;00mname\u001b[38;5;132;01m}\u001b[39;00m\u001b[33m!\u001b[39m\u001b[33m'\u001b[39m)\n",
      "\u001b[36mFile \u001b[39m\u001b[32m~/.pyenv/versions/3.13.2/lib/python3.13/site-packages/ipykernel/kernelbase.py:1282\u001b[39m, in \u001b[36mKernel.raw_input\u001b[39m\u001b[34m(self, prompt)\u001b[39m\n\u001b[32m   1280\u001b[39m     msg = \u001b[33m\"\u001b[39m\u001b[33mraw_input was called, but this frontend does not support input requests.\u001b[39m\u001b[33m\"\u001b[39m\n\u001b[32m   1281\u001b[39m     \u001b[38;5;28;01mraise\u001b[39;00m StdinNotImplementedError(msg)\n\u001b[32m-> \u001b[39m\u001b[32m1282\u001b[39m \u001b[38;5;28;01mreturn\u001b[39;00m \u001b[38;5;28;43mself\u001b[39;49m\u001b[43m.\u001b[49m\u001b[43m_input_request\u001b[49m\u001b[43m(\u001b[49m\n\u001b[32m   1283\u001b[39m \u001b[43m    \u001b[49m\u001b[38;5;28;43mstr\u001b[39;49m\u001b[43m(\u001b[49m\u001b[43mprompt\u001b[49m\u001b[43m)\u001b[49m\u001b[43m,\u001b[49m\n\u001b[32m   1284\u001b[39m \u001b[43m    \u001b[49m\u001b[38;5;28;43mself\u001b[39;49m\u001b[43m.\u001b[49m\u001b[43m_parent_ident\u001b[49m\u001b[43m[\u001b[49m\u001b[33;43m\"\u001b[39;49m\u001b[33;43mshell\u001b[39;49m\u001b[33;43m\"\u001b[39;49m\u001b[43m]\u001b[49m\u001b[43m,\u001b[49m\n\u001b[32m   1285\u001b[39m \u001b[43m    \u001b[49m\u001b[38;5;28;43mself\u001b[39;49m\u001b[43m.\u001b[49m\u001b[43mget_parent\u001b[49m\u001b[43m(\u001b[49m\u001b[33;43m\"\u001b[39;49m\u001b[33;43mshell\u001b[39;49m\u001b[33;43m\"\u001b[39;49m\u001b[43m)\u001b[49m\u001b[43m,\u001b[49m\n\u001b[32m   1286\u001b[39m \u001b[43m    \u001b[49m\u001b[43mpassword\u001b[49m\u001b[43m=\u001b[49m\u001b[38;5;28;43;01mFalse\u001b[39;49;00m\u001b[43m,\u001b[49m\n\u001b[32m   1287\u001b[39m \u001b[43m\u001b[49m\u001b[43m)\u001b[49m\n",
      "\u001b[36mFile \u001b[39m\u001b[32m~/.pyenv/versions/3.13.2/lib/python3.13/site-packages/ipykernel/kernelbase.py:1325\u001b[39m, in \u001b[36mKernel._input_request\u001b[39m\u001b[34m(self, prompt, ident, parent, password)\u001b[39m\n\u001b[32m   1322\u001b[39m \u001b[38;5;28;01mexcept\u001b[39;00m \u001b[38;5;167;01mKeyboardInterrupt\u001b[39;00m:\n\u001b[32m   1323\u001b[39m     \u001b[38;5;66;03m# re-raise KeyboardInterrupt, to truncate traceback\u001b[39;00m\n\u001b[32m   1324\u001b[39m     msg = \u001b[33m\"\u001b[39m\u001b[33mInterrupted by user\u001b[39m\u001b[33m\"\u001b[39m\n\u001b[32m-> \u001b[39m\u001b[32m1325\u001b[39m     \u001b[38;5;28;01mraise\u001b[39;00m \u001b[38;5;167;01mKeyboardInterrupt\u001b[39;00m(msg) \u001b[38;5;28;01mfrom\u001b[39;00m\u001b[38;5;250m \u001b[39m\u001b[38;5;28;01mNone\u001b[39;00m\n\u001b[32m   1326\u001b[39m \u001b[38;5;28;01mexcept\u001b[39;00m \u001b[38;5;167;01mException\u001b[39;00m:\n\u001b[32m   1327\u001b[39m     \u001b[38;5;28mself\u001b[39m.log.warning(\u001b[33m\"\u001b[39m\u001b[33mInvalid Message:\u001b[39m\u001b[33m\"\u001b[39m, exc_info=\u001b[38;5;28;01mTrue\u001b[39;00m)\n",
      "\u001b[31mKeyboardInterrupt\u001b[39m: Interrupted by user"
     ]
    }
   ],
   "source": [
    "name = input('Enter your name: ')\n",
    "\n",
    "print(f'Hello to you, {name}!')"
   ]
  },
  {
   "cell_type": "code",
   "execution_count": 39,
   "metadata": {},
   "outputs": [
    {
     "name": "stdin",
     "output_type": "stream",
     "text": [
      "Enter name:  Reuven\n"
     ]
    },
    {
     "name": "stdout",
     "output_type": "stream",
     "text": [
      "Nice to meet you, Reuven\n"
     ]
    }
   ],
   "source": [
    "# U1\n",
    "\n",
    "name=input('Enter name: ')\n",
    "print(f'Nice to meet you, {name}')"
   ]
  },
  {
   "cell_type": "code",
   "execution_count": 41,
   "metadata": {},
   "outputs": [
    {
     "name": "stdout",
     "output_type": "stream",
     "text": [
      " 72 + 83  =155\n"
     ]
    }
   ],
   "source": [
    "# CA\n",
    "\n",
    "x = 72\n",
    "y = 83\n",
    "z = x + y\n",
    "\n",
    "print(f' {x} + {y}  ={z}')"
   ]
  },
  {
   "cell_type": "code",
   "execution_count": 43,
   "metadata": {},
   "outputs": [
    {
     "name": "stdin",
     "output_type": "stream",
     "text": [
      "Enter your name:  Reuven\n"
     ]
    },
    {
     "name": "stdout",
     "output_type": "stream",
     "text": [
      "Nice to meet you Reuven\n"
     ]
    }
   ],
   "source": [
    "# U1\n",
    "\n",
    "name = input('Enter your name: ')\n",
    "\n",
    "print ('Nice to meet you ' + name)"
   ]
  },
  {
   "cell_type": "code",
   "execution_count": 44,
   "metadata": {},
   "outputs": [],
   "source": [
    "# EW\n",
    "# you must be using JupyterLite, and this is why I suggested not using it...\n",
    "\n",
    "# Hi, i keep getting this <PyodideFuture pending cb=[WebLoop._decrement_in_progress()]> What does it mean?"
   ]
  },
  {
   "cell_type": "code",
   "execution_count": 45,
   "metadata": {},
   "outputs": [
    {
     "name": "stdout",
     "output_type": "stream",
     "text": [
      "10 + 20 is 30\n"
     ]
    }
   ],
   "source": [
    "# KM\n",
    "\n",
    "x=10\n",
    "y=20\n",
    "total=x+y\n",
    "print(f'{x} + {y} is {total}')"
   ]
  },
  {
   "cell_type": "code",
   "execution_count": 46,
   "metadata": {},
   "outputs": [
    {
     "name": "stdin",
     "output_type": "stream",
     "text": [
      "Enter your name Reuven\n"
     ]
    },
    {
     "name": "stdout",
     "output_type": "stream",
     "text": [
      "Hi Reuven, Have a good day!\n"
     ]
    }
   ],
   "source": [
    "name=input('Enter your name')\n",
    "print(f'Hi {name}, Have a good day!')"
   ]
  },
  {
   "cell_type": "code",
   "execution_count": null,
   "metadata": {},
   "outputs": [],
   "source": [
    "# AG \n",
    "\n",
    "print(f'Hello and welcome, {name}')\n",
    "\n",
    "TypeError: 'str' object is not callable\n",
    "\n",
    "# best bet is to go to the kernel menu and choose \"restart kernel\", and that'll reset the defintion of \"print\""
   ]
  },
  {
   "cell_type": "markdown",
   "metadata": {},
   "source": [
    "# Comparisons\n",
    "\n",
    "So far, we've used a single operator, `+`, to add two things together.\n",
    "\n",
    "What if we want to compare two things, though, to know if they are the same, or if one is bigger/smaller?\n",
    "\n",
    "The most common comparison operator is `==` (yes, a doubled `=`), which returns either `True` or `False`"
   ]
  },
  {
   "cell_type": "code",
   "execution_count": 47,
   "metadata": {},
   "outputs": [
    {
     "data": {
      "text/plain": [
       "10"
      ]
     },
     "execution_count": 47,
     "metadata": {},
     "output_type": "execute_result"
    }
   ],
   "source": [
    "x = 10\n",
    "y = 10\n",
    "\n",
    "# so far, we've been using \"print\" to display things\n",
    "# in Jupyter, and *ONLY* in Jupyter, if the final line of a cell has an expression, we'll see its value\n",
    "\n",
    "x"
   ]
  },
  {
   "cell_type": "code",
   "execution_count": 48,
   "metadata": {},
   "outputs": [
    {
     "data": {
      "text/plain": [
       "20"
      ]
     },
     "execution_count": 48,
     "metadata": {},
     "output_type": "execute_result"
    }
   ],
   "source": [
    "x + y"
   ]
  },
  {
   "cell_type": "code",
   "execution_count": 49,
   "metadata": {},
   "outputs": [
    {
     "data": {
      "text/plain": [
       "True"
      ]
     },
     "execution_count": 49,
     "metadata": {},
     "output_type": "execute_result"
    }
   ],
   "source": [
    "x == y   # are these the same value?"
   ]
  },
  {
   "cell_type": "code",
   "execution_count": 50,
   "metadata": {},
   "outputs": [
    {
     "data": {
      "text/plain": [
       "False"
      ]
     },
     "execution_count": 50,
     "metadata": {},
     "output_type": "execute_result"
    }
   ],
   "source": [
    "x == 15"
   ]
  },
  {
   "cell_type": "code",
   "execution_count": 51,
   "metadata": {},
   "outputs": [
    {
     "data": {
      "text/plain": [
       "False"
      ]
     },
     "execution_count": 51,
     "metadata": {},
     "output_type": "execute_result"
    }
   ],
   "source": [
    "# we can compare anything!\n",
    "\n",
    "x = 'hello'\n",
    "y = 'goodbye'\n",
    "\n",
    "x == y"
   ]
  },
  {
   "cell_type": "markdown",
   "metadata": {},
   "source": [
    "# Comparison operators\n",
    "\n",
    "Here is the full set of comparison operators we can use:\n",
    "\n",
    "- `==`, which returns `True` if they have the same value and `False` otherwise\n",
    "- `!=`, the inequality operator, which is the opposite of `==`\n",
    "- `<`, less than\n",
    "- `<=`, less than or equal\n",
    "- `>`, greater than\n",
    "- `>=`, greater than or equal"
   ]
  },
  {
   "cell_type": "code",
   "execution_count": 52,
   "metadata": {},
   "outputs": [
    {
     "data": {
      "text/plain": [
       "False"
      ]
     },
     "execution_count": 52,
     "metadata": {},
     "output_type": "execute_result"
    }
   ],
   "source": [
    "x = 'chicken'\n",
    "y = 'egg'\n",
    "\n",
    "x == y  # are they the same?"
   ]
  },
  {
   "cell_type": "code",
   "execution_count": 55,
   "metadata": {},
   "outputs": [
    {
     "data": {
      "text/plain": [
       "True"
      ]
     },
     "execution_count": 55,
     "metadata": {},
     "output_type": "execute_result"
    }
   ],
   "source": [
    "x < y  # this asks: does the value of x come before y -- if they're both text strings, it compares them alphabetically!"
   ]
  },
  {
   "cell_type": "code",
   "execution_count": 54,
   "metadata": {},
   "outputs": [
    {
     "data": {
      "text/plain": [
       "False"
      ]
     },
     "execution_count": 54,
     "metadata": {},
     "output_type": "execute_result"
    }
   ],
   "source": [
    "x > y"
   ]
  },
  {
   "cell_type": "markdown",
   "metadata": {},
   "source": [
    "# Conditional execution\n",
    "\n",
    "So far, all of our code has run. If we wrote 5 lines, then all 5 lines would run.\n",
    "\n",
    "But that's not what we want in a typical program! We only want *part* of it to run, after making a decision.\n",
    "\n",
    "The way we do that is with `if` statements. When we have `if`, we're saying: This part of the code should only run if something is true. "
   ]
  },
  {
   "cell_type": "code",
   "execution_count": 59,
   "metadata": {},
   "outputs": [
    {
     "ename": "IndentationError",
     "evalue": "expected an indented block after 'if' statement on line 5 (3385750904.py, line 6)",
     "output_type": "error",
     "traceback": [
      "  \u001b[36mCell\u001b[39m\u001b[36m \u001b[39m\u001b[32mIn[59]\u001b[39m\u001b[32m, line 6\u001b[39m\n\u001b[31m    \u001b[39m\u001b[31mprint('Hello, boss!')\u001b[39m\n    ^\n\u001b[31mIndentationError\u001b[39m\u001b[31m:\u001b[39m expected an indented block after 'if' statement on line 5\n"
     ]
    }
   ],
   "source": [
    "# here's some classic Python code that will introduce a lot of ideas\n",
    "\n",
    "name = input('Enter your name: ')\n",
    "\n",
    "if name == 'Reuven':\n",
    "    print('Hello, boss!')\n",
    "    print('It is nice to see you after so long!')\n",
    "else:\n",
    "    print(f'Hello, {name}. Who are you?')    "
   ]
  },
  {
   "cell_type": "markdown",
   "metadata": {},
   "source": [
    "1. We get the user's input, and assign to `name` (line 3)\n",
    "2. On line 5, `if` looks to its right and checks if it sees a `True` value\n",
    "    - In order to know that, Python executes the comparison, `name == 'Reuven'`, which might return `True`\n",
    "3. If the condition on line 5 returns `True`, then we execute the block starting on line 6\n",
    "    - Note that the end of line 5, after the `if` and its condition, has a `:`\n",
    "    - The block on lines 6-7 is indented. That's how Python knows where the block starts and ends.\n",
    "4. If the condition on line 5 returns `False`, then we jump to line 8, `else`\n",
    "    - Its block runs only if the `if` block's condition was `False`\n",
    "  \n",
    "A few things:\n",
    "- One, and only one, of the blocks (lines 6-7 or 9) will run. They are mutually exclusive.\n",
    "- You don't need an `else` block, it's often a good idea.\n",
    "- You can indent with tabs, spaces, or whatever you want... in theory. In reality, everyone uses 4 spaces. Also in reality, no one counts, because they let their tools (Jupyter or an editor) indent for them most of the time.\n",
    "- `else` never has a condition; its job is to run if the `if` was `False`"
   ]
  },
  {
   "cell_type": "markdown",
   "metadata": {},
   "source": [
    "# Exercise: Nice greeting\n",
    "\n",
    "1. Ask the user to enter their name.\n",
    "2. If it's your name, then print a nice greeting.\n",
    "3. If it isn't, then print a snarky greeting including the name."
   ]
  },
  {
   "cell_type": "code",
   "execution_count": 60,
   "metadata": {},
   "outputs": [
    {
     "data": {
      "text/plain": [
       "12"
      ]
     },
     "execution_count": 60,
     "metadata": {},
     "output_type": "execute_result"
    }
   ],
   "source": [
    "2+10"
   ]
  },
  {
   "cell_type": "markdown",
   "metadata": {},
   "source": [
    "# This is a headline\n",
    "\n",
    "- This\n",
    "- is\n",
    "- bulleted.\n",
    "\n",
    "## This is a smaller headline\n",
    "\n",
    "1. This\n",
    "2. is\n",
    "3. numbered\n",
    "    - with\n",
    "    - some\n",
    "    - bullets"
   ]
  },
  {
   "cell_type": "code",
   "execution_count": 62,
   "metadata": {},
   "outputs": [
    {
     "name": "stdin",
     "output_type": "stream",
     "text": [
      "Enter your name:  someone a bit more humble\n"
     ]
    },
    {
     "name": "stdout",
     "output_type": "stream",
     "text": [
      "Hello, someone a bit more humble, you normal person.\n"
     ]
    }
   ],
   "source": [
    "name = input('Enter your name: ')\n",
    "\n",
    "if name == 'Reuven':\n",
    "    print('Hello you amazing person, you!')\n",
    "    print('I will keep stroking your ego forever, you narcissist')\n",
    "else:\n",
    "    print(f'Hello, {name}, you normal person.')"
   ]
  },
  {
   "cell_type": "markdown",
   "metadata": {},
   "source": [
    "# AG\n",
    "\n",
    "      9 else:\n",
    "---> 10     print('Come on... what are you doin here ' + name + '?')\n",
    "\n",
    "TypeError: can only concatenate str (not \"PyodideFuture\") to str"
   ]
  },
  {
   "cell_type": "code",
   "execution_count": 64,
   "metadata": {},
   "outputs": [
    {
     "name": "stdin",
     "output_type": "stream",
     "text": [
      "Enter your sweet name Sunitha\n"
     ]
    },
    {
     "name": "stdout",
     "output_type": "stream",
     "text": [
      "Hi Sunitha, When did u back to earth, were u alive!\n"
     ]
    }
   ],
   "source": [
    "# KM\n",
    "\n",
    "name = input(\"Enter your sweet name\")\n",
    "if name =='Sunitha':\n",
    "    print(f'Hi {name}, When did u back to earth, were u alive!')\n",
    "else:\n",
    "    print(f'Hi {name}, Good Bye aliens')"
   ]
  },
  {
   "cell_type": "markdown",
   "metadata": {},
   "source": [
    "# Blocks\n",
    "\n",
    "Indented blocks are common in Python -- first in `if`/`else`, but also in other places we'll see over the coming weeks.\n",
    "\n",
    "Inside of a block, you can have *ANY* code that you want -- assignment, `if`, `print`, or anything else."
   ]
  },
  {
   "cell_type": "markdown",
   "metadata": {},
   "source": [
    "# Switching quickly code/markdown\n",
    "\n",
    "- To make a cell into a \"code cell,\" you need to be in command mode and press `y`.\n",
    "- To make a cell into a \"markdown cell,\" you need to be in command mode and press `m`.\n",
    "\n",
    "To get into command mode, you can press `ESC`. So I press `ESC` + `y` to make a cell into code, or `ESC` + `m` to make it into Markdown."
   ]
  },
  {
   "cell_type": "code",
   "execution_count": null,
   "metadata": {},
   "outputs": [],
   "source": []
  },
  {
   "cell_type": "markdown",
   "metadata": {},
   "source": [
    "# Next up\n",
    "\n",
    "- `elif` and alternatives in `if`/`elif`\n",
    "- `or`, `and`, and `not`\n",
    "- Numbers\n",
    "- Text strings"
   ]
  },
  {
   "cell_type": "markdown",
   "metadata": {},
   "source": [
    "# Beyond `if`/`else`\n",
    "\n",
    "What if we need to choose from among three possibilities? Or even more? We could have an `if` inside of an `if`, but that gets very messy very quickly.\n",
    "\n",
    "A better way is to use `elif`\n",
    "\n",
    "- You use `elif` between `if` and (if you have it) `else`\n",
    "- Like `if`, `elif` needs a condition and has a block\n",
    "- You can have as many `elif` blocks as you want\n",
    "- The first condition that is `True` stops the search, and its block runs -- still, it's mutually exclusive\n"
   ]
  },
  {
   "cell_type": "code",
   "execution_count": 68,
   "metadata": {},
   "outputs": [
    {
     "name": "stdin",
     "output_type": "stream",
     "text": [
      "Enter your name:  asdfadfafafafa\n"
     ]
    },
    {
     "name": "stdout",
     "output_type": "stream",
     "text": [
      "Hello, asdfadfafafafa\n"
     ]
    }
   ],
   "source": [
    "name = input('Enter your name: ')\n",
    "\n",
    "if name == 'Reuven':\n",
    "    print('Hello, boss!')\n",
    "elif name == 'someone else':\n",
    "    print('That is a weird name')\n",
    "elif name == 'abcd':\n",
    "    print('You are the alphabet?!?')\n",
    "else:\n",
    "    print(f'Hello, {name}')\n"
   ]
  },
  {
   "cell_type": "markdown",
   "metadata": {},
   "source": [
    "# Which word comes first?\n",
    "\n",
    "1. Ask the user to enter a word, and assign it to `first`\n",
    "2. Ask the user to enter a second word, and assign it to `second`\n",
    "3. Print which word comes first alphabetically, or (if they're the same) that this is the case\n",
    "\n",
    "Hints/plans\n",
    "- You'll want to use `input` twice, to get the two input words\n",
    "- You'll want to use `if`, `elif`, and `else`\n",
    "- There are three possibilities:\n",
    "    - `first < second`, meaning that it comes earlier alphabetically\n",
    "    - `second < first`, meaning that it comes earlier alphabetically\n",
    "    - `first == second`, meaning that they're equal\n",
    "    - You will only need to use two of these three comparison operators, because `else` doesn't take a comparison\n",
    "\n",
    "Example:\n",
    "\n",
    "    Enter first word: chicken\n",
    "    Enter second word: egg\n",
    "    chicken comes before egg\n",
    "\n",
    "    Enter first word: marriage\n",
    "    Enter second word: love\n",
    "    love comes before marriage\n",
    "\n",
    "    Enter first word: hello\n",
    "    Enter second word: hello\n",
    "    hello and hello are the same  \n",
    "\n",
    "    "
   ]
  },
  {
   "cell_type": "code",
   "execution_count": 71,
   "metadata": {},
   "outputs": [
    {
     "name": "stdin",
     "output_type": "stream",
     "text": [
      "Enter first word:  hello\n",
      "Enter second word:  hello\n"
     ]
    },
    {
     "name": "stdout",
     "output_type": "stream",
     "text": [
      "hello and hello are the same\n"
     ]
    }
   ],
   "source": [
    "first = input('Enter first word: ')\n",
    "second = input('Enter second word: ')\n",
    "\n",
    "if first < second:\n",
    "    print(f'{first} comes before {second}')\n",
    "elif second < first:\n",
    "    print(f'{second} comes before {first}')\n",
    "else:\n",
    "    print(f'{first} and {second} are the same')"
   ]
  },
  {
   "cell_type": "code",
   "execution_count": 72,
   "metadata": {},
   "outputs": [
    {
     "name": "stdin",
     "output_type": "stream",
     "text": [
      "Enter a word:  abcd\n",
      "Enter another word:  efgh\n"
     ]
    },
    {
     "name": "stdout",
     "output_type": "stream",
     "text": [
      "abcd comes before efgh\n"
     ]
    }
   ],
   "source": [
    "# VR\n",
    "\n",
    "first = input('Enter a word: ')\n",
    "\n",
    "second = input('Enter another word: ')\n",
    "\n",
    "if first < second:\n",
    "  print(f'{first} comes before {second}')\n",
    "elif first > second:\n",
    "  print(f'{first} comes after {second}')\n",
    "else:\n",
    "  print(f'{first} and {second} are same')"
   ]
  },
  {
   "cell_type": "code",
   "execution_count": 75,
   "metadata": {},
   "outputs": [
    {
     "name": "stdin",
     "output_type": "stream",
     "text": [
      "Enter your first word:  efgh\n",
      "Enter your second word:  abcd\n"
     ]
    },
    {
     "name": "stdout",
     "output_type": "stream",
     "text": [
      "abcd comes before efgh\n"
     ]
    }
   ],
   "source": [
    "# KM\n",
    "\n",
    "first=input('Enter your first word: ')\n",
    "second=input('Enter your second word: ')\n",
    "\n",
    "if first == second:\n",
    "    print(f'{first} and {second} are the same')\n",
    "elif first < second:\n",
    "    print(f'{first} comes before {second}')\n",
    "else:\n",
    "    print(f'{second} comes before {first}')"
   ]
  },
  {
   "cell_type": "code",
   "execution_count": 82,
   "metadata": {},
   "outputs": [
    {
     "name": "stdin",
     "output_type": "stream",
     "text": [
      "Enter word one:  cart\n",
      "Enter word two:  horse\n"
     ]
    },
    {
     "name": "stdout",
     "output_type": "stream",
     "text": [
      "cart is less\n"
     ]
    }
   ],
   "source": [
    "# CA\n",
    "\n",
    "first_word = input ('Enter word one: ')\n",
    "second_word = input ('Enter word two: ')\n",
    "\n",
    "if first_word < second_word:\n",
    "    print (f'{first_word} is less')\n",
    "elif first_word > second_word:\n",
    "    print (f'{second_word} is less')\n",
    "else:\n",
    "    print ('who cares')"
   ]
  },
  {
   "cell_type": "code",
   "execution_count": 79,
   "metadata": {},
   "outputs": [
    {
     "data": {
      "text/plain": [
       "'cart'"
      ]
     },
     "execution_count": 79,
     "metadata": {},
     "output_type": "execute_result"
    }
   ],
   "source": [
    "first_word"
   ]
  },
  {
   "cell_type": "code",
   "execution_count": 81,
   "metadata": {},
   "outputs": [
    {
     "data": {
      "text/plain": [
       "'horse'"
      ]
     },
     "execution_count": 81,
     "metadata": {},
     "output_type": "execute_result"
    }
   ],
   "source": [
    "second_word"
   ]
  },
  {
   "cell_type": "code",
   "execution_count": 86,
   "metadata": {},
   "outputs": [
    {
     "name": "stdin",
     "output_type": "stream",
     "text": [
      "Enter a word. abcd\n",
      "Enter a second word. abcd\n"
     ]
    },
    {
     "name": "stdout",
     "output_type": "stream",
     "text": [
      "Alphabetically, first word abcd matches second word abcd\n"
     ]
    }
   ],
   "source": [
    "# U1\n",
    "\n",
    "first = input('Enter a word.')\n",
    "second = input('Enter a second word.')\n",
    "if first == second:\n",
    "    print(f'Alphabetically, first word {first} matches second word {second}')\n",
    "elif first < second:\n",
    "    print(f'Alphabetically, {first} comes before {second}')\n",
    "else:\n",
    "    print(f'Alphabetically, {second} comes before {first}')"
   ]
  },
  {
   "cell_type": "markdown",
   "metadata": {},
   "source": [
    "# Combining conditions\n",
    "\n",
    "Normally, `if` looks to its right, checks if a condition is `True`, and if so, executes its block.\n",
    "\n",
    "But what if we want *two* things to be the case in order for the condition to be `True`?\n",
    "\n",
    "We can combine them with `and`. Only if both conditions -- the one to the left of `and` and the one to the right of `and` -- are `True` do we then execute the `if`'s block.\n",
    "\n",
    "We can similiarly use `or`, which allows us to say that if either (or both) of some conditions are `True`, we want the block to fire."
   ]
  },
  {
   "cell_type": "code",
   "execution_count": 87,
   "metadata": {},
   "outputs": [
    {
     "name": "stdout",
     "output_type": "stream",
     "text": [
      "Both are what you want!\n"
     ]
    }
   ],
   "source": [
    "x = 10\n",
    "y = 20\n",
    "\n",
    "if x == 10 and y == 20:   # both of these must be True in order for the block to fire\n",
    "    print('Both are what you want!')"
   ]
  },
  {
   "cell_type": "code",
   "execution_count": 89,
   "metadata": {},
   "outputs": [
    {
     "name": "stdout",
     "output_type": "stream",
     "text": [
      "Something went wrong... you did not get everything you wanted!\n"
     ]
    }
   ],
   "source": [
    "x = 10\n",
    "y = 50\n",
    "\n",
    "#   True    and  False --> False\n",
    "if x == 10 and y == 20:   # both of these must be True in order for the block to fire\n",
    "    print('Both are what you want!')\n",
    "else:\n",
    "    print('Something went wrong... you did not get everything you wanted!')"
   ]
  },
  {
   "cell_type": "code",
   "execution_count": 91,
   "metadata": {},
   "outputs": [
    {
     "name": "stdout",
     "output_type": "stream",
     "text": [
      "At least one is what you want!\n"
     ]
    }
   ],
   "source": [
    "x = 10\n",
    "y = 50\n",
    "\n",
    "#   True  or False --> True\n",
    "if x == 10 or y == 20:   # only one of these must be True for the whole thing to be True\n",
    "    print('At least one is what you want!')\n",
    "else:\n",
    "    print('Something went wrong... you did not get everything you wanted!')"
   ]
  },
  {
   "cell_type": "code",
   "execution_count": 94,
   "metadata": {},
   "outputs": [
    {
     "name": "stdin",
     "output_type": "stream",
     "text": [
      "enter a word  abc\n",
      "enter another word  abc\n"
     ]
    },
    {
     "name": "stdout",
     "output_type": "stream",
     "text": [
      "abc is the same as abc\n"
     ]
    }
   ],
   "source": [
    "# SN\n",
    "\n",
    "first = input('enter a word ')\n",
    "second = input('enter another word ')\n",
    "\n",
    "if first < second:\n",
    "    print(f'{first} comes before {second}')\n",
    "elif first > second:\n",
    "    print(f'{second} comes before {first}')\n",
    "else:\n",
    "    print(f'{first} is the same as {second}')    "
   ]
  },
  {
   "cell_type": "code",
   "execution_count": 95,
   "metadata": {},
   "outputs": [
    {
     "name": "stdout",
     "output_type": "stream",
     "text": [
      "Not 50!\n"
     ]
    }
   ],
   "source": [
    "# not -- we don't use this very often, but you can put \"not\" in front of a True/False value to get\n",
    "# the opposite\n",
    "\n",
    "x = 100\n",
    "\n",
    "if x != 50:\n",
    "    print('Not 50!')"
   ]
  },
  {
   "cell_type": "code",
   "execution_count": 97,
   "metadata": {},
   "outputs": [
    {
     "name": "stdout",
     "output_type": "stream",
     "text": [
      "Not 50!\n"
     ]
    }
   ],
   "source": [
    "# I could also do this, even though it's HORRIBLE Python \n",
    "\n",
    "\n",
    "if not x == 50:  # the \"not\" flips the False we get from the comparison, and the block fires\n",
    "    print('Not 50!')"
   ]
  },
  {
   "cell_type": "code",
   "execution_count": null,
   "metadata": {},
   "outputs": [],
   "source": []
  }
 ],
 "metadata": {
  "kernelspec": {
   "display_name": "Python 3 (ipykernel)",
   "language": "python",
   "name": "python3"
  },
  "language_info": {
   "codemirror_mode": {
    "name": "ipython",
    "version": 3
   },
   "file_extension": ".py",
   "mimetype": "text/x-python",
   "name": "python",
   "nbconvert_exporter": "python",
   "pygments_lexer": "ipython3",
   "version": "3.13.2"
  }
 },
 "nbformat": 4,
 "nbformat_minor": 4
}
