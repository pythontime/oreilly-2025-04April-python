{
 "cells": [
  {
   "cell_type": "markdown",
   "metadata": {},
   "source": [
    "# Agenda\n",
    "\n",
    "1. Fundamentals\n",
    "    - Variables and values\n",
    "    - `print` and displaying things on the screen\n",
    "    - `input` and getting input from a user\n",
    "    - Assignment to variables\n",
    "    - Conditional execution of code with `if` and `else`\n",
    "    - Numbers (integers and floats)\n",
    "    - Strings (i.e., text)\n",
    "    - A little bit about methods\n",
    "2. Loops, lists, and tuples\n",
    "    - How we can iterate over things with a `for` loop or a `while` loop\n",
    "    - Lists\n",
    "    - Tuples\n",
    "3. Dictionaries and files\n",
    "    - Dictionaries (what they are, how to use them)\n",
    "    - Files (reading from them, and a *little* writing to them)\n",
    "4. Functions\n",
    "    - What are functions?\n",
    "    - How do we invoke functions?\n",
    "    - How do we define functions?\n",
    "    - How can we pass values to them as arguments?\n",
    "    - How can we get values back as return values?\n",
    "5. Modules and packages\n",
    "    - Reusable components that we can use in our software -- or give to others to use in theirs"
   ]
  },
  {
   "cell_type": "code",
   "execution_count": null,
   "metadata": {},
   "outputs": [],
   "source": []
  }
 ],
 "metadata": {
  "kernelspec": {
   "display_name": "Python 3 (ipykernel)",
   "language": "python",
   "name": "python3"
  },
  "language_info": {
   "codemirror_mode": {
    "name": "ipython",
    "version": 3
   },
   "file_extension": ".py",
   "mimetype": "text/x-python",
   "name": "python",
   "nbconvert_exporter": "python",
   "pygments_lexer": "ipython3",
   "version": "3.13.2"
  }
 },
 "nbformat": 4,
 "nbformat_minor": 4
}
