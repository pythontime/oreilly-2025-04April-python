{
 "cells": [
  {
   "cell_type": "markdown",
   "metadata": {},
   "source": [
    "# Agenda\n",
    "\n",
    "1. Fundamentals\n",
    "    - What is a programming language? What is Python?\n",
    "    - A little bit about using Jupyter\n",
    "    - Variables and values\n",
    "    - `print` and displaying things on the screen\n",
    "    - `input` and getting input from a user\n",
    "    - Assignment to variables\n",
    "    - Conditional execution of code with `if` and `else`\n",
    "    - Numbers (integers and floats)\n",
    "    - Strings (i.e., text)\n",
    "    - A little bit about methods\n",
    "3. Loops, lists, and tuples\n",
    "    - How we can iterate over things with a `for` loop or a `while` loop\n",
    "    - Lists\n",
    "    - Tuples\n",
    "4. Dictionaries and files\n",
    "    - Dictionaries (what they are, how to use them)\n",
    "    - Files (reading from them, and a *little* writing to them)\n",
    "5. Functions\n",
    "    - What are functions?\n",
    "    - How do we invoke functions?\n",
    "    - How do we define functions?\n",
    "    - How can we pass values to them as arguments?\n",
    "    - How can we get values back as return values?\n",
    "6. Modules and packages\n",
    "    - Reusable components that we can use in our software -- or give to others to use in theirs"
   ]
  },
  {
   "cell_type": "markdown",
   "metadata": {},
   "source": [
    "# Programming languages\n",
    "\n",
    "When computers were first invented, each computer was built to solve a different problem. At a certain point, people created general-purpose computers that could solve many problems. The problems were solved using \"software,\" or \"programs,\" written in 1s and 0s (known as \"binary code.\" This worked fine, except that it was super annoying to write, read, and maintain such programs.\n",
    "\n",
    "Pretty quickly, people created \"programming languages,\" that we would write in and were then translated into 1s and 0s, which were then executed.\n",
    "\n",
    "This is still how programs work today!\n",
    "\n",
    "You write code in a higher-level language which is then translated into those 1s and 0s. Different languages emphasize differnet things we might want to do, and at different levels:\n",
    "\n",
    "- C is a language that runs very very quickly, but that's because you have to write code that's very similar to the 1s and 0s\n",
    "- Java and C# are higher-level langauges that run almost as quickly as C, but which are easier to write.\n",
    "- Python is a high-level language. It is closer to English than the other ones, and doesn't run as fast, but that's OK for a huge number of problems we want to solve!\n",
    "\n",
    "Python has been around for > 30 years. It is now super popular, in part because Python is good for an age in which computers are cheap and people are expensive.\n",
    "\n",
    "Where is Python used? (Besides \"everywhere\")\n",
    "\n",
    "- #1 language for data science and machine learning (AI)\n",
    "- Web applications\n",
    "- Devops\n",
    "- Data analysis\n",
    "- Education (many, *many* universities teach it)\n",
    "\n",
    "The main places where Python is *not* used:\n",
    "- Where it needs to be super fast\n",
    "- Mobile apps\n",
    "\n",
    "Python is easier than many other languages to learn:\n",
    "- High-level language that lets you ignore the low-level details about computer hardware\n",
    "- It is highly consistent, which means that once you learn something, it sticks with you"
   ]
  },
  {
   "cell_type": "markdown",
   "metadata": {},
   "source": [
    "# How can you run/use Python?\n",
    "\n",
    "1. I have a series of videos on O'Reilly telling you how to install Python and Jupyter and VSCode on your computer and run it\n",
    "2. If you want a Jupyter-like system while we're taking the class, you can use Google Colab. "
   ]
  },
  {
   "cell_type": "markdown",
   "metadata": {},
   "source": [
    "# Quick Jupyter tutorial\n",
    "\n",
    "When we use Jupyter, we talk about using \"cells.\" I'm currently typing into a cell.\n",
    "\n",
    "When I type, I can be in one of two modes:\n",
    "- Edit mode, when what I type is going into the cell. I can enter edit mode by clicking inside of the cell or pressing `ENTER`.\n",
    "- Command mode, when what I type is given to Jupyter as a command. It doesn't appear on the screen, but has effects. I can enter command mode by clicking to the left of the cell or pressing `ESC`."
   ]
  }
 ],
 "metadata": {
  "kernelspec": {
   "display_name": "Python 3 (ipykernel)",
   "language": "python",
   "name": "python3"
  },
  "language_info": {
   "codemirror_mode": {
    "name": "ipython",
    "version": 3
   },
   "file_extension": ".py",
   "mimetype": "text/x-python",
   "name": "python",
   "nbconvert_exporter": "python",
   "pygments_lexer": "ipython3",
   "version": "3.13.2"
  }
 },
 "nbformat": 4,
 "nbformat_minor": 4
}
