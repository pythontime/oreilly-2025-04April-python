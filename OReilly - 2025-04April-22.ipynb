{
 "cells": [
  {
   "cell_type": "markdown",
   "metadata": {},
   "source": [
    "# Agenda: Day 4, Functions\n",
    "\n",
    "1. Questions\n",
    "2. What are functions?\n",
    "3. Writing/defining simple functions\n",
    "4. Arguments and parameters\n",
    "5. Redefining functions\n",
    "6. Return values\n",
    "7. Complex return values\n",
    "8. Default argument values\n",
    "9. Local vs. global variables"
   ]
  },
  {
   "cell_type": "markdown",
   "metadata": {},
   "source": [
    "# What are functions?\n",
    "\n",
    "We've been invoking functions since we started this course:\n",
    "\n",
    "- `print`\n",
    "- `input`\n",
    "- `len`\n",
    "- `sum`\n",
    "\n",
    "A function (or a method) is a verb in a programming language. \n",
    "\n",
    "But do we need functions? Do we need to define our own functions?\n",
    "\n",
    "The answer is \"no, but it's a good idea.\""
   ]
  },
  {
   "cell_type": "markdown",
   "metadata": {},
   "source": [
    "# Abstraction\n",
    "\n",
    "The idea of \"abs"
   ]
  }
 ],
 "metadata": {
  "kernelspec": {
   "display_name": "Python 3 (ipykernel)",
   "language": "python",
   "name": "python3"
  },
  "language_info": {
   "codemirror_mode": {
    "name": "ipython",
    "version": 3
   },
   "file_extension": ".py",
   "mimetype": "text/x-python",
   "name": "python",
   "nbconvert_exporter": "python",
   "pygments_lexer": "ipython3",
   "version": "3.13.2"
  }
 },
 "nbformat": 4,
 "nbformat_minor": 4
}
