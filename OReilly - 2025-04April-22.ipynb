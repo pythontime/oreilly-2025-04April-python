{
 "cells": [
  {
   "cell_type": "markdown",
   "metadata": {},
   "source": [
    "# Agenda: Day 4, Functions\n",
    "\n",
    "1. Questions\n",
    "2. What are functions?\n",
    "3. Writing/defining simple functions\n",
    "4. Arguments and parameters\n",
    "5. Redefining functions\n",
    "6. Return values\n",
    "7. Complex return values\n",
    "8. Default argument values\n",
    "9. Local vs. global variables"
   ]
  },
  {
   "cell_type": "markdown",
   "metadata": {},
   "source": [
    "# What are functions?\n",
    "\n",
    "We've been invoking functions since we started this course:\n",
    "\n",
    "- `print`\n",
    "- `input`\n",
    "- `len`\n",
    "- `sum`\n",
    "\n",
    "A function (or a method) is a verb in a programming language. \n",
    "\n",
    "But do we need functions? Do we need to define our own functions?\n",
    "\n",
    "The answer is \"no, but it's a good idea.\""
   ]
  },
  {
   "cell_type": "markdown",
   "metadata": {},
   "source": [
    "# Abstraction\n",
    "\n",
    "The idea of \"abstraction\" is that we can hide the details of something and give it a name -- and thus be able to think about it, and refer to it, at a higher level.\n",
    "\n",
    "Just as in the examples of cars, omelettes, and bridges, when we write software, we want to think at a higher level. We thus take a number of lower-level actions and wrap them up in a new function, with a new name. We can then talk about that action, and it becomes the base for even higher-level actions. We just keep building higher and higher and higher.\n",
    "\n",
    "When we define a function, we are similarly (a) abstracting away the details of the function and (b) giving ourselves a new vocabulary word that we can use to communicate, both with ourselves and with others."
   ]
  },
  {
   "cell_type": "markdown",
   "metadata": {},
   "source": [
    "# Defining a function\n",
    "\n",
    "We define functions in Python using the `def` keyword. Here are the parts of a function defintion (for now):\n",
    "\n",
    "- We start with `def`\n",
    "- Then we give the function a name\n",
    "- After that, we give `()` -- which we'll later fill in a bit\n",
    "- Then we have `:` at the end of the line, meaning that the next line starts an indented block\n",
    "- Then we have an indented block, the \"function body\"\n",
    "    - It can be of any length\n",
    "    - It can contain any code we want\n",
    "- When the indentation ends, the function definition is complete."
   ]
  },
  {
   "cell_type": "code",
   "execution_count": 2,
   "metadata": {},
   "outputs": [],
   "source": [
    "def hello():\n",
    "    print(f'Hello!')"
   ]
  },
  {
   "cell_type": "code",
   "execution_count": 3,
   "metadata": {},
   "outputs": [
    {
     "name": "stdout",
     "output_type": "stream",
     "text": [
      "Hello!\n"
     ]
    }
   ],
   "source": [
    "# in order to run the function, we need to name it and put () after its name\n",
    "\n",
    "hello()"
   ]
  },
  {
   "cell_type": "code",
   "execution_count": 4,
   "metadata": {},
   "outputs": [],
   "source": [
    "def hello():\n",
    "    name = input('Enter your name: ').strip()\n",
    "    print(f'Hello, {name}!')"
   ]
  },
  {
   "cell_type": "code",
   "execution_count": 6,
   "metadata": {},
   "outputs": [
    {
     "name": "stdin",
     "output_type": "stream",
     "text": [
      "Enter your name:  whoever\n"
     ]
    },
    {
     "name": "stdout",
     "output_type": "stream",
     "text": [
      "Hello, whoever!\n"
     ]
    }
   ],
   "source": [
    "hello()"
   ]
  },
  {
   "cell_type": "markdown",
   "metadata": {},
   "source": [
    "# Exercise: Calculator\n",
    "\n",
    "1. Write a function, `calc`, that when invoked asks the user to enter three pieces of information:\n",
    "    - `first`, an integer\n",
    "    - `op`, a string that's either `'+'` or `'-'`\n",
    "    - `second`, another integer\n",
    "2. The function then calculates the sum or difference\n",
    "3. The function prints, on the screen, the full expression including the result.\n",
    "4. If the person enters non-integers or a bad operator, then scold them.\n",
    "\n",
    "Example:\n",
    "\n",
    "    calc()\n",
    "    Enter first: 10\n",
    "    Enter op: +\n",
    "    Enter second: 3\n",
    "    10 + 3 = 13\n",
    "\n",
    "    "
   ]
  },
  {
   "cell_type": "code",
   "execution_count": null,
   "metadata": {},
   "outputs": [],
   "source": [
    "def calc():\n",
    "    first = input('Enter first: ').strip()\n",
    "    op = input('Enter op: ':).strip()\n",
    "    second = input('Enter second: ').strip()\n",
    "\n",
    "    first = int(first)\n",
    "    second = int(second)\n",
    "\n",
    "    if op == '+':\n",
    "        result = first + second\n",
    "    elif op == '-':\n",
    "        result = first - second\n",
    "    else:\n",
    "        result = f'(Bad operator {op})'\n",
    "\n",
    "    print(f'{first} {op} {')"
   ]
  }
 ],
 "metadata": {
  "kernelspec": {
   "display_name": "Python 3 (ipykernel)",
   "language": "python",
   "name": "python3"
  },
  "language_info": {
   "codemirror_mode": {
    "name": "ipython",
    "version": 3
   },
   "file_extension": ".py",
   "mimetype": "text/x-python",
   "name": "python",
   "nbconvert_exporter": "python",
   "pygments_lexer": "ipython3",
   "version": "3.13.2"
  }
 },
 "nbformat": 4,
 "nbformat_minor": 4
}
