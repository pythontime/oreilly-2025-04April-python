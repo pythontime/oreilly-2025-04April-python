{
 "cells": [
  {
   "cell_type": "markdown",
   "metadata": {},
   "source": [
    "# Agenda: Day 4, Functions\n",
    "\n",
    "1. Questions\n",
    "2. What are functions?\n",
    "3. Writing/defining simple functions\n",
    "4. Arguments and parameters\n",
    "5. Redefining functions\n",
    "6. Return values\n",
    "7. Complex return values\n",
    "8. Default argument values\n",
    "9. Local vs. global variables"
   ]
  },
  {
   "cell_type": "markdown",
   "metadata": {},
   "source": [
    "# What are functions?\n",
    "\n",
    "We've been invoking functions since we started this course:\n",
    "\n",
    "- `print`\n",
    "- `input`\n",
    "- `len`\n",
    "- `sum`\n",
    "\n",
    "A function (or a method) is a verb in a programming language. \n",
    "\n",
    "But do we need functions? Do we need to define our own functions?\n",
    "\n",
    "The answer is \"no, but it's a good idea.\""
   ]
  },
  {
   "cell_type": "markdown",
   "metadata": {},
   "source": [
    "# Abstraction\n",
    "\n",
    "The idea of \"abstraction\" is that we can hide the details of something and give it a name -- and thus be able to think about it, and refer to it, at a higher level.\n",
    "\n",
    "Just as in the examples of cars, omelettes, and bridges, when we write software, we want to think at a higher level. We thus take a number of lower-level actions and wrap them up in a new function, with a new name. We can then talk about that action, and it becomes the base for even higher-level actions. We just keep building higher and higher and higher.\n",
    "\n",
    "When we define a function, we are similarly (a) abstracting away the details of the function and (b) giving ourselves a new vocabulary word that we can use to communicate, both with ourselves and with others."
   ]
  },
  {
   "cell_type": "markdown",
   "metadata": {},
   "source": [
    "# Defining a function\n",
    "\n",
    "We define functions in Python using the `def` keyword. Here are the parts of a function defintion (for now):\n",
    "\n",
    "- We start with `def`\n",
    "- Then we give the function a name\n",
    "- After that, we give `()` -- which we'll later fill in a bit\n",
    "- Then we have `:` at the end of the line, meaning that the next line starts an indented block\n",
    "- Then we have an indented block, the \"function body\"\n",
    "    - It can be of any length\n",
    "    - It can contain any code we want\n",
    "- When the indentation ends, the function definition is complete."
   ]
  },
  {
   "cell_type": "code",
   "execution_count": 2,
   "metadata": {},
   "outputs": [],
   "source": [
    "def hello():\n",
    "    print(f'Hello!')"
   ]
  },
  {
   "cell_type": "code",
   "execution_count": 3,
   "metadata": {},
   "outputs": [
    {
     "name": "stdout",
     "output_type": "stream",
     "text": [
      "Hello!\n"
     ]
    }
   ],
   "source": [
    "# in order to run the function, we need to name it and put () after its name\n",
    "\n",
    "hello()"
   ]
  },
  {
   "cell_type": "code",
   "execution_count": 4,
   "metadata": {},
   "outputs": [],
   "source": [
    "def hello():\n",
    "    name = input('Enter your name: ').strip()\n",
    "    print(f'Hello, {name}!')"
   ]
  },
  {
   "cell_type": "code",
   "execution_count": 6,
   "metadata": {},
   "outputs": [
    {
     "name": "stdin",
     "output_type": "stream",
     "text": [
      "Enter your name:  whoever\n"
     ]
    },
    {
     "name": "stdout",
     "output_type": "stream",
     "text": [
      "Hello, whoever!\n"
     ]
    }
   ],
   "source": [
    "hello()"
   ]
  },
  {
   "cell_type": "markdown",
   "metadata": {},
   "source": [
    "# Exercise: Calculator\n",
    "\n",
    "1. Write a function, `calc`, that when invoked asks the user to enter three pieces of information:\n",
    "    - `first`, an integer\n",
    "    - `op`, a string that's either `'+'` or `'-'`\n",
    "    - `second`, another integer\n",
    "2. The function then calculates the sum or difference\n",
    "3. The function prints, on the screen, the full expression including the result.\n",
    "4. If the person enters non-integers or a bad operator, then scold them.\n",
    "\n",
    "Example:\n",
    "\n",
    "    calc()\n",
    "    Enter first: 10\n",
    "    Enter op: +\n",
    "    Enter second: 3\n",
    "    10 + 3 = 13\n",
    "\n",
    "    "
   ]
  },
  {
   "cell_type": "code",
   "execution_count": 10,
   "metadata": {},
   "outputs": [],
   "source": [
    "def calc():\n",
    "    first = input('Enter first: ').strip()\n",
    "    op = input('Enter op: ').strip()\n",
    "    second = input('Enter second: ').strip()\n",
    "\n",
    "    if first.isdigit() and second.isdigit():\n",
    "\n",
    "        first = int(first)\n",
    "        second = int(second)\n",
    "    \n",
    "        if op == '+':\n",
    "            result = first + second\n",
    "        elif op == '-':\n",
    "            result = first - second\n",
    "        else:\n",
    "            result = f'(Bad operator {op})'\n",
    "    \n",
    "        print(f'{first} {op} {second} = {result}')\n",
    "\n",
    "    else:\n",
    "        print(f'{first} and {second} both need to be numeric; try again!')"
   ]
  },
  {
   "cell_type": "code",
   "execution_count": 11,
   "metadata": {},
   "outputs": [
    {
     "name": "stdin",
     "output_type": "stream",
     "text": [
      "Enter first:  10\n",
      "Enter op:  +\n",
      "Enter second:  5\n"
     ]
    },
    {
     "name": "stdout",
     "output_type": "stream",
     "text": [
      "10 + 5 = 15\n"
     ]
    }
   ],
   "source": [
    "calc()"
   ]
  },
  {
   "cell_type": "code",
   "execution_count": 12,
   "metadata": {},
   "outputs": [
    {
     "name": "stdin",
     "output_type": "stream",
     "text": [
      "Enter first:  10\n",
      "Enter op:  -\n",
      "Enter second:  hello\n"
     ]
    },
    {
     "name": "stdout",
     "output_type": "stream",
     "text": [
      "10 and hello both need to be numeric; try again!\n"
     ]
    }
   ],
   "source": [
    "calc()"
   ]
  },
  {
   "cell_type": "code",
   "execution_count": 13,
   "metadata": {},
   "outputs": [
    {
     "name": "stdin",
     "output_type": "stream",
     "text": [
      "Enter first:  10\n",
      "Enter op:  *\n",
      "Enter second:  5\n"
     ]
    },
    {
     "name": "stdout",
     "output_type": "stream",
     "text": [
      "10 * 5 = (Bad operator *)\n"
     ]
    }
   ],
   "source": [
    "calc()"
   ]
  },
  {
   "cell_type": "code",
   "execution_count": 14,
   "metadata": {},
   "outputs": [
    {
     "name": "stdin",
     "output_type": "stream",
     "text": [
      "Enter the first number:  2\n",
      "Enter the operator:  *\n",
      "Enter the second number:  9\n"
     ]
    },
    {
     "name": "stdout",
     "output_type": "stream",
     "text": [
      "2 * 9 = 18\n"
     ]
    }
   ],
   "source": [
    "# VR\n",
    "\n",
    "def calc():\n",
    "  first = int(input(\"Enter the first number: \"))\n",
    "  op = input(\"Enter the operator: \")\n",
    "  second = int(input(\"Enter the second number: \"))\n",
    "  if op == '+':\n",
    "    result = first + second\n",
    "  elif op == '-':\n",
    "    result = first - second\n",
    "  elif op == '*':\n",
    "    result = first * second\n",
    "  elif op == '/':\n",
    "    result = first / second\n",
    "  else:\n",
    "    result = \"Invalid operator\"\n",
    "  print(f'{first} {op} {second} = {result}')\n",
    "\n",
    "calc()"
   ]
  },
  {
   "cell_type": "code",
   "execution_count": 15,
   "metadata": {},
   "outputs": [],
   "source": [
    "# MJ\n",
    "\n",
    "def calc():\n",
    "  first_number = input(\"Enter a number:\").strip()\n",
    "  operator = input(\"Enter a operator (+ or -):\").strip()\n",
    "  second_number = input(\"Enter a number:\").strip()\n",
    "\n",
    "  if not first_number.isdigit() or not second_number.isdigit():\n",
    "    print(\"you didn't provide a digit\")\n",
    "\n",
    "  else:\n",
    "      if(operator) == \"+\":\n",
    "        answer = int(first_number) + int(second_number)\n",
    "      else:\n",
    "        answer = int(first_number) - int(second_number)\n",
    "    \n",
    "      print(f\"{first_number} {operator} {second_number} = {answer}\")"
   ]
  },
  {
   "cell_type": "code",
   "execution_count": 16,
   "metadata": {},
   "outputs": [
    {
     "name": "stdin",
     "output_type": "stream",
     "text": [
      "Enter a number: 20\n",
      "Enter a operator (+ or -): -\n",
      "Enter a number: 7\n"
     ]
    },
    {
     "name": "stdout",
     "output_type": "stream",
     "text": [
      "20 - 7 = 13\n"
     ]
    }
   ],
   "source": [
    "calc()"
   ]
  },
  {
   "cell_type": "markdown",
   "metadata": {},
   "source": [
    "# Arguments and parameters\n",
    "\n",
    "When we invoke a function, we can pass one or more \"arguments,\" values that the function will get, and will use in its calculations. Arguments are values, and they are assigned to *parameters*, which are variables.\n",
    "\n",
    "When we define a function, we can put one or more parameter names inside of the `()` on the `def` line. Each of those names is a parameter -- a variable that will get the value of the corresponding argument."
   ]
  },
  {
   "cell_type": "code",
   "execution_count": 17,
   "metadata": {},
   "outputs": [],
   "source": [
    "# in this function, \"name\" is a parameter\n",
    "# the function takes a single argument, which is assigned to that parameter \"name\"\n",
    "# before the function's body ever starts to run, \"name\" is assigned a value\n",
    "# trying to invoke the function without an argument for \"name\" results in an error\n",
    "\n",
    "def hello(name):\n",
    "    return f'Hello, {name}!'"
   ]
  },
  {
   "cell_type": "code",
   "execution_count": 18,
   "metadata": {},
   "outputs": [
    {
     "data": {
      "text/plain": [
       "'Hello, world!'"
      ]
     },
     "execution_count": 18,
     "metadata": {},
     "output_type": "execute_result"
    }
   ],
   "source": [
    "# parameters:   name\n",
    "# arguments:    'world'\n",
    "\n",
    "hello('world')"
   ]
  },
  {
   "cell_type": "code",
   "execution_count": 19,
   "metadata": {},
   "outputs": [
    {
     "ename": "TypeError",
     "evalue": "hello() missing 1 required positional argument: 'name'",
     "output_type": "error",
     "traceback": [
      "\u001b[31m---------------------------------------------------------------------------\u001b[39m",
      "\u001b[31mTypeError\u001b[39m                                 Traceback (most recent call last)",
      "\u001b[36mCell\u001b[39m\u001b[36m \u001b[39m\u001b[32mIn[19]\u001b[39m\u001b[32m, line 1\u001b[39m\n\u001b[32m----> \u001b[39m\u001b[32m1\u001b[39m \u001b[43mhello\u001b[49m\u001b[43m(\u001b[49m\u001b[43m)\u001b[49m   \u001b[38;5;66;03m# what if I call the function without any arguments?\u001b[39;00m\n",
      "\u001b[31mTypeError\u001b[39m: hello() missing 1 required positional argument: 'name'"
     ]
    }
   ],
   "source": [
    "hello()   # what if I call the function without any arguments?"
   ]
  },
  {
   "cell_type": "markdown",
   "metadata": {},
   "source": [
    "# Arguments and parameters\n",
    "\n",
    "In Python, you get *one* chance to define a function. If you redefine a function, then the old definition goes away.\n",
    "\n",
    "In some languages, you can define a function multiple times, each with a different number of parameters. When you invoke the function, the language matches up your invocation with the appropriate version of the function.\n",
    "\n",
    "Python does **NOT** do this at all! The most recent definition of a function is the one that is currently used.\n",
    "\n",
    "This is partly because when we define a function, we're really defining a variable! `def XYZ` assigns the function value to the variable `XYZ`. Just as you cannot say `x=5` and then `x=10` and expect Python to remember that once, `x` was `5`.. in the same you, you can't expect Python to remember that once, we took zero arguments."
   ]
  },
  {
   "cell_type": "markdown",
   "metadata": {},
   "source": [
    "# Exercise: `calc` with arugments\n",
    "\n",
    "Restructure/rewrite the `calc` function, such that it no longer asks the user to `input` three times. Rather, the function should take three arguments, which are then assigned to three parameters (i.e., variables) -- `first`, `op`, and `second`, which are then used in the function.\n",
    "\n",
    "You can assume that the caller of the function passes integers and strings -- the right types."
   ]
  },
  {
   "cell_type": "code",
   "execution_count": 20,
   "metadata": {},
   "outputs": [],
   "source": [
    "def calc(first, op, second):\n",
    "    if op == '+':\n",
    "        result = first + second\n",
    "    elif op == '-':\n",
    "        result = first - second\n",
    "    else:\n",
    "        result = f'(Bad operator {op})'\n",
    "\n",
    "    print(f'{first} {op} {second} = {result}')\n"
   ]
  },
  {
   "cell_type": "code",
   "execution_count": 21,
   "metadata": {},
   "outputs": [
    {
     "name": "stdout",
     "output_type": "stream",
     "text": [
      "10 + 3 = 13\n"
     ]
    }
   ],
   "source": [
    "calc(10, '+', 3)"
   ]
  },
  {
   "cell_type": "code",
   "execution_count": 22,
   "metadata": {},
   "outputs": [
    {
     "name": "stdout",
     "output_type": "stream",
     "text": [
      "234 - 567 = -333\n"
     ]
    }
   ],
   "source": [
    "calc(234, '-', 567)"
   ]
  },
  {
   "cell_type": "code",
   "execution_count": 23,
   "metadata": {},
   "outputs": [
    {
     "name": "stdout",
     "output_type": "stream",
     "text": [
      "0 + 0 = 0\n",
      "1 + 3 = 4\n",
      "2 + 6 = 8\n",
      "3 + 9 = 12\n",
      "4 + 12 = 16\n",
      "5 + 15 = 20\n",
      "6 + 18 = 24\n",
      "7 + 21 = 28\n",
      "8 + 24 = 32\n",
      "9 + 27 = 36\n"
     ]
    }
   ],
   "source": [
    "for i in range(10):\n",
    "    calc(i, '+', i*3)"
   ]
  },
  {
   "cell_type": "code",
   "execution_count": 24,
   "metadata": {},
   "outputs": [
    {
     "data": {
      "text/plain": [
       "50"
      ]
     },
     "execution_count": 24,
     "metadata": {},
     "output_type": "execute_result"
    }
   ],
   "source": [
    "# VR\n",
    "\n",
    "def calc(first, op, second):\n",
    "  if op == '+':\n",
    "    return first + second\n",
    "  elif op == '-':\n",
    "    return first - second\n",
    "  else:\n",
    "    return \"Invalid operator. Please use + or -.\"\n",
    "    \n",
    "calc(20, '+', 30)"
   ]
  },
  {
   "cell_type": "markdown",
   "metadata": {},
   "source": [
    "Can we force certain types for our values? That is: Can we ensure that someone calling `calc` is really passing us two integers and a string?\n",
    "\n",
    "In many programming languages, we *can* do that: We can say that this parameter must be a string, and that parameter must be an integer. If someone tries to call the function with the wrong value type, they will get an error -- the function cannot be called that way.\n",
    "\n",
    "Python doesn't have this. It is a dynamically typed language, which means that any value, of any type, can be assigned to any variable. There is a newish system called \"type annotations\" that, together with an editor or outside program (e.g., mypy), can enforce such things. But the Python language itself doesn't."
   ]
  },
  {
   "cell_type": "code",
   "execution_count": 25,
   "metadata": {},
   "outputs": [],
   "source": [
    "def hello(name):\n",
    "    print(f'Hello, {name}!')"
   ]
  },
  {
   "cell_type": "code",
   "execution_count": 26,
   "metadata": {},
   "outputs": [
    {
     "name": "stdout",
     "output_type": "stream",
     "text": [
      "Hello, world!\n"
     ]
    }
   ],
   "source": [
    "hello('world')"
   ]
  },
  {
   "cell_type": "code",
   "execution_count": 27,
   "metadata": {},
   "outputs": [
    {
     "name": "stdout",
     "output_type": "stream",
     "text": [
      "Hello, 5!\n"
     ]
    }
   ],
   "source": [
    "hello(5)"
   ]
  },
  {
   "cell_type": "code",
   "execution_count": 28,
   "metadata": {},
   "outputs": [
    {
     "name": "stdout",
     "output_type": "stream",
     "text": [
      "Hello, [10, 20, 30]!\n"
     ]
    }
   ],
   "source": [
    "hello([10, 20, 30])"
   ]
  },
  {
   "cell_type": "code",
   "execution_count": 29,
   "metadata": {},
   "outputs": [
    {
     "name": "stdout",
     "output_type": "stream",
     "text": [
      "Hello, <function hello at 0x10e50f2e0>!\n"
     ]
    }
   ],
   "source": [
    "hello(hello)  # passed the function as an argument to itself!"
   ]
  },
  {
   "cell_type": "markdown",
   "metadata": {},
   "source": [
    "# Exercise: Count vowels\n",
    "\n",
    "1. Write a function, `count_vowels`, that takes a single argument, `text`, a string.\n",
    "2. The function will print how many times each vowel (a, e, i, o, u) appears in the input text.\n",
    "3. I suggest creating a dict whose keys are the vowels and whose values are all 0, then iterating with a `for` loop through `text`, adding 1 if the current character is a vowel.\n",
    "4. The function should, before finishing, iterate over the dict and print each vowel and its count.\n",
    "\n",
    "Example:\n",
    "\n",
    "    count_vowels('goodbye')\n",
    "    a: 0\n",
    "    e: 1\n",
    "    i: 0\n",
    "    o: 2\n",
    "    u: 0"
   ]
  },
  {
   "cell_type": "code",
   "execution_count": null,
   "metadata": {},
   "outputs": [],
   "source": []
  }
 ],
 "metadata": {
  "kernelspec": {
   "display_name": "Python 3 (ipykernel)",
   "language": "python",
   "name": "python3"
  },
  "language_info": {
   "codemirror_mode": {
    "name": "ipython",
    "version": 3
   },
   "file_extension": ".py",
   "mimetype": "text/x-python",
   "name": "python",
   "nbconvert_exporter": "python",
   "pygments_lexer": "ipython3",
   "version": "3.13.2"
  }
 },
 "nbformat": 4,
 "nbformat_minor": 4
}
