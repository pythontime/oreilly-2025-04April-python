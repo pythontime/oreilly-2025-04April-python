{
 "cells": [
  {
   "cell_type": "markdown",
   "metadata": {},
   "source": [
    "# Agenda: Day 4, Functions\n",
    "\n",
    "1. Questions\n",
    "2. What are functions?\n",
    "3. Writing/defining simple functions\n",
    "4. Arguments and parameters\n",
    "5. Redefining functions\n",
    "6. Return values\n",
    "7. Complex return values\n",
    "8. Default argument values\n",
    "9. Local vs. global variables"
   ]
  },
  {
   "cell_type": "markdown",
   "metadata": {},
   "source": [
    "# What are functions?\n",
    "\n",
    "We've been invoking functions since we started this course:\n",
    "\n",
    "- `print`\n",
    "- `input`\n",
    "- `len`\n",
    "- `sum`\n",
    "\n",
    "A function (or a method) is a verb in a programming language. \n",
    "\n",
    "But do we need functions? Do we need to define our own functions?\n",
    "\n",
    "The answer is \"no, but it's a good idea.\""
   ]
  },
  {
   "cell_type": "markdown",
   "metadata": {},
   "source": [
    "# Abstraction\n",
    "\n",
    "The idea of \"abstraction\" is that we can hide the details of something and give it a name -- and thus be able to think about it, and refer to it, at a higher level.\n",
    "\n",
    "Just as in the examples of cars, omelettes, and bridges, when we write software, we want to think at a higher level. We thus take a number of lower-level actions and wrap them up in a new function, with a new name. We can then talk about that action, and it becomes the base for even higher-level actions. We just keep building higher and higher and higher.\n",
    "\n",
    "When we define a function, we are similarly (a) abstracting away the details of the function and (b) giving ourselves a new vocabulary word that we can use to communicate, both with ourselves and with others."
   ]
  },
  {
   "cell_type": "markdown",
   "metadata": {},
   "source": [
    "# Defining a function\n",
    "\n",
    "We define functions in Python using the `def` keyword. Here are the parts of a function defintion (for now):\n",
    "\n",
    "- We start with `def`\n",
    "- Then we give the function a name\n",
    "- After that, we give `()` -- which we'll later fill in a bit\n",
    "- Then we have `:` at the end of the line, meaning that the next line starts an indented block\n",
    "- Then we have an indented block, the \"function body\"\n",
    "    - It can be of any length\n",
    "    - It can contain any code we want\n",
    "- When the indentation ends, the function definition is complete."
   ]
  },
  {
   "cell_type": "code",
   "execution_count": null,
   "metadata": {},
   "outputs": [],
   "source": []
  }
 ],
 "metadata": {
  "kernelspec": {
   "display_name": "Python 3 (ipykernel)",
   "language": "python",
   "name": "python3"
  },
  "language_info": {
   "codemirror_mode": {
    "name": "ipython",
    "version": 3
   },
   "file_extension": ".py",
   "mimetype": "text/x-python",
   "name": "python",
   "nbconvert_exporter": "python",
   "pygments_lexer": "ipython3",
   "version": "3.13.2"
  }
 },
 "nbformat": 4,
 "nbformat_minor": 4
}
