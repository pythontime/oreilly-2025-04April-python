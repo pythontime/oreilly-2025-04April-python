{
 "cells": [
  {
   "cell_type": "code",
   "execution_count": null,
   "id": "d9c014cd-73cf-4fbd-b26c-bd79bf9ced70",
   "metadata": {},
   "outputs": [],
   "source": []
  }
 ],
 "metadata": {
  "kernelspec": {
   "display_name": "",
   "name": ""
  },
  "language_info": {
   "name": ""
  }
 },
 "nbformat": 4,
 "nbformat_minor": 5
}
