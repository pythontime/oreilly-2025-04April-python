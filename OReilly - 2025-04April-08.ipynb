{
 "cells": [
  {
   "cell_type": "markdown",
   "metadata": {},
   "source": [
    "# Agenda: Day 2, \"Loops, lists, and tuples\"\n",
    "\n",
    "1. Q&A\n",
    "2. Loops\n",
    "    - `for` loops\n",
    "    - Controlling our loops\n",
    "    - Where's the index?\n",
    "    - `while` loops\n",
    "4. Lists\n",
    "    - What are they?\n",
    "    - How are they similar to (and different from) strings?\n",
    "    - Lists are *mutable*\n",
    "    - List methods\n",
    "5. Strings to lists, and back\n",
    "    - `str.split` method, which gives us a list based on a string\n",
    "    - `str.join` method, which gives us a string based on a list\n",
    "5. Tuples\n",
    "    - What are they?\n",
    "    - How are they different from (and similar to) strings and lists?\n",
    "    - Tuple unpacking"
   ]
  },
  {
   "cell_type": "markdown",
   "metadata": {},
   "source": [
    "# DRY -- \"don't repeat yourself\"\n",
    "\n",
    "When we write programs, we try to avoid repeating ourselves. If we can have the computer repeat things for us, then we can save our time, and think important thoughts."
   ]
  },
  {
   "cell_type": "code",
   "execution_count": 1,
   "metadata": {},
   "outputs": [
    {
     "name": "stdout",
     "output_type": "stream",
     "text": [
      "a\n",
      "b\n",
      "c\n",
      "d\n"
     ]
    }
   ],
   "source": [
    "# let's print all of the letters 'abcd'\n",
    "\n",
    "s = 'abcd'\n",
    "print(s[0])\n",
    "print(s[1])\n",
    "print(s[2])\n",
    "print(s[3])"
   ]
  },
  {
   "cell_type": "markdown",
   "metadata": {},
   "source": [
    "# Unfortunately, this works!\n",
    "\n",
    "But it also violates the \"DRY rule\" -- we basically repeated the same thing (or almost the same thing) in lines 4, 5, 6, and 7. \n",
    "\n",
    "The way that we can ask Python to repeat something for us is with a \"loop.\"\n",
    "\n",
    "Python supports two types of loops:\n",
    "\n",
    "- `for` loops -- more common\n",
    "- `while` loops\n",
    "\n",
    "The idea of a `for` loop is: Perform the same action for each element of a collection. In the case of a string, it's a collection of charcters. So we'll repeat the same action for each character."
   ]
  },
  {
   "cell_type": "code",
   "execution_count": 4,
   "metadata": {},
   "outputs": [
    {
     "name": "stdout",
     "output_type": "stream",
     "text": [
      "Begin\n",
      "a\n",
      "b\n",
      "c\n",
      "d\n",
      "End\n"
     ]
    }
   ],
   "source": [
    "s = 'abcd'\n",
    "\n",
    "print('Begin')\n",
    "for one_character in s:\n",
    "    print(one_character)\n",
    "print('End')    "
   ]
  },
  {
   "cell_type": "markdown",
   "metadata": {},
   "source": [
    "# What's going on here?\n",
    "\n",
    "## Syntax\n",
    "- `for` at the start of the line\n",
    "- a variable, the \"loop variable\" or \"iterating variable,\" after that (here, that's `one_character`)\n",
    "- then the word `in`\n",
    "- the collection that we'll iterate over, or loop over (here, that's `s`)\n",
    "- Then we have a `:` at the end of the line\n",
    "- The next line starts an indented block, and the block continues until we stop that indentation\n",
    "- The loop body, aka the block, can contain *ANY* Python code we want.\n",
    "\n",
    "## What's really happening?\n",
    "1. The `for` loop turns to `s`, the value at the end of the line, and asks it: Are you iterable? Meaning: Do you know how to behave inside of a `for` loop?\n",
    "    - If the answer is \"no,\" we get an error, and the program ends\n",
    "2. `for` asks the value for its next value\n",
    "    - If there are no more values, then the loop exits\n",
    "3. The next value is assigned to our loop variable (here, `one_character`)\n",
    "4. The loop body executes\n",
    "5. When the loop body is done, we go back to step 2\n",
    "\n",
    "Two things to notice:\n",
    "1. If you've ever used another language before, you might be wondering what happened to the index. Don't we need to count where we are in `s`? Answer: No! Python does this for us. We just want to get the string, one character at a time. (We'll come back to this point later.)\n",
    "2. Are we getting one character at a time because we called our loop variable `one_character`? No! We called the variable `one_character` because we knew (or I knew) that a string gives us one character at a time."
   ]
  },
  {
   "cell_type": "markdown",
   "metadata": {},
   "source": [
    "# When do we need to use loops?\n",
    "\n",
    "There are *lots* of values in Python that know how to behave inside of a loop:\n",
    "\n",
    "- Directory listings (files in a directory)\n",
    "- Names in a database record\n",
    "- Medical exams for a particular patient"
   ]
  },
  {
   "cell_type": "markdown",
   "metadata": {},
   "source": [
    "# Exercise: Vowels, digits, and others\n",
    "\n",
    "1. Define three variables, `vowels`, `digits`, and `others`, all to be 0.\n",
    "2. Ask the user (with `input`) to enter a string.\n",
    "3. Go through each character in the string with a `for` loop:\n",
    "    - If the character is a vowel (aeiou), then add 1 to `vowels` -- use `in`\n",
    "    - If the character is a digit (0-9), then add 1 to `digits` -- use `.isdigit()`, a string method\n",
    "    - Otherwise, add 1 to `others`\n",
    "4. Print `vowels`, `digits`, and `others`\n",
    "\n",
    "Example:\n",
    "\n",
    "    Enter a string: hello!! 123\n",
    "    vowels: 2\n",
    "    digits: 3\n",
    "    others: 6"
   ]
  },
  {
   "cell_type": "code",
   "execution_count": 6,
   "metadata": {},
   "outputs": [
    {
     "name": "stdin",
     "output_type": "stream",
     "text": [
      "Enter text:  hello!! 123\n"
     ]
    },
    {
     "name": "stdout",
     "output_type": "stream",
     "text": [
      "vowels = 2\n",
      "digits = 3\n",
      "others = 6\n"
     ]
    }
   ],
   "source": [
    "vowels = 0\n",
    "digits = 0\n",
    "others = 0\n",
    "\n",
    "text = input('Enter text: ').strip()\n",
    "\n",
    "for one_character in text:\n",
    "    if one_character in 'aeiou':    # if one_character is a vowel...\n",
    "        vowels += 1                 # ... add 1 to the vowels variable\n",
    "    elif one_character.isdigit():   # if one_character is a digit...\n",
    "        digits += 1                 # ... add 1 to the digits variable\n",
    "    else:\n",
    "        others += 1                 # add 1 to others if neither of the previous 2 conditions was true\n",
    "\n",
    "print(f'vowels = {vowels}')        \n",
    "print(f'digits = {digits}')\n",
    "print(f'others = {others}')"
   ]
  },
  {
   "cell_type": "code",
   "execution_count": null,
   "metadata": {},
   "outputs": [],
   "source": [
    "# U1\n",
    "\n",
    "text = input('Enter a string').strip\n"
   ]
  },
  {
   "cell_type": "code",
   "execution_count": 10,
   "metadata": {},
   "outputs": [
    {
     "name": "stdin",
     "output_type": "stream",
     "text": [
      "Enter the string :  hello!! 123\n"
     ]
    },
    {
     "name": "stdout",
     "output_type": "stream",
     "text": [
      "Vowels :  2\n",
      "Digits :  3\n",
      "Others :  6\n"
     ]
    }
   ],
   "source": [
    "# VR\n",
    "\n",
    "vowels = 0\n",
    "digits = 0\n",
    "others = 0\n",
    "\n",
    "user_input = input(\"Enter the string : \").strip()\n",
    "\n",
    "for i in user_input:\n",
    "    if i in 'aeiouAEIOU':\n",
    "        vowels = vowels + 1 \n",
    "    elif i.isdigit(): \n",
    "        digits = digits + 1\n",
    "    else:\n",
    "        others = others + 1\n",
    "\n",
    "print(\"Vowels : \", vowels) \n",
    "print(\"Digits : \", digits)\n",
    "print(\"Others : \", others)"
   ]
  },
  {
   "cell_type": "markdown",
   "metadata": {},
   "source": [
    "# str.isdigit()\n",
    "\n",
    "`str.isdigit()` is a string method -- that is, we can only run it on a string -- and it returns `True` if the string contains only digits (i.e., 0-9) and isn't empty. You can think of it as a method that tells us whether we can turn our string into an integer."
   ]
  },
  {
   "cell_type": "code",
   "execution_count": 11,
   "metadata": {},
   "outputs": [
    {
     "data": {
      "text/plain": [
       "True"
      ]
     },
     "execution_count": 11,
     "metadata": {},
     "output_type": "execute_result"
    }
   ],
   "source": [
    "'123'.isdigit()"
   ]
  },
  {
   "cell_type": "code",
   "execution_count": 12,
   "metadata": {},
   "outputs": [
    {
     "data": {
      "text/plain": [
       "False"
      ]
     },
     "execution_count": 12,
     "metadata": {},
     "output_type": "execute_result"
    }
   ],
   "source": [
    "'!123'.isdigit()"
   ]
  },
  {
   "cell_type": "markdown",
   "metadata": {},
   "source": [
    "# What if we want to iterate a number of times?\n",
    "\n",
    "It's great that we can iterate over the characters of a string. But sometimes, I just want to perform an action a few times.\n",
    "\n",
    "For example, can I print \"Hooray!\" three times?"
   ]
  },
  {
   "cell_type": "code",
   "execution_count": 13,
   "metadata": {},
   "outputs": [
    {
     "name": "stdout",
     "output_type": "stream",
     "text": [
      "Hooray!\n",
      "Hooray!\n",
      "Hooray!\n"
     ]
    }
   ],
   "source": [
    "print('Hooray!')\n",
    "print('Hooray!')\n",
    "print('Hooray!')"
   ]
  },
  {
   "cell_type": "code",
   "execution_count": 14,
   "metadata": {},
   "outputs": [
    {
     "ename": "TypeError",
     "evalue": "'int' object is not iterable",
     "output_type": "error",
     "traceback": [
      "\u001b[31m---------------------------------------------------------------------------\u001b[39m",
      "\u001b[31mTypeError\u001b[39m                                 Traceback (most recent call last)",
      "\u001b[36mCell\u001b[39m\u001b[36m \u001b[39m\u001b[32mIn[14]\u001b[39m\u001b[32m, line 1\u001b[39m\n\u001b[32m----> \u001b[39m\u001b[32m1\u001b[39m \u001b[38;5;28;43;01mfor\u001b[39;49;00m\u001b[43m \u001b[49m\u001b[43mcounter\u001b[49m\u001b[43m \u001b[49m\u001b[38;5;129;43;01min\u001b[39;49;00m\u001b[43m \u001b[49m\u001b[32;43m3\u001b[39;49m\u001b[43m:\u001b[49m\n\u001b[32m      2\u001b[39m \u001b[43m    \u001b[49m\u001b[38;5;28;43mprint\u001b[39;49m\u001b[43m(\u001b[49m\u001b[33;43m'\u001b[39;49m\u001b[33;43mHooray!\u001b[39;49m\u001b[33;43m'\u001b[39;49m\u001b[43m)\u001b[49m\n",
      "\u001b[31mTypeError\u001b[39m: 'int' object is not iterable"
     ]
    }
   ],
   "source": [
    "# `for` turns to 3 and asks: Are you iterable?\n",
    "# the answer, sadly, is \"no\"\n",
    "\n",
    "for counter in 3:\n",
    "    print('Hooray!')\n"
   ]
  },
  {
   "cell_type": "markdown",
   "metadata": {},
   "source": [
    "# `range`\n",
    "\n",
    "Instead of iterating over `3`, iterate over `range(3)`. This is Python's way of letting us iterate a particular number of times.\n",
    "\n"
   ]
  },
  {
   "cell_type": "code",
   "execution_count": 15,
   "metadata": {},
   "outputs": [
    {
     "name": "stdout",
     "output_type": "stream",
     "text": [
      "Hooray!\n",
      "Hooray!\n",
      "Hooray!\n"
     ]
    }
   ],
   "source": [
    "for counter in range(3):\n",
    "    print('Hooray!')"
   ]
  },
  {
   "cell_type": "code",
   "execution_count": 16,
   "metadata": {},
   "outputs": [
    {
     "name": "stdout",
     "output_type": "stream",
     "text": [
      "0 Hooray!\n",
      "1 Hooray!\n",
      "2 Hooray!\n"
     ]
    }
   ],
   "source": [
    "# wait a second... what is the value of counter in each iteration?\n",
    "\n",
    "for counter in range(3):\n",
    "    print(f'{counter} Hooray!')"
   ]
  },
  {
   "cell_type": "markdown",
   "metadata": {},
   "source": [
    "When we use `range(n)`, we get `n` iterations. The value we get back with each iteration starts with 0, and goes up to `n-1`.\n",
    "\n"
   ]
  },
  {
   "cell_type": "code",
   "execution_count": 17,
   "metadata": {},
   "outputs": [
    {
     "data": {
      "text/plain": [
       "True"
      ]
     },
     "execution_count": 17,
     "metadata": {},
     "output_type": "execute_result"
    }
   ],
   "source": [
    "s = '123'\n",
    "s.isdigit()   # this runs the \"isdigit\" method on s, which contains a string... "
   ]
  },
  {
   "cell_type": "code",
   "execution_count": 18,
   "metadata": {},
   "outputs": [
    {
     "data": {
      "text/plain": [
       "True"
      ]
     },
     "execution_count": 18,
     "metadata": {},
     "output_type": "execute_result"
    }
   ],
   "source": [
    "# I don't need a variable to do that! I can invoke it on a string directly!\n",
    "\n",
    "'123'.isdigit()"
   ]
  },
  {
   "cell_type": "markdown",
   "metadata": {},
   "source": [
    "# Example: Sum 3 digits\n",
    "\n"
   ]
  },
  {
   "cell_type": "code",
   "execution_count": 20,
   "metadata": {},
   "outputs": [
    {
     "name": "stdin",
     "output_type": "stream",
     "text": [
      "Enter number 0:  10\n",
      "Enter number 1:  hello\n"
     ]
    },
    {
     "name": "stdout",
     "output_type": "stream",
     "text": [
      "hello is not numeric; ignoring\n"
     ]
    },
    {
     "name": "stdin",
     "output_type": "stream",
     "text": [
      "Enter number 2:  20\n"
     ]
    },
    {
     "name": "stdout",
     "output_type": "stream",
     "text": [
      "total = 30\n"
     ]
    }
   ],
   "source": [
    "total = 0\n",
    "\n",
    "for counter in range(3):  # range(3) will give us 0, 1, and 2 in that order, with each iteration\n",
    "    s = input(f'Enter number {counter}: ').strip()\n",
    "\n",
    "    if s.isdigit():\n",
    "        total += int(s)   # get an integer from s, and add to total\n",
    "    else:\n",
    "        print(f'{s} is not numeric; ignoring')\n",
    "\n",
    "print(f'total = {total}')"
   ]
  },
  {
   "cell_type": "markdown",
   "metadata": {},
   "source": [
    "# Exercise: Name triangles\n",
    "\n",
    "1. Ask the user to enter their name.\n",
    "2. Print their name as a triangle:\n",
    "    - On the first line, print the first letter\n",
    "    - On the 2nd line, print the first 2 letters\n",
    "    - On the 3rd line, print the first 3 letters\n",
    "    - ...\n",
    "    - On the final line, print all of the letters\n",
    "\n",
    "Hints/reminders:\n",
    "- We can use `range(n)` to iterate `n` times, and that'll give us from 0 to `n-1`\n",
    "- We can use `len(s)` to get the number of characters in a string\n",
    "- We can use a slice of the form `s[x:y]` to get a string based on `s`, starting at index `x`, and ending just before index `y`.\n",
    "- If `y` in a slice goes off the end, that's OK; Python will stop before the end.\n",
    "\n",
    "Example:\n",
    "\n",
    "    Enter your name: Reuven\n",
    "    R\n",
    "    Re\n",
    "    Reu\n",
    "    Reuv\n",
    "    Reuve\n",
    "    Reuven"
   ]
  },
  {
   "cell_type": "code",
   "execution_count": 22,
   "metadata": {},
   "outputs": [
    {
     "name": "stdout",
     "output_type": "stream",
     "text": [
      "R\n",
      "Re\n",
      "Reu\n",
      "Reuv\n",
      "Reuve\n",
      "Reuven\n"
     ]
    }
   ],
   "source": [
    "name = 'Reuven'\n",
    "\n",
    "print(name[:1])\n",
    "print(name[:2])\n",
    "print(name[:3])\n",
    "print(name[:4])\n",
    "print(name[:5])\n",
    "print(name[:6])"
   ]
  },
  {
   "cell_type": "code",
   "execution_count": 28,
   "metadata": {},
   "outputs": [
    {
     "name": "stdin",
     "output_type": "stream",
     "text": [
      "Enter your name:  Ed\n"
     ]
    },
    {
     "name": "stdout",
     "output_type": "stream",
     "text": [
      "E\n",
      "Ed\n"
     ]
    }
   ],
   "source": [
    "name = input('Enter your name: ').strip()\n",
    "\n",
    "for max_index in range(len(name)):\n",
    "    print(name[:max_index+1])"
   ]
  },
  {
   "cell_type": "code",
   "execution_count": 29,
   "metadata": {},
   "outputs": [
    {
     "name": "stdin",
     "output_type": "stream",
     "text": [
      "Enter your name:  Reuven\n"
     ]
    },
    {
     "name": "stdout",
     "output_type": "stream",
     "text": [
      "\n",
      "R\n",
      "Re\n",
      "Reu\n",
      "Reuv\n",
      "Reuve\n",
      "Reuven\n"
     ]
    }
   ],
   "source": [
    "# KM \n",
    "\n",
    "name = input(\"Enter your name: \")\n",
    "\n",
    "for i in range(len(name)+1):\n",
    "    print(name[:i])"
   ]
  },
  {
   "cell_type": "markdown",
   "metadata": {},
   "source": [
    "# Next up\n",
    "\n",
    "- Indexes (and where they are/aren't)\n",
    "- Controlling our loops with `break` and `continue`\n",
    "- `while` loops"
   ]
  },
  {
   "cell_type": "code",
   "execution_count": null,
   "metadata": {},
   "outputs": [],
   "source": []
  }
 ],
 "metadata": {
  "kernelspec": {
   "display_name": "Python 3 (ipykernel)",
   "language": "python",
   "name": "python3"
  },
  "language_info": {
   "codemirror_mode": {
    "name": "ipython",
    "version": 3
   },
   "file_extension": ".py",
   "mimetype": "text/x-python",
   "name": "python",
   "nbconvert_exporter": "python",
   "pygments_lexer": "ipython3",
   "version": "3.13.2"
  }
 },
 "nbformat": 4,
 "nbformat_minor": 4
}
