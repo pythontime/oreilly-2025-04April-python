{
 "cells": [
  {
   "cell_type": "markdown",
   "metadata": {},
   "source": [
    "# Agenda: Day 2, \"Loops, lists, and tuples\"\n",
    "\n",
    "1. Q&A\n",
    "2. Loops\n",
    "    - `for` loops\n",
    "    - Controlling our loops\n",
    "    - Where's the index?\n",
    "    - `while` loops\n",
    "4. Lists\n",
    "    - What are they?\n",
    "    - How are they similar to (and different from) strings?\n",
    "    - Lists are *mutable*\n",
    "    - List methods\n",
    "5. Strings to lists, and back\n",
    "    - `str.split` method, which gives us a list based on a string\n",
    "    - `str.join` method, which gives us a string based on a list\n",
    "5. Tuples\n",
    "    - What are they?\n",
    "    - How are they different from (and similar to) strings and lists?\n",
    "    - Tuple unpacking"
   ]
  },
  {
   "cell_type": "markdown",
   "metadata": {},
   "source": [
    "# DRY -- \"don't repeat yourself\"\n",
    "\n",
    "When we write programs, we try to avoid repeating ourselves. If we can have the computer repeat things for us, then we can save our time, and think important thoughts."
   ]
  },
  {
   "cell_type": "code",
   "execution_count": 1,
   "metadata": {},
   "outputs": [
    {
     "name": "stdout",
     "output_type": "stream",
     "text": [
      "a\n",
      "b\n",
      "c\n",
      "d\n"
     ]
    }
   ],
   "source": [
    "# let's print all of the letters 'abcd'\n",
    "\n",
    "s = 'abcd'\n",
    "print(s[0])\n",
    "print(s[1])\n",
    "print(s[2])\n",
    "print(s[3])"
   ]
  },
  {
   "cell_type": "markdown",
   "metadata": {},
   "source": [
    "# Unfortunately, this works!\n",
    "\n",
    "But it also violates the \"DRY rule\" -- we basically repeated the same thing (or almost the same thing) in lines 4, 5, 6, and 7. \n",
    "\n",
    "The way that we can ask Python to repeat something for us is with a \"loop.\"\n",
    "\n",
    "Python supports two types of loops:\n",
    "\n",
    "- `for` loops -- more common\n",
    "- `while` loops\n",
    "\n",
    "The idea of a `for` loop is: Perform the same action for each element of a collection. In the case of a string, it's a collection of charcters. So we'll repeat the same action for each character."
   ]
  },
  {
   "cell_type": "code",
   "execution_count": 4,
   "metadata": {},
   "outputs": [
    {
     "name": "stdout",
     "output_type": "stream",
     "text": [
      "Begin\n",
      "a\n",
      "b\n",
      "c\n",
      "d\n",
      "End\n"
     ]
    }
   ],
   "source": [
    "s = 'abcd'\n",
    "\n",
    "print('Begin')\n",
    "for one_character in s:\n",
    "    print(one_character)\n",
    "print('End')    "
   ]
  },
  {
   "cell_type": "markdown",
   "metadata": {},
   "source": [
    "# What's going on here?\n",
    "\n",
    "## Syntax\n",
    "- `for` at the start of the line\n",
    "- a variable, the \"loop variable\" or \"iterating variable,\" after that (here, that's `one_character`)\n",
    "- then the word `in`\n",
    "- the collection that we'll iterate over, or loop over (here, that's `s`)\n",
    "- Then we have a `:` at the end of the line\n",
    "- The next line starts an indented block, and the block continues until we stop that indentation\n",
    "- The loop body, aka the block, can contain *ANY* Python code we want.\n",
    "\n",
    "## What's really happening?\n",
    "1. The `for` loop turns to `s`, the value at the end of the line, and asks it: Are you iterable? Meaning: Do you know how to behave inside of a `for` loop?\n",
    "    - If the answer is \"no,\" we get an error, and the program ends\n",
    "2. `for` asks the value for its next value\n",
    "    - If there are no more values, then the loop exits\n",
    "3. The next value is assigned to our loop variable (here, `one_character`)\n",
    "4. The loop body executes\n",
    "5. When the loop body is done, we go back to step 2\n",
    "\n",
    "Two things to notice:\n",
    "1. If you've ever used another language before, you might be wondering what happened to the index. Don't we need to count where we are in `s`? Answer: No! Python does this for us. We just want to get the string, one character at a time. (We'll come back to this point later.)\n",
    "2. Are we getting one character at a time because we called our loop variable `one_character`? No! We called the variable `one_character` because we knew (or I knew) that a string gives us one character at a time."
   ]
  },
  {
   "cell_type": "markdown",
   "metadata": {},
   "source": [
    "# When do we need to use loops?\n",
    "\n",
    "There are *lots* of values in Python that know how to behave inside of a loop:\n",
    "\n",
    "- Directory listings (files in a directory)\n",
    "- Names in a database record\n",
    "- Medical exams for a particular patient"
   ]
  },
  {
   "cell_type": "markdown",
   "metadata": {},
   "source": [
    "# Exercise: Vowels, digits, and others\n",
    "\n",
    "1. Define three variables, `vowels`, `digits`, and `others`, all to be 0.\n",
    "2. Ask the user (with `input`) to enter a string.\n",
    "3. Go through each character in the string with a `for` loop:\n",
    "    - If the character is a vowel (aeiou), then add 1 to `vowels` -- use `in`\n",
    "    - If the character is a digit (0-9), then add 1 to `digits` -- use `.isdigit()`, a string method\n",
    "    - Otherwise, add 1 to `others`\n",
    "4. Print `vowels`, `digits`, and `others`\n",
    "\n",
    "Example:\n",
    "\n",
    "    Enter a string: hello!! 123\n",
    "    vowels: 2\n",
    "    digits: 3\n",
    "    others: 6"
   ]
  },
  {
   "cell_type": "code",
   "execution_count": 6,
   "metadata": {},
   "outputs": [
    {
     "name": "stdin",
     "output_type": "stream",
     "text": [
      "Enter text:  hello!! 123\n"
     ]
    },
    {
     "name": "stdout",
     "output_type": "stream",
     "text": [
      "vowels = 2\n",
      "digits = 3\n",
      "others = 6\n"
     ]
    }
   ],
   "source": [
    "vowels = 0\n",
    "digits = 0\n",
    "others = 0\n",
    "\n",
    "text = input('Enter text: ').strip()\n",
    "\n",
    "for one_character in text:\n",
    "    if one_character in 'aeiou':    # if one_character is a vowel...\n",
    "        vowels += 1                 # ... add 1 to the vowels variable\n",
    "    elif one_character.isdigit():   # if one_character is a digit...\n",
    "        digits += 1                 # ... add 1 to the digits variable\n",
    "    else:\n",
    "        others += 1                 # add 1 to others if neither of the previous 2 conditions was true\n",
    "\n",
    "print(f'vowels = {vowels}')        \n",
    "print(f'digits = {digits}')\n",
    "print(f'others = {others}')"
   ]
  },
  {
   "cell_type": "code",
   "execution_count": null,
   "metadata": {},
   "outputs": [],
   "source": [
    "# U1\n",
    "\n",
    "text = input('Enter a string').strip\n"
   ]
  },
  {
   "cell_type": "code",
   "execution_count": 10,
   "metadata": {},
   "outputs": [
    {
     "name": "stdin",
     "output_type": "stream",
     "text": [
      "Enter the string :  hello!! 123\n"
     ]
    },
    {
     "name": "stdout",
     "output_type": "stream",
     "text": [
      "Vowels :  2\n",
      "Digits :  3\n",
      "Others :  6\n"
     ]
    }
   ],
   "source": [
    "# VR\n",
    "\n",
    "vowels = 0\n",
    "digits = 0\n",
    "others = 0\n",
    "\n",
    "user_input = input(\"Enter the string : \").strip()\n",
    "\n",
    "for i in user_input:\n",
    "    if i in 'aeiouAEIOU':\n",
    "        vowels = vowels + 1 \n",
    "    elif i.isdigit(): \n",
    "        digits = digits + 1\n",
    "    else:\n",
    "        others = others + 1\n",
    "\n",
    "print(\"Vowels : \", vowels) \n",
    "print(\"Digits : \", digits)\n",
    "print(\"Others : \", others)"
   ]
  },
  {
   "cell_type": "markdown",
   "metadata": {},
   "source": [
    "# str.isdigit()\n",
    "\n",
    "`str.isdigit()` is a string method -- that is, we can only run it on a string -- and it returns `True` if the string contains only digits (i.e., 0-9) and isn't empty. You can think of it as a method that tells us whether we can turn our string into an integer."
   ]
  },
  {
   "cell_type": "code",
   "execution_count": 11,
   "metadata": {},
   "outputs": [
    {
     "data": {
      "text/plain": [
       "True"
      ]
     },
     "execution_count": 11,
     "metadata": {},
     "output_type": "execute_result"
    }
   ],
   "source": [
    "'123'.isdigit()"
   ]
  },
  {
   "cell_type": "code",
   "execution_count": 12,
   "metadata": {},
   "outputs": [
    {
     "data": {
      "text/plain": [
       "False"
      ]
     },
     "execution_count": 12,
     "metadata": {},
     "output_type": "execute_result"
    }
   ],
   "source": [
    "'!123'.isdigit()"
   ]
  },
  {
   "cell_type": "markdown",
   "metadata": {},
   "source": [
    "# What if we want to iterate a number of times?\n",
    "\n",
    "It's great that we can iterate over the characters of a string. But sometimes, I just want to perform an action a few times.\n",
    "\n",
    "For example, can I print \"Hooray!\" three times?"
   ]
  },
  {
   "cell_type": "code",
   "execution_count": 13,
   "metadata": {},
   "outputs": [
    {
     "name": "stdout",
     "output_type": "stream",
     "text": [
      "Hooray!\n",
      "Hooray!\n",
      "Hooray!\n"
     ]
    }
   ],
   "source": [
    "print('Hooray!')\n",
    "print('Hooray!')\n",
    "print('Hooray!')"
   ]
  },
  {
   "cell_type": "code",
   "execution_count": 14,
   "metadata": {},
   "outputs": [
    {
     "ename": "TypeError",
     "evalue": "'int' object is not iterable",
     "output_type": "error",
     "traceback": [
      "\u001b[31m---------------------------------------------------------------------------\u001b[39m",
      "\u001b[31mTypeError\u001b[39m                                 Traceback (most recent call last)",
      "\u001b[36mCell\u001b[39m\u001b[36m \u001b[39m\u001b[32mIn[14]\u001b[39m\u001b[32m, line 1\u001b[39m\n\u001b[32m----> \u001b[39m\u001b[32m1\u001b[39m \u001b[38;5;28;43;01mfor\u001b[39;49;00m\u001b[43m \u001b[49m\u001b[43mcounter\u001b[49m\u001b[43m \u001b[49m\u001b[38;5;129;43;01min\u001b[39;49;00m\u001b[43m \u001b[49m\u001b[32;43m3\u001b[39;49m\u001b[43m:\u001b[49m\n\u001b[32m      2\u001b[39m \u001b[43m    \u001b[49m\u001b[38;5;28;43mprint\u001b[39;49m\u001b[43m(\u001b[49m\u001b[33;43m'\u001b[39;49m\u001b[33;43mHooray!\u001b[39;49m\u001b[33;43m'\u001b[39;49m\u001b[43m)\u001b[49m\n",
      "\u001b[31mTypeError\u001b[39m: 'int' object is not iterable"
     ]
    }
   ],
   "source": [
    "# `for` turns to 3 and asks: Are you iterable?\n",
    "# the answer, sadly, is \"no\"\n",
    "\n",
    "for counter in 3:\n",
    "    print('Hooray!')\n"
   ]
  },
  {
   "cell_type": "markdown",
   "metadata": {},
   "source": [
    "# `range`\n",
    "\n",
    "Instead of iterating over `3`, iterate over `range(3)`. This is Python's way of letting us iterate a particular number of times.\n",
    "\n"
   ]
  },
  {
   "cell_type": "code",
   "execution_count": 15,
   "metadata": {},
   "outputs": [
    {
     "name": "stdout",
     "output_type": "stream",
     "text": [
      "Hooray!\n",
      "Hooray!\n",
      "Hooray!\n"
     ]
    }
   ],
   "source": [
    "for counter in range(3):\n",
    "    print('Hooray!')"
   ]
  },
  {
   "cell_type": "code",
   "execution_count": 16,
   "metadata": {},
   "outputs": [
    {
     "name": "stdout",
     "output_type": "stream",
     "text": [
      "0 Hooray!\n",
      "1 Hooray!\n",
      "2 Hooray!\n"
     ]
    }
   ],
   "source": [
    "# wait a second... what is the value of counter in each iteration?\n",
    "\n",
    "for counter in range(3):\n",
    "    print(f'{counter} Hooray!')"
   ]
  },
  {
   "cell_type": "markdown",
   "metadata": {},
   "source": [
    "When we use `range(n)`, we get `n` iterations. The value we get back with each iteration starts with 0, and goes up to `n-1`.\n",
    "\n"
   ]
  },
  {
   "cell_type": "code",
   "execution_count": 17,
   "metadata": {},
   "outputs": [
    {
     "data": {
      "text/plain": [
       "True"
      ]
     },
     "execution_count": 17,
     "metadata": {},
     "output_type": "execute_result"
    }
   ],
   "source": [
    "s = '123'\n",
    "s.isdigit()   # this runs the \"isdigit\" method on s, which contains a string... "
   ]
  },
  {
   "cell_type": "code",
   "execution_count": 18,
   "metadata": {},
   "outputs": [
    {
     "data": {
      "text/plain": [
       "True"
      ]
     },
     "execution_count": 18,
     "metadata": {},
     "output_type": "execute_result"
    }
   ],
   "source": [
    "# I don't need a variable to do that! I can invoke it on a string directly!\n",
    "\n",
    "'123'.isdigit()"
   ]
  },
  {
   "cell_type": "markdown",
   "metadata": {},
   "source": [
    "# Example: Sum 3 digits\n",
    "\n"
   ]
  },
  {
   "cell_type": "code",
   "execution_count": 20,
   "metadata": {},
   "outputs": [
    {
     "name": "stdin",
     "output_type": "stream",
     "text": [
      "Enter number 0:  10\n",
      "Enter number 1:  hello\n"
     ]
    },
    {
     "name": "stdout",
     "output_type": "stream",
     "text": [
      "hello is not numeric; ignoring\n"
     ]
    },
    {
     "name": "stdin",
     "output_type": "stream",
     "text": [
      "Enter number 2:  20\n"
     ]
    },
    {
     "name": "stdout",
     "output_type": "stream",
     "text": [
      "total = 30\n"
     ]
    }
   ],
   "source": [
    "total = 0\n",
    "\n",
    "for counter in range(3):  # range(3) will give us 0, 1, and 2 in that order, with each iteration\n",
    "    s = input(f'Enter number {counter}: ').strip()\n",
    "\n",
    "    if s.isdigit():\n",
    "        total += int(s)   # get an integer from s, and add to total\n",
    "    else:\n",
    "        print(f'{s} is not numeric; ignoring')\n",
    "\n",
    "print(f'total = {total}')"
   ]
  },
  {
   "cell_type": "markdown",
   "metadata": {},
   "source": [
    "# Exercise: Name triangles\n",
    "\n",
    "1. Ask the user to enter their name.\n",
    "2. Print their name as a triangle:\n",
    "    - On the first line, print the first letter\n",
    "    - On the 2nd line, print the first 2 letters\n",
    "    - On the 3rd line, print the first 3 letters\n",
    "    - ...\n",
    "    - On the final line, print all of the letters\n",
    "\n",
    "Hints/reminders:\n",
    "- We can use `range(n)` to iterate `n` times, and that'll give us from 0 to `n-1`\n",
    "- We can use `len(s)` to get the number of characters in a string\n",
    "- We can use a slice of the form `s[x:y]` to get a string based on `s`, starting at index `x`, and ending just before index `y`.\n",
    "- If `y` in a slice goes off the end, that's OK; Python will stop before the end.\n",
    "\n",
    "Example:\n",
    "\n",
    "    Enter your name: Reuven\n",
    "    R\n",
    "    Re\n",
    "    Reu\n",
    "    Reuv\n",
    "    Reuve\n",
    "    Reuven"
   ]
  },
  {
   "cell_type": "code",
   "execution_count": 22,
   "metadata": {},
   "outputs": [
    {
     "name": "stdout",
     "output_type": "stream",
     "text": [
      "R\n",
      "Re\n",
      "Reu\n",
      "Reuv\n",
      "Reuve\n",
      "Reuven\n"
     ]
    }
   ],
   "source": [
    "name = 'Reuven'\n",
    "\n",
    "print(name[:1])\n",
    "print(name[:2])\n",
    "print(name[:3])\n",
    "print(name[:4])\n",
    "print(name[:5])\n",
    "print(name[:6])"
   ]
  },
  {
   "cell_type": "code",
   "execution_count": 28,
   "metadata": {},
   "outputs": [
    {
     "name": "stdin",
     "output_type": "stream",
     "text": [
      "Enter your name:  Ed\n"
     ]
    },
    {
     "name": "stdout",
     "output_type": "stream",
     "text": [
      "E\n",
      "Ed\n"
     ]
    }
   ],
   "source": [
    "name = input('Enter your name: ').strip()\n",
    "\n",
    "for max_index in range(len(name)):\n",
    "    print(name[:max_index+1])"
   ]
  },
  {
   "cell_type": "code",
   "execution_count": 29,
   "metadata": {},
   "outputs": [
    {
     "name": "stdin",
     "output_type": "stream",
     "text": [
      "Enter your name:  Reuven\n"
     ]
    },
    {
     "name": "stdout",
     "output_type": "stream",
     "text": [
      "\n",
      "R\n",
      "Re\n",
      "Reu\n",
      "Reuv\n",
      "Reuve\n",
      "Reuven\n"
     ]
    }
   ],
   "source": [
    "# KM \n",
    "\n",
    "name = input(\"Enter your name: \")\n",
    "\n",
    "for i in range(len(name)+1):\n",
    "    print(name[:i])"
   ]
  },
  {
   "cell_type": "markdown",
   "metadata": {},
   "source": [
    "# Next up\n",
    "\n",
    "- Indexes (and where they are/aren't)\n",
    "- Controlling our loops with `break` and `continue`\n",
    "- `while` loops"
   ]
  },
  {
   "cell_type": "markdown",
   "metadata": {},
   "source": [
    "If you're coming from a programming language that uses indexes, this seems very weird.\n",
    "\n",
    "In a language like C, we have an index (an integer) that starts at 0, then goes up 1 by 1 by 1. Each time we increment the index, we then retrieve a character from the string. In other words, the loop needs to be very smart, because it is calculating what we get from the string each time.\n",
    "\n",
    "In Python, the string is in charge! We are asking for the next value, and the next, and the next... but we don't need the index, because the value itself is keeping track of our location.\n",
    "\n",
    "We don't need an index in Python! But... sometimes, we want it. What if we want to print each of the characters, along with its index in the string?\n",
    "\n",
    "In such cases, we need to manufacture the index, based on the character -- rather than the other way around.\n",
    "\n",
    "There are two ways to do this -- the manual way and the automatic way."
   ]
  },
  {
   "cell_type": "code",
   "execution_count": 31,
   "metadata": {},
   "outputs": [
    {
     "name": "stdout",
     "output_type": "stream",
     "text": [
      "0: a\n",
      "1: b\n",
      "2: c\n",
      "3: d\n"
     ]
    }
   ],
   "source": [
    "# the manual way\n",
    "\n",
    "s = 'abcd'\n",
    "index = 0\n",
    "\n",
    "for one_character in s:\n",
    "    print(f'{index}: {one_character}')\n",
    "    index += 1    # add 1 to the index"
   ]
  },
  {
   "cell_type": "code",
   "execution_count": 32,
   "metadata": {},
   "outputs": [
    {
     "name": "stdout",
     "output_type": "stream",
     "text": [
      "0: a\n",
      "1: b\n",
      "2: c\n",
      "3: d\n"
     ]
    }
   ],
   "source": [
    "# automatic way\n",
    "\n",
    "s = 'abcd'\n",
    "\n",
    "# in this for loop, we have *TWO* loop variables!\n",
    "# they are *BOTH* getting assigned to, thanks to enumerate!\n",
    "\n",
    "for index, one_character in enumerate(s):  \n",
    "    print(f'{index}: {one_character}')"
   ]
  },
  {
   "cell_type": "markdown",
   "metadata": {},
   "source": [
    "# Exercise: Powers of 10\n",
    "\n",
    "1. Ask the user to enter a number.\n",
    "2. Print that number, broken apart into digits * a power of 10.\n",
    "\n",
    "Example:\n",
    "\n",
    "    Enter a number: 2468\n",
    "\n",
    "    2 * 10**3  + 4 * 10**2  + 6 * 10**1  + 8 * 10**0"
   ]
  },
  {
   "cell_type": "code",
   "execution_count": 35,
   "metadata": {},
   "outputs": [
    {
     "name": "stdout",
     "output_type": "stream",
     "text": [
      "2 * 10**3\n",
      "4 * 10**2\n",
      "6 * 10**1\n",
      "8 * 10**0\n"
     ]
    }
   ],
   "source": [
    "s = '2468'\n",
    "\n",
    "print(f'{s[0]} * 10**3')\n",
    "print(f'{s[1]} * 10**2')\n",
    "print(f'{s[2]} * 10**1')\n",
    "print(f'{s[3]} * 10**0')\n"
   ]
  },
  {
   "cell_type": "code",
   "execution_count": 41,
   "metadata": {},
   "outputs": [
    {
     "name": "stdin",
     "output_type": "stream",
     "text": [
      "Enter a number:  34563532534253\n"
     ]
    },
    {
     "name": "stdout",
     "output_type": "stream",
     "text": [
      "3 * 10**13\n",
      "4 * 10**12\n",
      "5 * 10**11\n",
      "6 * 10**10\n",
      "3 * 10**9\n",
      "5 * 10**8\n",
      "3 * 10**7\n",
      "2 * 10**6\n",
      "5 * 10**5\n",
      "3 * 10**4\n",
      "4 * 10**3\n",
      "2 * 10**2\n",
      "5 * 10**1\n",
      "3 * 10**0\n"
     ]
    }
   ],
   "source": [
    "s = input('Enter a number: ').strip()\n",
    "\n",
    "for index, one_digit in enumerate(s):\n",
    "    print(f'{s[index]} * 10**{len(s) - index - 1}')"
   ]
  },
  {
   "cell_type": "markdown",
   "metadata": {},
   "source": [
    "# Stopping a loop in the middle\n",
    "\n",
    "So far, we've seen that a loop runs from the beginning of a string until the end. But what if we want to stop?\n",
    "\n",
    "- Maybe the current character isn't interesting/important/relevant, and we want to skip over it, to the next iteration. In this case, we can use the `continue` statement in Python. It immediately goes to the next iteration (if there is one), ignoring the rest of the loop body. If there are no more iterations, then the loop ends. This is typically used at the start of a loop, to see if the rest of the loop body is relevant.\n",
    "\n",
    "- Maybe we've achieved our goal, and we don't need any more iterations. In this case, we can use the `break` statement in Python, which immediately stops the entire loop -- no more executing of the loop body, and no more iterations, which we ignore (if there are any). This is typically used also at the start of a loop, to see if we just want to stop.\n",
    "\n"
   ]
  },
  {
   "cell_type": "code",
   "execution_count": 43,
   "metadata": {},
   "outputs": [
    {
     "name": "stdout",
     "output_type": "stream",
     "text": [
      "a\n",
      "b\n",
      "d\n",
      "e\n"
     ]
    }
   ],
   "source": [
    "# continue\n",
    "s = 'abcde'\n",
    "look_for = 'c'\n",
    "\n",
    "for one_character in s:\n",
    "    if one_character == look_for:\n",
    "        continue   # ignore look_for, and go onto the next iteration\n",
    "    print(one_character)"
   ]
  },
  {
   "cell_type": "code",
   "execution_count": 44,
   "metadata": {},
   "outputs": [
    {
     "name": "stdout",
     "output_type": "stream",
     "text": [
      "a\n",
      "b\n"
     ]
    }
   ],
   "source": [
    "# break\n",
    "s = 'abcde'\n",
    "look_for = 'c'\n",
    "\n",
    "for one_character in s:\n",
    "    if one_character == look_for:\n",
    "        break\n",
    "    print(one_character)"
   ]
  },
  {
   "cell_type": "markdown",
   "metadata": {},
   "source": [
    "# Exercise: Sum digits\n",
    "\n",
    "1. Set `total` to be 0.\n",
    "2. Ask the user to enter a string containing digits.\n",
    "3. Iterate over the string, one character at a time:\n",
    "    - If the character is a non-digit, then scold the user (then use `continue`)\n",
    "    - If the character is `.`, then stop immediately (i.e., use `break`)\n",
    "    - Otherwise, add the digit to `total`\n",
    "4. Print `total`\n",
    "\n",
    "Example:\n",
    "\n",
    "    Enter a number: 12a3.4\n",
    "    a is not numeric\n",
    "    stopping at .\n",
    "    total = 6"
   ]
  },
  {
   "cell_type": "code",
   "execution_count": 50,
   "metadata": {},
   "outputs": [
    {
     "name": "stdin",
     "output_type": "stream",
     "text": [
      "Enter a number:  12a3.4\n"
     ]
    },
    {
     "name": "stdout",
     "output_type": "stream",
     "text": [
      "a is not numeric\n",
      "Stopping at .\n",
      "total = 6\n"
     ]
    }
   ],
   "source": [
    "total = 0\n",
    "\n",
    "s = input('Enter a number: ').strip()\n",
    "\n",
    "for one_character in s:\n",
    "    if one_character == '.':\n",
    "        print(f'Stopping at .')\n",
    "        break\n",
    "\n",
    "    if not one_character.isdigit():\n",
    "        print(f'{one_character} is not numeric')\n",
    "        continue\n",
    "\n",
    "    total += int(one_character)\n",
    "\n",
    "print(f'total = {total}')    "
   ]
  },
  {
   "cell_type": "code",
   "execution_count": 51,
   "metadata": {},
   "outputs": [
    {
     "name": "stdin",
     "output_type": "stream",
     "text": [
      "Enter a string containing digits:  12a3.4\n"
     ]
    },
    {
     "name": "stdout",
     "output_type": "stream",
     "text": [
      "Total digits are: 6\n"
     ]
    }
   ],
   "source": [
    "# KM \n",
    "\n",
    "t = 0\n",
    "n = input('Enter a string containing digits: ')  # keep as string\n",
    "\n",
    "for i in n:\n",
    "    if i == '.':\n",
    "        break\n",
    "    elif i.isdigit():\n",
    "        t += int(i)\n",
    "    else:\n",
    "        continue\n",
    "\n",
    "print(f'Total digits are: {t}')"
   ]
  },
  {
   "cell_type": "markdown",
   "metadata": {},
   "source": [
    "# `while` loops\n",
    "\n",
    "A `for` loop runs on a sequence of values, one at a time, from the start, to the finish. We know how many iterations it'll have.\n",
    "\n",
    "But what if we don't know how many iterations we need? For that, we have a `while` loop. `while` is a lot like `if`, in that it has a condition and looks to its right. If the condition is `True`, then the block runs. If not, then the block doesn't run.\n",
    "\n",
    "The difference between `if` and `while` is: The `if` only checks once and runs once (if at all). A `while` runs repeatedly, so long as the test is `True`. Only when the test is `False` does the loop stop.\n"
   ]
  },
  {
   "cell_type": "code",
   "execution_count": 52,
   "metadata": {},
   "outputs": [
    {
     "name": "stdout",
     "output_type": "stream",
     "text": [
      "5\n",
      "4\n",
      "3\n",
      "2\n",
      "1\n"
     ]
    }
   ],
   "source": [
    "n = 5\n",
    "\n",
    "while n > 0:\n",
    "    print(n)\n",
    "    n = n - 1   # decrement n"
   ]
  },
  {
   "cell_type": "markdown",
   "metadata": {},
   "source": [
    "When use a `for` loop? And when use a `while` loop?\n",
    "\n",
    "- If you don't know how many iterations you need, you probably need a `while` loop.\n",
    "- If you want to repeat something a known number of times or once for each value in a sequence, use a `for` loop."
   ]
  },
  {
   "cell_type": "markdown",
   "metadata": {},
   "source": [
    "# Next up\n",
    "\n",
    "1. Practice with `while` loops\n",
    "2. Intro to lists\n",
    "3. Strings to lists, and back\n",
    "4. Tuples and unpacking"
   ]
  },
  {
   "cell_type": "code",
   "execution_count": 55,
   "metadata": {},
   "outputs": [
    {
     "name": "stdin",
     "output_type": "stream",
     "text": [
      "Enter a string including digits:  gjhg.797\n"
     ]
    },
    {
     "name": "stdout",
     "output_type": "stream",
     "text": [
      "g is not a number\n",
      "j is not a number\n",
      "h is not a number\n",
      "g is not a number\n",
      "Stopping here 'cos found \".\"\n",
      "total = 0\n"
     ]
    }
   ],
   "source": [
    "# VR\n",
    "\n",
    "total = 0\n",
    "\n",
    "s = input('Enter a string including digits: ').strip()\n",
    "\n",
    "for char in s:\n",
    "\n",
    "  if char == '.':\n",
    "    print(f'Stopping here \\'cos found \".\"')\n",
    "    break\n",
    "  if not char.isdigit():\n",
    "    print(f'{char} is not a number')\n",
    "    continue\n",
    "  total = total + int(char)\n",
    "\n",
    "print(f'total = {total}')"
   ]
  },
  {
   "cell_type": "markdown",
   "metadata": {},
   "source": [
    "# Exercise: Sum to 100\n",
    "\n",
    "1. Set `total` to 0.\n",
    "2. Ask the user, repeatedly, to enter a number.\n",
    "    - If the user enters a non-number, then scold them and let them try again\n",
    "    - If the user enters a number, then add to `total` and print the new `total`\n",
    "3. When `total` is >= 100, stop asking and print the final `total`\n",
    "\n",
    "Example:\n",
    "\n",
    "    Enter a number: 20\n",
    "    total is 20\n",
    "    Enter a number: 30\n",
    "    total is 50\n",
    "    Enter a number: hello\n",
    "    hello is not numeric\n",
    "    Enter a number: 51\n",
    "    total is 51\n",
    "    final total is 51"
   ]
  },
  {
   "cell_type": "code",
   "execution_count": 56,
   "metadata": {},
   "outputs": [
    {
     "name": "stdin",
     "output_type": "stream",
     "text": [
      "Enter a number:  20\n"
     ]
    },
    {
     "name": "stdout",
     "output_type": "stream",
     "text": [
      "total = 20\n"
     ]
    },
    {
     "name": "stdin",
     "output_type": "stream",
     "text": [
      "Enter a number:  30\n"
     ]
    },
    {
     "name": "stdout",
     "output_type": "stream",
     "text": [
      "total = 50\n"
     ]
    },
    {
     "name": "stdin",
     "output_type": "stream",
     "text": [
      "Enter a number:  hello\n"
     ]
    },
    {
     "name": "stdout",
     "output_type": "stream",
     "text": [
      "hello is not numeric\n"
     ]
    },
    {
     "name": "stdin",
     "output_type": "stream",
     "text": [
      "Enter a number:  1\n"
     ]
    },
    {
     "name": "stdout",
     "output_type": "stream",
     "text": [
      "total = 51\n"
     ]
    },
    {
     "name": "stdin",
     "output_type": "stream",
     "text": [
      "Enter a number:  1\n"
     ]
    },
    {
     "name": "stdout",
     "output_type": "stream",
     "text": [
      "total = 52\n"
     ]
    },
    {
     "name": "stdin",
     "output_type": "stream",
     "text": [
      "Enter a number:  1\n"
     ]
    },
    {
     "name": "stdout",
     "output_type": "stream",
     "text": [
      "total = 53\n"
     ]
    },
    {
     "name": "stdin",
     "output_type": "stream",
     "text": [
      "Enter a number:  1\n"
     ]
    },
    {
     "name": "stdout",
     "output_type": "stream",
     "text": [
      "total = 54\n"
     ]
    },
    {
     "name": "stdin",
     "output_type": "stream",
     "text": [
      "Enter a number:  60\n"
     ]
    },
    {
     "name": "stdout",
     "output_type": "stream",
     "text": [
      "total = 114\n",
      "Final total = 114\n"
     ]
    }
   ],
   "source": [
    "total = 0\n",
    "\n",
    "while total < 100:\n",
    "    s = input('Enter a number: ').strip()\n",
    "\n",
    "    if not s.isdigit():\n",
    "        print(f'{s} is not numeric')\n",
    "        continue\n",
    "\n",
    "    total += int(s)\n",
    "    print(f'total = {total}')\n",
    "\n",
    "print(f'Final total = {total}')    "
   ]
  },
  {
   "cell_type": "markdown",
   "metadata": {},
   "source": [
    "# Lists\n",
    "\n",
    "So far, we've dealt with relatively simple data structures: Ints, floats, and even strings are kind of simple, even though a string contains some characters.\n",
    "\n",
    "But lists are different -- they are designed to be containers for other values. We often think of them as Python's \"default\" container type.\n",
    "\n",
    "A list can contain\n",
    "\n",
    "- Any number of values\n",
    "- Any types of values\n",
    "- Any mixture of types of values -- although traditionally, a list contains all values of one type"
   ]
  },
  {
   "cell_type": "code",
   "execution_count": 57,
   "metadata": {},
   "outputs": [
    {
     "data": {
      "text/plain": [
       "list"
      ]
     },
     "execution_count": 57,
     "metadata": {},
     "output_type": "execute_result"
    }
   ],
   "source": [
    "mylist = [10, 20, 30, 40, 50]\n",
    "\n",
    "type(mylist)"
   ]
  },
  {
   "cell_type": "code",
   "execution_count": 58,
   "metadata": {},
   "outputs": [
    {
     "data": {
      "text/plain": [
       "10"
      ]
     },
     "execution_count": 58,
     "metadata": {},
     "output_type": "execute_result"
    }
   ],
   "source": [
    "# how can I retrieve the first element? \n",
    "\n",
    "mylist[0] "
   ]
  },
  {
   "cell_type": "code",
   "execution_count": 59,
   "metadata": {},
   "outputs": [
    {
     "data": {
      "text/plain": [
       "20"
      ]
     },
     "execution_count": 59,
     "metadata": {},
     "output_type": "execute_result"
    }
   ],
   "source": [
    "# how can I retrieve the second element?\n",
    "\n",
    "mylist[1]"
   ]
  },
  {
   "cell_type": "code",
   "execution_count": 60,
   "metadata": {},
   "outputs": [
    {
     "data": {
      "text/plain": [
       "50"
      ]
     },
     "execution_count": 60,
     "metadata": {},
     "output_type": "execute_result"
    }
   ],
   "source": [
    "# get the final element\n",
    "\n",
    "mylist[-1]"
   ]
  },
  {
   "cell_type": "code",
   "execution_count": 61,
   "metadata": {},
   "outputs": [
    {
     "data": {
      "text/plain": [
       "5"
      ]
     },
     "execution_count": 61,
     "metadata": {},
     "output_type": "execute_result"
    }
   ],
   "source": [
    "# get the length of a list\n",
    "\n",
    "len(mylist)"
   ]
  },
  {
   "cell_type": "code",
   "execution_count": 62,
   "metadata": {},
   "outputs": [
    {
     "name": "stdout",
     "output_type": "stream",
     "text": [
      "10\n",
      "20\n",
      "30\n",
      "40\n",
      "50\n"
     ]
    }
   ],
   "source": [
    "for one_item in mylist:\n",
    "    print(one_item)"
   ]
  },
  {
   "cell_type": "code",
   "execution_count": 63,
   "metadata": {},
   "outputs": [
    {
     "data": {
      "text/plain": [
       "[30, 40]"
      ]
     },
     "execution_count": 63,
     "metadata": {},
     "output_type": "execute_result"
    }
   ],
   "source": [
    "# slices\n",
    "\n",
    "mylist[2:4]   # starting at element 2, until (not including) element 4"
   ]
  },
  {
   "cell_type": "markdown",
   "metadata": {},
   "source": [
    "# Mutable vs. immutable\n",
    "\n",
    "So far, all of the values we've seen in Python are *immutable*, in that they cannot be changed. I cannot change a string after I have created it! Trying to modify it will result in an error."
   ]
  },
  {
   "cell_type": "code",
   "execution_count": 64,
   "metadata": {},
   "outputs": [
    {
     "ename": "TypeError",
     "evalue": "'str' object does not support item assignment",
     "output_type": "error",
     "traceback": [
      "\u001b[31m---------------------------------------------------------------------------\u001b[39m",
      "\u001b[31mTypeError\u001b[39m                                 Traceback (most recent call last)",
      "\u001b[36mCell\u001b[39m\u001b[36m \u001b[39m\u001b[32mIn[64]\u001b[39m\u001b[32m, line 2\u001b[39m\n\u001b[32m      1\u001b[39m s = \u001b[33m'\u001b[39m\u001b[33mabcde\u001b[39m\u001b[33m'\u001b[39m\n\u001b[32m----> \u001b[39m\u001b[32m2\u001b[39m \u001b[43ms\u001b[49m\u001b[43m[\u001b[49m\u001b[32;43m2\u001b[39;49m\u001b[43m]\u001b[49m = \u001b[33m'\u001b[39m\u001b[33m!\u001b[39m\u001b[33m'\u001b[39m\n",
      "\u001b[31mTypeError\u001b[39m: 'str' object does not support item assignment"
     ]
    }
   ],
   "source": [
    "s = 'abcde'\n",
    "s[2] = '!'"
   ]
  },
  {
   "cell_type": "code",
   "execution_count": 65,
   "metadata": {},
   "outputs": [],
   "source": [
    "mylist = [10, 20, 30, 40, 50]\n",
    "mylist[2] = 999"
   ]
  },
  {
   "cell_type": "code",
   "execution_count": null,
   "metadata": {},
   "outputs": [],
   "source": []
  }
 ],
 "metadata": {
  "kernelspec": {
   "display_name": "Python 3 (ipykernel)",
   "language": "python",
   "name": "python3"
  },
  "language_info": {
   "codemirror_mode": {
    "name": "ipython",
    "version": 3
   },
   "file_extension": ".py",
   "mimetype": "text/x-python",
   "name": "python",
   "nbconvert_exporter": "python",
   "pygments_lexer": "ipython3",
   "version": "3.13.2"
  }
 },
 "nbformat": 4,
 "nbformat_minor": 4
}
