{
 "cells": [
  {
   "cell_type": "markdown",
   "metadata": {},
   "source": [
    "# Agenda: Day 2, \"Loops, lists, and tuples\"\n",
    "\n",
    "1. Q&A\n",
    "2. Loops\n",
    "    - `for` loops\n",
    "    - Controlling our loops\n",
    "    - Where's the index?\n",
    "    - `while` loops\n",
    "4. Lists\n",
    "    - What are they?\n",
    "    - How are they similar to (and different from) strings?\n",
    "    - Lists are *mutable*\n",
    "    - List methods\n",
    "5. Strings to lists, and back\n",
    "    - `str.split` method, which gives us a list based on a string\n",
    "    - `str.join` method, which gives us a string based on a list\n",
    "5. Tuples\n",
    "    - What are they?\n",
    "    - How are they different from (and similar to) strings and lists?\n",
    "    - Tuple unpacking"
   ]
  },
  {
   "cell_type": "code",
   "execution_count": null,
   "metadata": {},
   "outputs": [],
   "source": []
  },
  {
   "cell_type": "code",
   "execution_count": null,
   "metadata": {},
   "outputs": [],
   "source": []
  }
 ],
 "metadata": {
  "kernelspec": {
   "display_name": "Python 3 (ipykernel)",
   "language": "python",
   "name": "python3"
  },
  "language_info": {
   "codemirror_mode": {
    "name": "ipython",
    "version": 3
   },
   "file_extension": ".py",
   "mimetype": "text/x-python",
   "name": "python",
   "nbconvert_exporter": "python",
   "pygments_lexer": "ipython3",
   "version": "3.13.2"
  }
 },
 "nbformat": 4,
 "nbformat_minor": 4
}
