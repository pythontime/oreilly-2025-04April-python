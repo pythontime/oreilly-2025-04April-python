{
 "cells": [
  {
   "cell_type": "markdown",
   "metadata": {},
   "source": [
    "# Agenda: Day 2, \"Loops, lists, and tuples\"\n",
    "\n",
    "1. Q&A\n",
    "2. Loops\n",
    "    - `for` loops\n",
    "    - Controlling our loops\n",
    "    - Where's the index?\n",
    "    - `while` loops\n",
    "4. Lists\n",
    "    - What are they?\n",
    "    - How are they similar to (and different from) strings?\n",
    "    - Lists are *mutable*\n",
    "    - List methods\n",
    "5. Strings to lists, and back\n",
    "    - `str.split` method, which gives us a list based on a string\n",
    "    - `str.join` method, which gives us a string based on a list\n",
    "5. Tuples\n",
    "    - What are they?\n",
    "    - How are they different from (and similar to) strings and lists?\n",
    "    - Tuple unpacking"
   ]
  },
  {
   "cell_type": "markdown",
   "metadata": {},
   "source": [
    "# DRY -- \"don't repeat yourself\"\n",
    "\n",
    "When we write programs, we try to avoid repeating ourselves. If we can have the computer repeat things for us, then we can save our time, and think important thoughts."
   ]
  },
  {
   "cell_type": "code",
   "execution_count": 1,
   "metadata": {},
   "outputs": [
    {
     "name": "stdout",
     "output_type": "stream",
     "text": [
      "a\n",
      "b\n",
      "c\n",
      "d\n"
     ]
    }
   ],
   "source": [
    "# let's print all of the letters 'abcd'\n",
    "\n",
    "s = 'abcd'\n",
    "print(s[0])\n",
    "print(s[1])\n",
    "print(s[2])\n",
    "print(s[3])"
   ]
  },
  {
   "cell_type": "markdown",
   "metadata": {},
   "source": [
    "# Unfortunately, this works!\n",
    "\n",
    "But it also violates the \"DRY rule\" -- we basically repeated the same thing (or almost the same thing) in lines 4, 5, 6, and 7. \n",
    "\n",
    "The way that we can ask Python to repeat something for us is with a \"loop.\"\n",
    "\n",
    "Python supports two types of loops:\n",
    "\n",
    "- `for` loops -- more common\n",
    "- `while` loops\n",
    "\n",
    "The idea of a `for` loop is: Perform the same action for each element of a collection. In the case of a string, it's a collection of charcters. So we'll repeat the same action for each character."
   ]
  },
  {
   "cell_type": "code",
   "execution_count": 4,
   "metadata": {},
   "outputs": [
    {
     "name": "stdout",
     "output_type": "stream",
     "text": [
      "Begin\n",
      "a\n",
      "b\n",
      "c\n",
      "d\n",
      "End\n"
     ]
    }
   ],
   "source": [
    "s = 'abcd'\n",
    "\n",
    "print('Begin')\n",
    "for one_character in s:\n",
    "    print(one_character)\n",
    "print('End')    "
   ]
  },
  {
   "cell_type": "markdown",
   "metadata": {},
   "source": [
    "# What's going on here?\n",
    "\n",
    "## Syntax\n",
    "- `for` at the start of the line\n",
    "- a variable, the \"loop variable\" or \"iterating variable,\" after that (here, that's `one_character`)\n",
    "- then the word `in`\n",
    "- the collection that we'll iterate over, or loop over (here, that's `s`)\n",
    "- Then we have a `:` at the end of the line\n",
    "- The next line starts an indented block, and the block continues until we stop that indentation\n",
    "- The loop body, aka the block, can contain *ANY* Python code we want.\n",
    "\n",
    "## What's really happening?\n",
    "1. The `for` loop turns to `s`, the value at the end of the line, and asks it: Are you iterable? Meaning: Do you know how to behave inside of a `for` loop?\n",
    "    - If the answer is \"no,\" we get an error, and the program ends\n",
    "2. `for` asks the value for its next value\n",
    "    - If there are no more values, then the loop exits\n",
    "3. The next value is assigned to our loop variable (here, `one_character`)\n",
    "4. The loop body executes\n",
    "5. When the loop body is done, we go back to step 2\n",
    "\n",
    "Two things to notice:\n",
    "1. If you've ever used another language before, you might be wondering what happened to the index. Don't we need to count where we are in `s`? Answer: No! Python does this for us. We just want to get the string, one character at a time. (We'll come back to this point later.)\n",
    "2. Are we getting one character at a time because we called our loop variable `one_character`? No! We called the variable `one_character` because we knew (or I knew) that a string gives us one character at a time."
   ]
  },
  {
   "cell_type": "markdown",
   "metadata": {},
   "source": [
    "# When do we need to use loops?\n",
    "\n",
    "There are *lots* of values in Python that know how to behave inside of a loop:\n",
    "\n",
    "- Directory listings (files in a directory)\n",
    "- Names in a database record\n",
    "- Medical exams for a particular patient"
   ]
  },
  {
   "cell_type": "markdown",
   "metadata": {},
   "source": [
    "# Exercise: Vowels, digits, and others\n",
    "\n",
    "1. Define three variables, `vowels`, `digits`, and `others`, all to be 0.\n",
    "2. Ask the user (with `input`) to enter a string.\n",
    "3. Go through each character in the string with a `for` loop:\n",
    "    - If the character is a vowel (aeiou), then add 1 to `vowels` -- use `in`\n",
    "    - If the character is a digit (0-9), then add 1 to `digits` -- use `.isdigit()`, a string method\n",
    "    - Otherwise, add 1 to `others`\n",
    "4. Print `vowels`, `digits`, and `others`\n",
    "\n",
    "Example:\n",
    "\n",
    "    Enter a string: hello!! 123\n",
    "    vowels: 2\n",
    "    digits: 3\n",
    "    others: 6"
   ]
  },
  {
   "cell_type": "code",
   "execution_count": 6,
   "metadata": {},
   "outputs": [
    {
     "name": "stdin",
     "output_type": "stream",
     "text": [
      "Enter text:  hello!! 123\n"
     ]
    },
    {
     "name": "stdout",
     "output_type": "stream",
     "text": [
      "vowels = 2\n",
      "digits = 3\n",
      "others = 6\n"
     ]
    }
   ],
   "source": [
    "vowels = 0\n",
    "digits = 0\n",
    "others = 0\n",
    "\n",
    "text = input('Enter text: ').strip()\n",
    "\n",
    "for one_character in text:\n",
    "    if one_character in 'aeiou':    # if one_character is a vowel...\n",
    "        vowels += 1                 # ... add 1 to the vowels variable\n",
    "    elif one_character.isdigit():   # if one_character is a digit...\n",
    "        digits += 1                 # ... add 1 to the digits variable\n",
    "    else:\n",
    "        others += 1                 # add 1 to others if neither of the previous 2 conditions was true\n",
    "\n",
    "print(f'vowels = {vowels}')        \n",
    "print(f'digits = {digits}')\n",
    "print(f'others = {others}')"
   ]
  },
  {
   "cell_type": "code",
   "execution_count": null,
   "metadata": {},
   "outputs": [],
   "source": []
  }
 ],
 "metadata": {
  "kernelspec": {
   "display_name": "Python 3 (ipykernel)",
   "language": "python",
   "name": "python3"
  },
  "language_info": {
   "codemirror_mode": {
    "name": "ipython",
    "version": 3
   },
   "file_extension": ".py",
   "mimetype": "text/x-python",
   "name": "python",
   "nbconvert_exporter": "python",
   "pygments_lexer": "ipython3",
   "version": "3.13.2"
  }
 },
 "nbformat": 4,
 "nbformat_minor": 4
}
