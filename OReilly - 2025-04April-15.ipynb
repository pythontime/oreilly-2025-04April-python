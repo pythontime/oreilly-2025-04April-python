{
 "cells": [
  {
   "cell_type": "markdown",
   "metadata": {},
   "source": [
    "# Agenda: Day 3\n",
    "\n",
    "- `str.split` and `str.join`\n",
    "- Tuples\n",
    "    - What are they?\n",
    "    - Tuple unpacking\n",
    "- Dictionaries\n",
    "    - How are they different from strings/lists/tuples?\n",
    "    - Defining dicts\n",
    "    - Retrieving from dicts\n",
    "    - Iterating over dicts\n",
    "    - Using them in general\n",
    "- Files\n",
    "    - Reading from (text) files\n",
    "    - A little bit about writing to files, as well"
   ]
  },
  {
   "cell_type": "markdown",
   "metadata": {},
   "source": [
    "# `str.split` and `str.join`\n",
    "\n",
    "If I have a string, and want to get a list from it, I can use the `str.split` method.\n",
    "\n",
    "- This is a string method, meaning that we will typically invoke `.split` on a string\n",
    "- Don't forget to put `()` after the invocation of `str.split`\n",
    "- If you put an argument in the `()`, then that is what will be used as a delimiter/separator\n",
    "- If you don't put an argument in the `()`, then any whitespace characters (space, newline, carriage return, and a few others), in any combination and in any number, will be used as delimiters"
   ]
  },
  {
   "cell_type": "code",
   "execution_count": 1,
   "metadata": {},
   "outputs": [
    {
     "data": {
      "text/plain": [
       "['abcd', 'ef', 'ghi']"
      ]
     },
     "execution_count": 1,
     "metadata": {},
     "output_type": "execute_result"
    }
   ],
   "source": [
    "s = 'abcd:ef:ghi'\n",
    "\n",
    "s.split(':')  # str.split always returns a li"
   ]
  },
  {
   "cell_type": "code",
   "execution_count": null,
   "metadata": {},
   "outputs": [],
   "source": []
  }
 ],
 "metadata": {
  "kernelspec": {
   "display_name": "Python 3 (ipykernel)",
   "language": "python",
   "name": "python3"
  },
  "language_info": {
   "codemirror_mode": {
    "name": "ipython",
    "version": 3
   },
   "file_extension": ".py",
   "mimetype": "text/x-python",
   "name": "python",
   "nbconvert_exporter": "python",
   "pygments_lexer": "ipython3",
   "version": "3.13.2"
  }
 },
 "nbformat": 4,
 "nbformat_minor": 4
}
