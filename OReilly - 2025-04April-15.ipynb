{
 "cells": [
  {
   "cell_type": "markdown",
   "metadata": {},
   "source": [
    "# Agenda: Day 3\n",
    "\n",
    "- `str.split` and `str.join`\n",
    "- Tuples\n",
    "    - What are they?\n",
    "    - Tuple unpacking\n",
    "- Dictionaries\n",
    "    - How are they different from strings/lists/tuples?\n",
    "    - Defining dicts\n",
    "    - Retrieving from dicts\n",
    "    - Iterating over dicts\n",
    "    - Using them in general\n",
    "- Files\n",
    "    - Reading from (text) files\n",
    "    - A little bit about writing to files, as well"
   ]
  },
  {
   "cell_type": "markdown",
   "metadata": {},
   "source": [
    "# `str.split` and `str.join`\n",
    "\n",
    "If I have a string, and want to get a list from it, I can use the `str.split` method.\n",
    "\n",
    "- This is a string method, meaning that we will typically invoke `.split` on a string\n",
    "- Don't forget to put `()` after the invocation of `str.split`\n",
    "- If you put an argument in the `()`, then that is what will be used as a delimiter/separator\n",
    "- If you don't put an argument in the `()`, then any whitespace characters (space, newline, carriage return, and a few others), in any combination and in any number, will be used as delimiters"
   ]
  },
  {
   "cell_type": "code",
   "execution_count": 1,
   "metadata": {},
   "outputs": [
    {
     "data": {
      "text/plain": [
       "['abcd', 'ef', 'ghi']"
      ]
     },
     "execution_count": 1,
     "metadata": {},
     "output_type": "execute_result"
    }
   ],
   "source": [
    "s = 'abcd:ef:ghi'\n",
    "\n",
    "s.split(':')  # str.split always returns a list of strings"
   ]
  },
  {
   "cell_type": "code",
   "execution_count": 2,
   "metadata": {},
   "outputs": [
    {
     "data": {
      "text/plain": [
       "['abc', ':ef:ghi']"
      ]
     },
     "execution_count": 2,
     "metadata": {},
     "output_type": "execute_result"
    }
   ],
   "source": [
    "s.split('d')  # a little weird, but it'll work"
   ]
  },
  {
   "cell_type": "code",
   "execution_count": 4,
   "metadata": {},
   "outputs": [
    {
     "name": "stdin",
     "output_type": "stream",
     "text": [
      "Enter some text:  this      is          a            test\n"
     ]
    },
    {
     "data": {
      "text/plain": [
       "['this', 'is', 'a', 'test']"
      ]
     },
     "execution_count": 4,
     "metadata": {},
     "output_type": "execute_result"
    }
   ],
   "source": [
    "# much of the time that we want to use str.split, we actually want to split on whitespace\n",
    "# this is especially true when we get input from the user\n",
    "\n",
    "words = input('Enter some text: ').split()   # any/all combination of whitespace is used to cut\n",
    "\n",
    "words"
   ]
  },
  {
   "cell_type": "markdown",
   "metadata": {},
   "source": [
    "# The opposite of `str.split`: `str.join`\n",
    "\n",
    "- We invoke `str.join` on a string, and pass it a list of strings\n",
    "- If you pass `str.join` something that isn't a list of strings, you'll get an error\n",
    "- Notice that `str.join` is a *string* method! Meaning, we invoke it on the string that we'll want to see between the elements of the argument"
   ]
  },
  {
   "cell_type": "code",
   "execution_count": 5,
   "metadata": {},
   "outputs": [
    {
     "data": {
      "text/plain": [
       "'abcd*ef*ghij'"
      ]
     },
     "execution_count": 5,
     "metadata": {},
     "output_type": "execute_result"
    }
   ],
   "source": [
    "mylist = ['abcd', 'ef', 'ghij']\n",
    "\n",
    "'*'.join(mylist)    # I'm invoking str.join on the '*', but I'm passing mylist"
   ]
  },
  {
   "cell_type": "code",
   "execution_count": 6,
   "metadata": {},
   "outputs": [
    {
     "data": {
      "text/plain": [
       "'abcd ef ghij'"
      ]
     },
     "execution_count": 6,
     "metadata": {},
     "output_type": "execute_result"
    }
   ],
   "source": [
    "' '.join(mylist)   # glue is ' ', and the list is mylist... we get back a single string based on mylist's elements, connected by the glue"
   ]
  },
  {
   "cell_type": "code",
   "execution_count": 7,
   "metadata": {},
   "outputs": [
    {
     "data": {
      "text/plain": [
       "'abcd\\nef\\nghij'"
      ]
     },
     "execution_count": 7,
     "metadata": {},
     "output_type": "execute_result"
    }
   ],
   "source": [
    "'\\n'.join(mylist)"
   ]
  },
  {
   "cell_type": "code",
   "execution_count": 8,
   "metadata": {},
   "outputs": [
    {
     "name": "stdout",
     "output_type": "stream",
     "text": [
      "abcd\n",
      "ef\n",
      "ghij\n"
     ]
    }
   ],
   "source": [
    "print('\\n'.join(mylist))"
   ]
  },
  {
   "cell_type": "markdown",
   "metadata": {},
   "source": [
    "# Where do we use these?\n",
    "\n",
    "All over the place. \n",
    "\n",
    "Whenever we read from a file, database, network, or even the user, the odds are good that we'll have to break the data apart, and `str.split` is a standard, classic way to do that.\n",
    "\n",
    "If we have a list of strings, then `str.join` is a great way to get one string back from them. It's far faster and more efficient to create an empty list, and `append` numerous things to it as you walk through the program, and then just run `str.join` on the result, to get a resulting string. This is better than just doing `+=` tons of times on the string."
   ]
  },
  {
   "cell_type": "markdown",
   "metadata": {},
   "source": [
    "# `str.join` only works with lists of strings!\n",
    "\n",
    "If you have a list of non-strings that you want to get a single string from, you cannot use `str.join`, at least not directly."
   ]
  },
  {
   "cell_type": "code",
   "execution_count": 9,
   "metadata": {},
   "outputs": [
    {
     "ename": "TypeError",
     "evalue": "sequence item 0: expected str instance, int found",
     "output_type": "error",
     "traceback": [
      "\u001b[31m---------------------------------------------------------------------------\u001b[39m",
      "\u001b[31mTypeError\u001b[39m                                 Traceback (most recent call last)",
      "\u001b[36mCell\u001b[39m\u001b[36m \u001b[39m\u001b[32mIn[9]\u001b[39m\u001b[32m, line 3\u001b[39m\n\u001b[32m      1\u001b[39m mylist = [\u001b[32m10\u001b[39m, \u001b[32m20\u001b[39m, \u001b[32m30\u001b[39m]\n\u001b[32m----> \u001b[39m\u001b[32m3\u001b[39m \u001b[33;43m'\u001b[39;49m\u001b[33;43m*\u001b[39;49m\u001b[33;43m'\u001b[39;49m\u001b[43m.\u001b[49m\u001b[43mjoin\u001b[49m\u001b[43m(\u001b[49m\u001b[43mmylist\u001b[49m\u001b[43m)\u001b[49m\n",
      "\u001b[31mTypeError\u001b[39m: sequence item 0: expected str instance, int found"
     ]
    }
   ],
   "source": [
    "mylist = [10, 20, 30]\n",
    "\n",
    "'*'.join(mylist)"
   ]
  },
  {
   "cell_type": "markdown",
   "metadata": {},
   "source": [
    "# Exercise: Vowels, digits, and others (list edition)\n",
    "\n",
    "1. Define three empty lists -- `vowels`, `digits`, and `others`.\n",
    "2. Ask the user to enter some text.\n",
    "3. Go through that text, one character at a time:\n",
    "    - If it's a vowel, append to `vowels`\n",
    "    - If it's a digit, append to `digits`\n",
    "    - If it's neither, append to `others`\n",
    "4. When you're done, print each of the lists -- but first, `join` them together, to get a string, in which the characters are separated by commas and spaces.\n",
    "\n",
    "Example:\n",
    "\n",
    "      Enter text: hi! 123\n",
    "      vowels: i\n",
    "      digits: 1, 2, 3\n",
    "      others: h, !,  "
   ]
  },
  {
   "cell_type": "code",
   "execution_count": 14,
   "metadata": {},
   "outputs": [
    {
     "name": "stdin",
     "output_type": "stream",
     "text": [
      "Enter some text:  hello out there! 12345\n"
     ]
    },
    {
     "name": "stdout",
     "output_type": "stream",
     "text": [
      "e, o, o, u, e, e\n",
      "1, 2, 3, 4, 5\n",
      "h, l, l,  , t,  , t, h, r, !,  \n"
     ]
    }
   ],
   "source": [
    "vowels = []\n",
    "digits = []\n",
    "others = []\n",
    "\n",
    "text = input('Enter some text: ').strip()  # get input from the user, remove leading/trailing spaces, and assign the result to \"text\"\n",
    "\n",
    "for one_character in text:\n",
    "    if one_character in 'aeiou':         # if one_character is a vowel...\n",
    "        vowels.append(one_character)     # ... append it to the end of \"vowels\"\n",
    "    elif one_character.isdigit():        # if one_character is a digit...\n",
    "        digits.append(one_character)     # ... append it to the end of \"digits\"\n",
    "    else:\n",
    "        others.append(one_character)     # otherwise, just append to the end of \"others\"\n",
    "\n",
    "print(', '.join(vowels))  # ',' is our \"glue,\" and \"vowels\" contains the elements to glue together\n",
    "print(', '.join(digits))\n",
    "print(', '.join(others))"
   ]
  },
  {
   "cell_type": "code",
   "execution_count": 19,
   "metadata": {
    "jupyter": {
     "source_hidden": true
    }
   },
   "outputs": [
    {
     "data": {
      "text/plain": [
       "'h|l|l| |t| |t|h|r|!| '"
      ]
     },
     "execution_count": 19,
     "metadata": {},
     "output_type": "execute_result"
    }
   ],
   "source": [
    "# this means: give me a string based on the list \"others\", putting\n",
    "# | between every two elements.\n",
    "\n",
    "'|'.join(others)"
   ]
  },
  {
   "cell_type": "code",
   "execution_count": 21,
   "metadata": {},
   "outputs": [
    {
     "data": {
      "text/plain": [
       "'h * l * l *   * t *   * t * h * r * ! *  '"
      ]
     },
     "execution_count": 21,
     "metadata": {},
     "output_type": "execute_result"
    }
   ],
   "source": [
    "sep = '*'\n",
    "\n",
    "# join not on sep, but on sep inside of an f-string, where it has spaces between the separator\n",
    "f' {sep} '.join(others)"
   ]
  },
  {
   "cell_type": "markdown",
   "metadata": {},
   "source": [
    "# Functions vs. methods\n",
    "\n",
    "Both functions and methods are the verbs in Python; they both tell the language to do something.\n",
    "\n",
    "The difference is:\n",
    "\n",
    "- Functions are floating around in Python's memory, unconnected to any particular data structure. You can tell that something is a function because there isn't any `.` before its name.\n",
    "- By contrast, *methods* are functions that are attached to a particular type of data. We indicate this when we write their names as `str.join` and `list.append`. When we invoke them, we always have to use a `.`, and we often invoke the method on a particular instance of a data type, as in `'*'.join(mylist)` or `mylist.append('a')`.\n",
    "\n",
    "Methods are far more common than functions in Python, because they help to keep our code organized. This way, we know exactly what methods are defined on a given type, and how to invoke them. Functions aren't explicitly and clearly connected to any type.\n",
    "\n",
    "There are functions in Python, and they tend to be the most common and the simplest verbs. As time goes on, you'll see more and more methods."
   ]
  },
  {
   "cell_type": "markdown",
   "metadata": {},
   "source": [
    "# Tuples and unpacking\n",
    "\n",
    "Python has three \"sequence\" types:\n",
    "\n",
    "- Strings, which cont"
   ]
  }
 ],
 "metadata": {
  "kernelspec": {
   "display_name": "Python 3 (ipykernel)",
   "language": "python",
   "name": "python3"
  },
  "language_info": {
   "codemirror_mode": {
    "name": "ipython",
    "version": 3
   },
   "file_extension": ".py",
   "mimetype": "text/x-python",
   "name": "python",
   "nbconvert_exporter": "python",
   "pygments_lexer": "ipython3",
   "version": "3.13.2"
  }
 },
 "nbformat": 4,
 "nbformat_minor": 4
}
