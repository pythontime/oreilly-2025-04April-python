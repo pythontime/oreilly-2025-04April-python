{
 "cells": [
  {
   "cell_type": "markdown",
   "metadata": {},
   "source": [
    "# Agenda: Day 3\n",
    "\n",
    "- `str.split` and `str.join`\n",
    "- Tuples\n",
    "    - What are they?\n",
    "    - Tuple unpacking\n",
    "- Dictionaries\n",
    "    - How are they different from strings/lists/tuples?\n",
    "    - Defining dicts\n",
    "    - Retrieving from dicts\n",
    "    - Iterating over dicts\n",
    "    - Using them in general\n",
    "- Files\n",
    "    - Reading from (text) files\n",
    "    - A little bit about writing to files, as well"
   ]
  },
  {
   "cell_type": "markdown",
   "metadata": {},
   "source": [
    "# `str.split` and `str.join`\n",
    "\n",
    "If I have a string, and want to get a list from it, I can use the `str.split` method.\n",
    "\n",
    "- This is a string method, meaning that we will typically invoke `.split` on a string\n",
    "- Don't forget to put `()` after the invocation of `str.split`\n",
    "- If you put an argument in the `()`, then that is what will be used as a delimiter/separator\n",
    "- If you don't put an argument in the `()`, then any whitespace characters (space, newline, carriage return, and a few others), in any combination and in any number, will be used as delimiters"
   ]
  },
  {
   "cell_type": "code",
   "execution_count": 1,
   "metadata": {},
   "outputs": [
    {
     "data": {
      "text/plain": [
       "['abcd', 'ef', 'ghi']"
      ]
     },
     "execution_count": 1,
     "metadata": {},
     "output_type": "execute_result"
    }
   ],
   "source": [
    "s = 'abcd:ef:ghi'\n",
    "\n",
    "s.split(':')  # str.split always returns a list of strings"
   ]
  },
  {
   "cell_type": "code",
   "execution_count": 2,
   "metadata": {},
   "outputs": [
    {
     "data": {
      "text/plain": [
       "['abc', ':ef:ghi']"
      ]
     },
     "execution_count": 2,
     "metadata": {},
     "output_type": "execute_result"
    }
   ],
   "source": [
    "s.split('d')  # a little weird, but it'll work"
   ]
  },
  {
   "cell_type": "code",
   "execution_count": 4,
   "metadata": {},
   "outputs": [
    {
     "name": "stdin",
     "output_type": "stream",
     "text": [
      "Enter some text:  this      is          a            test\n"
     ]
    },
    {
     "data": {
      "text/plain": [
       "['this', 'is', 'a', 'test']"
      ]
     },
     "execution_count": 4,
     "metadata": {},
     "output_type": "execute_result"
    }
   ],
   "source": [
    "# much of the time that we want to use str.split, we actually want to split on whitespace\n",
    "# this is especially true when we get input from the user\n",
    "\n",
    "words = input('Enter some text: ').split()   # any/all combination of whitespace is used to cut\n",
    "\n",
    "words"
   ]
  },
  {
   "cell_type": "markdown",
   "metadata": {},
   "source": [
    "# The opposite of `str.split`: `str.join`\n",
    "\n",
    "- We invoke `str.join` on a string, and pass it a list of strings\n",
    "- If you pass `str.join` something that isn't a list of strings, you'll get an error\n",
    "- Notice that `str.join` is a *string* method! Meaning, we invoke it on the string that we'll want to see between the elements of the argument"
   ]
  },
  {
   "cell_type": "code",
   "execution_count": 5,
   "metadata": {},
   "outputs": [
    {
     "data": {
      "text/plain": [
       "'abcd*ef*ghij'"
      ]
     },
     "execution_count": 5,
     "metadata": {},
     "output_type": "execute_result"
    }
   ],
   "source": [
    "mylist = ['abcd', 'ef', 'ghij']\n",
    "\n",
    "'*'.join(mylist)    # I'm invoking str.join on the '*', but I'm passing mylist"
   ]
  },
  {
   "cell_type": "code",
   "execution_count": 6,
   "metadata": {},
   "outputs": [
    {
     "data": {
      "text/plain": [
       "'abcd ef ghij'"
      ]
     },
     "execution_count": 6,
     "metadata": {},
     "output_type": "execute_result"
    }
   ],
   "source": [
    "' '.join(mylist)   # glue is ' ', and the list is mylist... we get back a single string based on mylist's elements, connected by the glue"
   ]
  },
  {
   "cell_type": "code",
   "execution_count": 7,
   "metadata": {},
   "outputs": [
    {
     "data": {
      "text/plain": [
       "'abcd\\nef\\nghij'"
      ]
     },
     "execution_count": 7,
     "metadata": {},
     "output_type": "execute_result"
    }
   ],
   "source": [
    "'\\n'.join(mylist)"
   ]
  },
  {
   "cell_type": "code",
   "execution_count": 8,
   "metadata": {},
   "outputs": [
    {
     "name": "stdout",
     "output_type": "stream",
     "text": [
      "abcd\n",
      "ef\n",
      "ghij\n"
     ]
    }
   ],
   "source": [
    "print('\\n'.join(mylist))"
   ]
  },
  {
   "cell_type": "markdown",
   "metadata": {},
   "source": [
    "# Where do we use these?\n",
    "\n",
    "All over the place. \n",
    "\n",
    "Whenever we read from a file, database, network, or even the user, the odds are good that we'll have to break the data apart, and `str.split` is a standard, classic way to do that.\n",
    "\n",
    "If we have a list of strings, then `str.join` is a great way to get one string back from them. It's far faster and more efficient to create an empty list, and `append` numerous things to it as you walk through the program, and then just run `str.join` on the result, to get a resulting string. This is better than just doing `+=` tons of times on the string."
   ]
  },
  {
   "cell_type": "markdown",
   "metadata": {},
   "source": [
    "# `str.join` only works with lists of strings!\n",
    "\n",
    "If you have a list of non-strings that you want to get a single string from, you cannot use `str.join`, at least not directly."
   ]
  },
  {
   "cell_type": "code",
   "execution_count": 9,
   "metadata": {},
   "outputs": [
    {
     "ename": "TypeError",
     "evalue": "sequence item 0: expected str instance, int found",
     "output_type": "error",
     "traceback": [
      "\u001b[31m---------------------------------------------------------------------------\u001b[39m",
      "\u001b[31mTypeError\u001b[39m                                 Traceback (most recent call last)",
      "\u001b[36mCell\u001b[39m\u001b[36m \u001b[39m\u001b[32mIn[9]\u001b[39m\u001b[32m, line 3\u001b[39m\n\u001b[32m      1\u001b[39m mylist = [\u001b[32m10\u001b[39m, \u001b[32m20\u001b[39m, \u001b[32m30\u001b[39m]\n\u001b[32m----> \u001b[39m\u001b[32m3\u001b[39m \u001b[33;43m'\u001b[39;49m\u001b[33;43m*\u001b[39;49m\u001b[33;43m'\u001b[39;49m\u001b[43m.\u001b[49m\u001b[43mjoin\u001b[49m\u001b[43m(\u001b[49m\u001b[43mmylist\u001b[49m\u001b[43m)\u001b[49m\n",
      "\u001b[31mTypeError\u001b[39m: sequence item 0: expected str instance, int found"
     ]
    }
   ],
   "source": [
    "mylist = [10, 20, 30]\n",
    "\n",
    "'*'.join(mylist)"
   ]
  },
  {
   "cell_type": "markdown",
   "metadata": {},
   "source": [
    "# Exercise: Vowels, digits, and others (list edition)\n",
    "\n",
    "1. Define three empty lists -- `vowels`, `digits`, and `others`.\n",
    "2. Ask the user to enter some text.\n",
    "3. Go through that text, one character at a time:\n",
    "    - If it's a vowel, append to `vowels`\n",
    "    - If it's a digit, append to `digits`\n",
    "    - If it's neither, append to `others`\n",
    "4. When you're done, print each of the lists -- but first, `join` them together, to get a string, in which the characters are separated by commas and spaces.\n",
    "\n",
    "Example:\n",
    "\n",
    "      Enter text: hi! 123\n",
    "      vowels: i\n",
    "      digits: 1, 2, 3\n",
    "      others: h, !,  "
   ]
  },
  {
   "cell_type": "code",
   "execution_count": 14,
   "metadata": {},
   "outputs": [
    {
     "name": "stdin",
     "output_type": "stream",
     "text": [
      "Enter some text:  hello out there! 12345\n"
     ]
    },
    {
     "name": "stdout",
     "output_type": "stream",
     "text": [
      "e, o, o, u, e, e\n",
      "1, 2, 3, 4, 5\n",
      "h, l, l,  , t,  , t, h, r, !,  \n"
     ]
    }
   ],
   "source": [
    "vowels = []\n",
    "digits = []\n",
    "others = []\n",
    "\n",
    "text = input('Enter some text: ').strip()  # get input from the user, remove leading/trailing spaces, and assign the result to \"text\"\n",
    "\n",
    "for one_character in text:\n",
    "    if one_character in 'aeiou':         # if one_character is a vowel...\n",
    "        vowels.append(one_character)     # ... append it to the end of \"vowels\"\n",
    "    elif one_character.isdigit():        # if one_character is a digit...\n",
    "        digits.append(one_character)     # ... append it to the end of \"digits\"\n",
    "    else:\n",
    "        others.append(one_character)     # otherwise, just append to the end of \"others\"\n",
    "\n",
    "print(', '.join(vowels))  # ',' is our \"glue,\" and \"vowels\" contains the elements to glue together\n",
    "print(', '.join(digits))\n",
    "print(', '.join(others))"
   ]
  },
  {
   "cell_type": "code",
   "execution_count": 19,
   "metadata": {
    "jupyter": {
     "source_hidden": true
    }
   },
   "outputs": [
    {
     "data": {
      "text/plain": [
       "'h|l|l| |t| |t|h|r|!| '"
      ]
     },
     "execution_count": 19,
     "metadata": {},
     "output_type": "execute_result"
    }
   ],
   "source": [
    "# this means: give me a string based on the list \"others\", putting\n",
    "# | between every two elements.\n",
    "\n",
    "'|'.join(others)"
   ]
  },
  {
   "cell_type": "code",
   "execution_count": 21,
   "metadata": {},
   "outputs": [
    {
     "data": {
      "text/plain": [
       "'h * l * l *   * t *   * t * h * r * ! *  '"
      ]
     },
     "execution_count": 21,
     "metadata": {},
     "output_type": "execute_result"
    }
   ],
   "source": [
    "sep = '*'\n",
    "\n",
    "# join not on sep, but on sep inside of an f-string, where it has spaces between the separator\n",
    "f' {sep} '.join(others)"
   ]
  },
  {
   "cell_type": "markdown",
   "metadata": {},
   "source": [
    "# Functions vs. methods\n",
    "\n",
    "Both functions and methods are the verbs in Python; they both tell the language to do something.\n",
    "\n",
    "The difference is:\n",
    "\n",
    "- Functions are floating around in Python's memory, unconnected to any particular data structure. You can tell that something is a function because there isn't any `.` before its name.\n",
    "- By contrast, *methods* are functions that are attached to a particular type of data. We indicate this when we write their names as `str.join` and `list.append`. When we invoke them, we always have to use a `.`, and we often invoke the method on a particular instance of a data type, as in `'*'.join(mylist)` or `mylist.append('a')`.\n",
    "\n",
    "Methods are far more common than functions in Python, because they help to keep our code organized. This way, we know exactly what methods are defined on a given type, and how to invoke them. Functions aren't explicitly and clearly connected to any type.\n",
    "\n",
    "There are functions in Python, and they tend to be the most common and the simplest verbs. As time goes on, you'll see more and more methods."
   ]
  },
  {
   "cell_type": "code",
   "execution_count": 23,
   "metadata": {},
   "outputs": [
    {
     "name": "stdin",
     "output_type": "stream",
     "text": [
      "enter a text:  hello out there! 12345\n"
     ]
    },
    {
     "name": "stdout",
     "output_type": "stream",
     "text": [
      "Vowels: e, o, o, u, e, e\n"
     ]
    }
   ],
   "source": [
    "# CC\n",
    "\n",
    "vowels = []\n",
    "digits = []\n",
    "others = []\n",
    "\n",
    "text = input(\"enter a text: \").strip()\n",
    "\n",
    "for character in text:\n",
    "  if character in \"aeiou\":\n",
    "    vowels.append(character)\n",
    "  elif character.isdigit():\n",
    "    digits.append(character)\n",
    "  else:\n",
    "    others.append(character)\n",
    "\n",
    "print(f\"Vowels: {\", \".join(vowels)}\")"
   ]
  },
  {
   "cell_type": "markdown",
   "metadata": {},
   "source": [
    "# Tuples and unpacking\n",
    "\n",
    "Python has three \"sequence\" types:\n",
    "\n",
    "- Strings, which contain characters and are immutable, meaning that we cannot change them\n",
    "- Lists, which contain *anything* at all, and are mutable, meaning that we *can* change them\n",
    "- Tuples, which contain *anything* (like lists) but are immutable (like strings)\n",
    "\n",
    "It's very tempting to say that tuples are just immutable lists, or \"locked lists.\" But really, in practice, there are two different uses for lists and tuples:\n",
    "\n",
    "- Lists are meant to be for sequences of data in which every value has the same type\n",
    "- Tuples are meant for sequences of data in which values have different types\n",
    "\n",
    "How much will you use tuples? Probably not much, especially in your first year of using Python. But it's important to know what they are, and how they work.\n",
    "\n",
    "#### To define a tuple\n",
    "\n",
    "Use `()`, as in\n",
    "\n",
    "```python\n",
    "t = (10, 20, 30, 40, 50)\n",
    "```\n",
    "\n",
    "#### To retrieve from a tuple\n",
    "\n",
    "Just use `[]` and an index or a slice (`start:end`), in the square brackets:\n",
    "\n",
    "```python\n",
    "t[2]\n",
    "t[2:4]\n",
    "```\n",
    "\n",
    "You can also:\n",
    "- Search in a tuple with `in`\n",
    "- Iterate over a tuple with `for`\n",
    "- Get the number of values in a tuple with `len`\n",
    "\n",
    "In other words, tuples work just like lists in many ways. *BUT* if you try to assign to a tuple, you'll find that it's impossible."
   ]
  },
  {
   "cell_type": "markdown",
   "metadata": {},
   "source": [
    "# The most common way to use tuples\n",
    "\n",
    "The most common way that newcomers to Python use tuples is in \"tuple unpacking.\" The basic idea is:\n",
    "\n",
    "- Have an iterable value (i.e., something that knows how to behave in a `for` loop) on the right of assignment\n",
    "- Have a tuple of variables on the left of the assignment\n",
    "- Make sure that the number of values on the right and the number of variables on the left matches"
   ]
  },
  {
   "cell_type": "code",
   "execution_count": 24,
   "metadata": {},
   "outputs": [],
   "source": [
    "mylist = [10, 20, 30]\n",
    "\n",
    "(x,y,z) = mylist    # tuple of variables on the left, iterable of values on the right, same number in both"
   ]
  },
  {
   "cell_type": "code",
   "execution_count": 25,
   "metadata": {},
   "outputs": [
    {
     "data": {
      "text/plain": [
       "10"
      ]
     },
     "execution_count": 25,
     "metadata": {},
     "output_type": "execute_result"
    }
   ],
   "source": [
    "# the result is that we've assigned each value to its parallel variable\n",
    "\n",
    "x"
   ]
  },
  {
   "cell_type": "code",
   "execution_count": 26,
   "metadata": {},
   "outputs": [
    {
     "data": {
      "text/plain": [
       "20"
      ]
     },
     "execution_count": 26,
     "metadata": {},
     "output_type": "execute_result"
    }
   ],
   "source": [
    "y"
   ]
  },
  {
   "cell_type": "code",
   "execution_count": 27,
   "metadata": {},
   "outputs": [
    {
     "data": {
      "text/plain": [
       "30"
      ]
     },
     "execution_count": 27,
     "metadata": {},
     "output_type": "execute_result"
    }
   ],
   "source": [
    "z"
   ]
  },
  {
   "cell_type": "code",
   "execution_count": 28,
   "metadata": {},
   "outputs": [],
   "source": [
    "# you actually don't need () when writing tuples! So... we can just write:\n",
    "\n",
    "x,y,z = mylist"
   ]
  },
  {
   "cell_type": "code",
   "execution_count": 29,
   "metadata": {},
   "outputs": [
    {
     "data": {
      "text/plain": [
       "10"
      ]
     },
     "execution_count": 29,
     "metadata": {},
     "output_type": "execute_result"
    }
   ],
   "source": [
    "x"
   ]
  },
  {
   "cell_type": "code",
   "execution_count": 30,
   "metadata": {},
   "outputs": [
    {
     "data": {
      "text/plain": [
       "20"
      ]
     },
     "execution_count": 30,
     "metadata": {},
     "output_type": "execute_result"
    }
   ],
   "source": [
    "y"
   ]
  },
  {
   "cell_type": "code",
   "execution_count": 31,
   "metadata": {},
   "outputs": [
    {
     "data": {
      "text/plain": [
       "30"
      ]
     },
     "execution_count": 31,
     "metadata": {},
     "output_type": "execute_result"
    }
   ],
   "source": [
    "z"
   ]
  },
  {
   "cell_type": "markdown",
   "metadata": {},
   "source": [
    "# Remember `enumerate`?\n",
    "\n",
    "Last time, we saw that if we want to number the elements of a string (or any sequence) when we invoke a `for` loop, we could do so with `enumerate`:\n"
   ]
  },
  {
   "cell_type": "code",
   "execution_count": 34,
   "metadata": {},
   "outputs": [
    {
     "name": "stdout",
     "output_type": "stream",
     "text": [
      "0: a\n",
      "1: b\n",
      "2: c\n",
      "3: d\n"
     ]
    }
   ],
   "source": [
    "# this works via tuple unpacking!\n",
    "# with each iteration, enumerate('abcd') gives us a 2-element tuple, (index, character)\n",
    "# we break that apart in the \"for\" loop with two variables -- a kind of internal unpacking\n",
    "\n",
    "for index, one_item in enumerate('abcd'):\n",
    "    print(f'{index}: {one_item}')"
   ]
  },
  {
   "cell_type": "code",
   "execution_count": 35,
   "metadata": {},
   "outputs": [
    {
     "data": {
      "text/plain": [
       "(10, 'a', [1, 2, 3])"
      ]
     },
     "execution_count": 35,
     "metadata": {},
     "output_type": "execute_result"
    }
   ],
   "source": [
    "t = (10, 'a', [1,2,3])\n",
    "t"
   ]
  },
  {
   "cell_type": "code",
   "execution_count": 36,
   "metadata": {},
   "outputs": [
    {
     "data": {
      "text/plain": [
       "10"
      ]
     },
     "execution_count": 36,
     "metadata": {},
     "output_type": "execute_result"
    }
   ],
   "source": [
    "t[0]"
   ]
  },
  {
   "cell_type": "code",
   "execution_count": 37,
   "metadata": {},
   "outputs": [
    {
     "data": {
      "text/plain": [
       "'a'"
      ]
     },
     "execution_count": 37,
     "metadata": {},
     "output_type": "execute_result"
    }
   ],
   "source": [
    "t[1]"
   ]
  },
  {
   "cell_type": "code",
   "execution_count": 38,
   "metadata": {},
   "outputs": [
    {
     "data": {
      "text/plain": [
       "[1, 2, 3]"
      ]
     },
     "execution_count": 38,
     "metadata": {},
     "output_type": "execute_result"
    }
   ],
   "source": [
    "t[2]"
   ]
  },
  {
   "cell_type": "code",
   "execution_count": 39,
   "metadata": {},
   "outputs": [],
   "source": [
    "person = ('Reuven', 'Lerner', 54, 46)\n",
    "\n",
    "first_name, last_name, age, shoe_size = person"
   ]
  },
  {
   "cell_type": "code",
   "execution_count": 40,
   "metadata": {},
   "outputs": [
    {
     "data": {
      "text/plain": [
       "'Reuven'"
      ]
     },
     "execution_count": 40,
     "metadata": {},
     "output_type": "execute_result"
    }
   ],
   "source": [
    "first_name"
   ]
  },
  {
   "cell_type": "code",
   "execution_count": 41,
   "metadata": {},
   "outputs": [
    {
     "data": {
      "text/plain": [
       "'Lerner'"
      ]
     },
     "execution_count": 41,
     "metadata": {},
     "output_type": "execute_result"
    }
   ],
   "source": [
    "last_name"
   ]
  },
  {
   "cell_type": "code",
   "execution_count": 42,
   "metadata": {},
   "outputs": [
    {
     "data": {
      "text/plain": [
       "54"
      ]
     },
     "execution_count": 42,
     "metadata": {},
     "output_type": "execute_result"
    }
   ],
   "source": [
    "age"
   ]
  },
  {
   "cell_type": "code",
   "execution_count": 43,
   "metadata": {},
   "outputs": [
    {
     "data": {
      "text/plain": [
       "46"
      ]
     },
     "execution_count": 43,
     "metadata": {},
     "output_type": "execute_result"
    }
   ],
   "source": [
    "shoe_size"
   ]
  },
  {
   "cell_type": "code",
   "execution_count": 44,
   "metadata": {},
   "outputs": [],
   "source": [
    "# here, we're creating a new tuple whose values are from mylist\n",
    "# but we're not storing the tuple itself! Rather, we're storing the values we got from mylist\n",
    "# it's totally OK for us to have a list, unpack its values into a tuple, and then use those variables\n",
    "\n",
    "(x,y,z) = mylist "
   ]
  },
  {
   "cell_type": "markdown",
   "metadata": {},
   "source": [
    "# Exercise: First and last names\n",
    "\n",
    "1. Ask the user, repeatedly, to enter their first + last names, separated by a space.\n",
    "    - If the user enters an empty string, then use `break` to get out of the `while True` loop.\n",
    "2. Assume that the user did enter just two names, separated by a space.\n",
    "3. Use tuple unpacking to define `first_name` and `last_name`, based on the user's input\n",
    "4. Greet the person using their first and last names (but not together).\n",
    "\n",
    "Example:\n",
    "\n",
    "    Enter your first + last names: Reuven Lerner\n",
    "    Hello, Reuven!\n",
    "    We have not had any Lerners here for a while. Welcome.\n"
   ]
  },
  {
   "cell_type": "code",
   "execution_count": null,
   "metadata": {},
   "outputs": [],
   "source": []
  }
 ],
 "metadata": {
  "kernelspec": {
   "display_name": "Python 3 (ipykernel)",
   "language": "python",
   "name": "python3"
  },
  "language_info": {
   "codemirror_mode": {
    "name": "ipython",
    "version": 3
   },
   "file_extension": ".py",
   "mimetype": "text/x-python",
   "name": "python",
   "nbconvert_exporter": "python",
   "pygments_lexer": "ipython3",
   "version": "3.13.2"
  }
 },
 "nbformat": 4,
 "nbformat_minor": 4
}
