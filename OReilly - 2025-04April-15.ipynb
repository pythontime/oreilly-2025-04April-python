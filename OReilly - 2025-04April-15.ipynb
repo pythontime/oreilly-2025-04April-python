{
 "cells": [
  {
   "cell_type": "markdown",
   "metadata": {},
   "source": [
    "# Agenda: Day 3\n",
    "\n",
    "- `str.split` and `str.join`\n",
    "- Tuples\n",
    "    - What are they?\n",
    "    - Tuple unpacking\n",
    "- Dictionaries\n",
    "    - How are they different from strings/lists/tuples?\n",
    "    - Defining dicts\n",
    "    - Retrieving from dicts\n",
    "    - Iterating over dicts\n",
    "    - Using them in general\n",
    "- Files\n",
    "    - Reading from (text) files\n",
    "    - A little bit about writing to files, as well"
   ]
  },
  {
   "cell_type": "markdown",
   "metadata": {},
   "source": [
    "# `str.split` and `str.join`\n",
    "\n",
    "If I have a string, and want to get a list from it, I can use the `str.split` method.\n",
    "\n",
    "- This is a string method, meaning that we will typically invoke `.split` on a string\n",
    "- Don't forget to put `()` after the invocation of `str.split`\n",
    "- If you put an argument in the `()`, then that is what will be used as a delimiter/separator\n",
    "- If you don't put an argument in the `()`, then any whitespace characters (space, newline, carriage return, and a few others), in any combination and in any number, will be used as delimiters"
   ]
  },
  {
   "cell_type": "code",
   "execution_count": 1,
   "metadata": {},
   "outputs": [
    {
     "data": {
      "text/plain": [
       "['abcd', 'ef', 'ghi']"
      ]
     },
     "execution_count": 1,
     "metadata": {},
     "output_type": "execute_result"
    }
   ],
   "source": [
    "s = 'abcd:ef:ghi'\n",
    "\n",
    "s.split(':')  # str.split always returns a list of strings"
   ]
  },
  {
   "cell_type": "code",
   "execution_count": 2,
   "metadata": {},
   "outputs": [
    {
     "data": {
      "text/plain": [
       "['abc', ':ef:ghi']"
      ]
     },
     "execution_count": 2,
     "metadata": {},
     "output_type": "execute_result"
    }
   ],
   "source": [
    "s.split('d')  # a little weird, but it'll work"
   ]
  },
  {
   "cell_type": "code",
   "execution_count": 4,
   "metadata": {},
   "outputs": [
    {
     "name": "stdin",
     "output_type": "stream",
     "text": [
      "Enter some text:  this      is          a            test\n"
     ]
    },
    {
     "data": {
      "text/plain": [
       "['this', 'is', 'a', 'test']"
      ]
     },
     "execution_count": 4,
     "metadata": {},
     "output_type": "execute_result"
    }
   ],
   "source": [
    "# much of the time that we want to use str.split, we actually want to split on whitespace\n",
    "# this is especially true when we get input from the user\n",
    "\n",
    "words = input('Enter some text: ').split()   # any/all combination of whitespace is used to cut\n",
    "\n",
    "words"
   ]
  },
  {
   "cell_type": "markdown",
   "metadata": {},
   "source": [
    "# The opposite of `str.split`: `str.join`\n",
    "\n",
    "- We invoke `str.join` on a string, and pass it a list of strings\n",
    "- If you pass `str.join` something that isn't a list of strings, you'll get an error\n",
    "- Notice that `str.join` is a *string* method! Meaning, we invoke it on the string that we'll want to see between the elements of the argument"
   ]
  },
  {
   "cell_type": "code",
   "execution_count": 5,
   "metadata": {},
   "outputs": [
    {
     "data": {
      "text/plain": [
       "'abcd*ef*ghij'"
      ]
     },
     "execution_count": 5,
     "metadata": {},
     "output_type": "execute_result"
    }
   ],
   "source": [
    "mylist = ['abcd', 'ef', 'ghij']\n",
    "\n",
    "'*'.join(mylist)    # I'm invoking str.join on the '*', but I'm passing mylist"
   ]
  },
  {
   "cell_type": "code",
   "execution_count": 6,
   "metadata": {},
   "outputs": [
    {
     "data": {
      "text/plain": [
       "'abcd ef ghij'"
      ]
     },
     "execution_count": 6,
     "metadata": {},
     "output_type": "execute_result"
    }
   ],
   "source": [
    "' '.join(mylist)   # glue is ' ', and the list is mylist... we get back a single string based on mylist's elements, connected by the glue"
   ]
  },
  {
   "cell_type": "code",
   "execution_count": 7,
   "metadata": {},
   "outputs": [
    {
     "data": {
      "text/plain": [
       "'abcd\\nef\\nghij'"
      ]
     },
     "execution_count": 7,
     "metadata": {},
     "output_type": "execute_result"
    }
   ],
   "source": [
    "'\\n'.join(mylist)"
   ]
  },
  {
   "cell_type": "code",
   "execution_count": 8,
   "metadata": {},
   "outputs": [
    {
     "name": "stdout",
     "output_type": "stream",
     "text": [
      "abcd\n",
      "ef\n",
      "ghij\n"
     ]
    }
   ],
   "source": [
    "print('\\n'.join(mylist))"
   ]
  },
  {
   "cell_type": "markdown",
   "metadata": {},
   "source": [
    "# Where do we use these?\n",
    "\n",
    "All over the place. \n",
    "\n",
    "Whenever we read from a file, database, network, or even the user, the odds are good that we'll have to break the data apart, and `str.split` is a standard, classic way to do that.\n",
    "\n",
    "If we have a list of strings, then `str.join` is a great way to get one string back from them. It's far faster and more efficient to create an empty list, and `append` numerous things to it as you walk through the program, and then just run `str.join` on the result, to get a resulting string. This is better than just doing `+=` tons of times on the string."
   ]
  },
  {
   "cell_type": "markdown",
   "metadata": {},
   "source": [
    "# `str.join` only works with lists of strings!\n",
    "\n",
    "If you have a list of non-strings that you want to get a single string from, you cannot use `str.join`, at least not directly."
   ]
  },
  {
   "cell_type": "code",
   "execution_count": 9,
   "metadata": {},
   "outputs": [
    {
     "ename": "TypeError",
     "evalue": "sequence item 0: expected str instance, int found",
     "output_type": "error",
     "traceback": [
      "\u001b[31m---------------------------------------------------------------------------\u001b[39m",
      "\u001b[31mTypeError\u001b[39m                                 Traceback (most recent call last)",
      "\u001b[36mCell\u001b[39m\u001b[36m \u001b[39m\u001b[32mIn[9]\u001b[39m\u001b[32m, line 3\u001b[39m\n\u001b[32m      1\u001b[39m mylist = [\u001b[32m10\u001b[39m, \u001b[32m20\u001b[39m, \u001b[32m30\u001b[39m]\n\u001b[32m----> \u001b[39m\u001b[32m3\u001b[39m \u001b[33;43m'\u001b[39;49m\u001b[33;43m*\u001b[39;49m\u001b[33;43m'\u001b[39;49m\u001b[43m.\u001b[49m\u001b[43mjoin\u001b[49m\u001b[43m(\u001b[49m\u001b[43mmylist\u001b[49m\u001b[43m)\u001b[49m\n",
      "\u001b[31mTypeError\u001b[39m: sequence item 0: expected str instance, int found"
     ]
    }
   ],
   "source": [
    "mylist = [10, 20, 30]\n",
    "\n",
    "'*'.join(mylist)"
   ]
  },
  {
   "cell_type": "markdown",
   "metadata": {},
   "source": [
    "# Exercise: Vowels, digits, and others (list edition)\n",
    "\n",
    "1. Define three empty lists -- `vowels`, `digits`, and `others`.\n",
    "2. Ask the user to enter some text.\n",
    "3. Go through that text, one character at a time:\n",
    "    - If it's a vowel, append to `vowels`\n",
    "    - If it's a digit, append to `digits`\n",
    "    - If it's neither, append to `others`\n",
    "4. When you're done, print each of the lists -- but first, `join` them together, to get a string, in which the characters are separated by commas and spaces.\n",
    "\n",
    "Example:\n",
    "\n",
    "      Enter text: hi! 123\n",
    "      vowels: i\n",
    "      digits: 1, 2, 3\n",
    "      others: h, !,  "
   ]
  },
  {
   "cell_type": "code",
   "execution_count": 14,
   "metadata": {},
   "outputs": [
    {
     "name": "stdin",
     "output_type": "stream",
     "text": [
      "Enter some text:  hello out there! 12345\n"
     ]
    },
    {
     "name": "stdout",
     "output_type": "stream",
     "text": [
      "e, o, o, u, e, e\n",
      "1, 2, 3, 4, 5\n",
      "h, l, l,  , t,  , t, h, r, !,  \n"
     ]
    }
   ],
   "source": [
    "vowels = []\n",
    "digits = []\n",
    "others = []\n",
    "\n",
    "text = input('Enter some text: ').strip()  # get input from the user, remove leading/trailing spaces, and assign the result to \"text\"\n",
    "\n",
    "for one_character in text:\n",
    "    if one_character in 'aeiou':         # if one_character is a vowel...\n",
    "        vowels.append(one_character)     # ... append it to the end of \"vowels\"\n",
    "    elif one_character.isdigit():        # if one_character is a digit...\n",
    "        digits.append(one_character)     # ... append it to the end of \"digits\"\n",
    "    else:\n",
    "        others.append(one_character)     # otherwise, just append to the end of \"others\"\n",
    "\n",
    "print(', '.join(vowels))  # ',' is our \"glue,\" and \"vowels\" contains the elements to glue together\n",
    "print(', '.join(digits))\n",
    "print(', '.join(others))"
   ]
  },
  {
   "cell_type": "code",
   "execution_count": 19,
   "metadata": {
    "jupyter": {
     "source_hidden": true
    }
   },
   "outputs": [
    {
     "data": {
      "text/plain": [
       "'h|l|l| |t| |t|h|r|!| '"
      ]
     },
     "execution_count": 19,
     "metadata": {},
     "output_type": "execute_result"
    }
   ],
   "source": [
    "# this means: give me a string based on the list \"others\", putting\n",
    "# | between every two elements.\n",
    "\n",
    "'|'.join(others)"
   ]
  },
  {
   "cell_type": "code",
   "execution_count": 21,
   "metadata": {},
   "outputs": [
    {
     "data": {
      "text/plain": [
       "'h * l * l *   * t *   * t * h * r * ! *  '"
      ]
     },
     "execution_count": 21,
     "metadata": {},
     "output_type": "execute_result"
    }
   ],
   "source": [
    "sep = '*'\n",
    "\n",
    "# join not on sep, but on sep inside of an f-string, where it has spaces between the separator\n",
    "f' {sep} '.join(others)"
   ]
  },
  {
   "cell_type": "markdown",
   "metadata": {},
   "source": [
    "# Functions vs. methods\n",
    "\n",
    "Both functions and methods are the verbs in Python; they both tell the language to do something.\n",
    "\n",
    "The difference is:\n",
    "\n",
    "- Functions are floating around in Python's memory, unconnected to any particular data structure. You can tell that something is a function because there isn't any `.` before its name.\n",
    "- By contrast, *methods* are functions that are attached to a particular type of data. We indicate this when we write their names as `str.join` and `list.append`. When we invoke them, we always have to use a `.`, and we often invoke the method on a particular instance of a data type, as in `'*'.join(mylist)` or `mylist.append('a')`.\n",
    "\n",
    "Methods are far more common than functions in Python, because they help to keep our code organized. This way, we know exactly what methods are defined on a given type, and how to invoke them. Functions aren't explicitly and clearly connected to any type.\n",
    "\n",
    "There are functions in Python, and they tend to be the most common and the simplest verbs. As time goes on, you'll see more and more methods."
   ]
  },
  {
   "cell_type": "code",
   "execution_count": 23,
   "metadata": {},
   "outputs": [
    {
     "name": "stdin",
     "output_type": "stream",
     "text": [
      "enter a text:  hello out there! 12345\n"
     ]
    },
    {
     "name": "stdout",
     "output_type": "stream",
     "text": [
      "Vowels: e, o, o, u, e, e\n"
     ]
    }
   ],
   "source": [
    "# CC\n",
    "\n",
    "vowels = []\n",
    "digits = []\n",
    "others = []\n",
    "\n",
    "text = input(\"enter a text: \").strip()\n",
    "\n",
    "for character in text:\n",
    "  if character in \"aeiou\":\n",
    "    vowels.append(character)\n",
    "  elif character.isdigit():\n",
    "    digits.append(character)\n",
    "  else:\n",
    "    others.append(character)\n",
    "\n",
    "print(f\"Vowels: {\", \".join(vowels)}\")"
   ]
  },
  {
   "cell_type": "markdown",
   "metadata": {},
   "source": [
    "# Tuples and unpacking\n",
    "\n",
    "Python has three \"sequence\" types:\n",
    "\n",
    "- Strings, which contain characters and are immutable, meaning that we cannot change them\n",
    "- Lists, which contain *anything* at all, and are mutable, meaning that we *can* change them\n",
    "- Tuples, which contain *anything* (like lists) but are immutable (like strings)\n",
    "\n",
    "It's very tempting to say that tuples are just immutable lists, or \"locked lists.\" But really, in practice, there are two different uses for lists and tuples:\n",
    "\n",
    "- Lists are meant to be for sequences of data in which every value has the same type\n",
    "- Tuples are meant for sequences of data in which values have different types\n",
    "\n",
    "How much will you use tuples? Probably not much, especially in your first year of using Python. But it's important to know what they are, and how they work.\n",
    "\n",
    "#### To define a tuple\n",
    "\n",
    "Use `()`, as in\n",
    "\n",
    "```python\n",
    "t = (10, 20, 30, 40, 50)\n",
    "```\n",
    "\n",
    "#### To retrieve from a tuple\n",
    "\n",
    "Just use `[]` and an index or a slice (`start:end`), in the square brackets:\n",
    "\n",
    "```python\n",
    "t[2]\n",
    "t[2:4]\n",
    "```\n",
    "\n",
    "You can also:\n",
    "- Search in a tuple with `in`\n",
    "- Iterate over a tuple with `for`\n",
    "- Get the number of values in a tuple with `len`\n",
    "\n",
    "In other words, tuples work just like lists in many ways. *BUT* if you try to assign to a tuple, you'll find that it's impossible."
   ]
  },
  {
   "cell_type": "markdown",
   "metadata": {},
   "source": [
    "# The most common way to use tuples\n",
    "\n",
    "The most common way that newcomers to Python use tuples is in \"tuple unpacking.\" The basic idea is:\n",
    "\n",
    "- Have an iterable value (i.e., something that knows how to behave in a `for` loop) on the right of assignment\n",
    "- Have a tuple of variables on the left of the assignment\n",
    "- Make sure that the number of values on the right and the number of variables on the left matches"
   ]
  },
  {
   "cell_type": "code",
   "execution_count": 24,
   "metadata": {},
   "outputs": [],
   "source": [
    "mylist = [10, 20, 30]\n",
    "\n",
    "(x,y,z) = mylist    # tuple of variables on the left, iterable of values on the right, same number in both"
   ]
  },
  {
   "cell_type": "code",
   "execution_count": 25,
   "metadata": {},
   "outputs": [
    {
     "data": {
      "text/plain": [
       "10"
      ]
     },
     "execution_count": 25,
     "metadata": {},
     "output_type": "execute_result"
    }
   ],
   "source": [
    "# the result is that we've assigned each value to its parallel variable\n",
    "\n",
    "x"
   ]
  },
  {
   "cell_type": "code",
   "execution_count": 26,
   "metadata": {},
   "outputs": [
    {
     "data": {
      "text/plain": [
       "20"
      ]
     },
     "execution_count": 26,
     "metadata": {},
     "output_type": "execute_result"
    }
   ],
   "source": [
    "y"
   ]
  },
  {
   "cell_type": "code",
   "execution_count": 27,
   "metadata": {},
   "outputs": [
    {
     "data": {
      "text/plain": [
       "30"
      ]
     },
     "execution_count": 27,
     "metadata": {},
     "output_type": "execute_result"
    }
   ],
   "source": [
    "z"
   ]
  },
  {
   "cell_type": "code",
   "execution_count": 28,
   "metadata": {},
   "outputs": [],
   "source": [
    "# you actually don't need () when writing tuples! So... we can just write:\n",
    "\n",
    "x,y,z = mylist"
   ]
  },
  {
   "cell_type": "code",
   "execution_count": 29,
   "metadata": {},
   "outputs": [
    {
     "data": {
      "text/plain": [
       "10"
      ]
     },
     "execution_count": 29,
     "metadata": {},
     "output_type": "execute_result"
    }
   ],
   "source": [
    "x"
   ]
  },
  {
   "cell_type": "code",
   "execution_count": 30,
   "metadata": {},
   "outputs": [
    {
     "data": {
      "text/plain": [
       "20"
      ]
     },
     "execution_count": 30,
     "metadata": {},
     "output_type": "execute_result"
    }
   ],
   "source": [
    "y"
   ]
  },
  {
   "cell_type": "code",
   "execution_count": 31,
   "metadata": {},
   "outputs": [
    {
     "data": {
      "text/plain": [
       "30"
      ]
     },
     "execution_count": 31,
     "metadata": {},
     "output_type": "execute_result"
    }
   ],
   "source": [
    "z"
   ]
  },
  {
   "cell_type": "markdown",
   "metadata": {},
   "source": [
    "# Remember `enumerate`?\n",
    "\n",
    "Last time, we saw that if we want to number the elements of a string (or any sequence) when we invoke a `for` loop, we could do so with `enumerate`:\n"
   ]
  },
  {
   "cell_type": "code",
   "execution_count": 34,
   "metadata": {},
   "outputs": [
    {
     "name": "stdout",
     "output_type": "stream",
     "text": [
      "0: a\n",
      "1: b\n",
      "2: c\n",
      "3: d\n"
     ]
    }
   ],
   "source": [
    "# this works via tuple unpacking!\n",
    "# with each iteration, enumerate('abcd') gives us a 2-element tuple, (index, character)\n",
    "# we break that apart in the \"for\" loop with two variables -- a kind of internal unpacking\n",
    "\n",
    "for index, one_item in enumerate('abcd'):\n",
    "    print(f'{index}: {one_item}')"
   ]
  },
  {
   "cell_type": "code",
   "execution_count": 35,
   "metadata": {},
   "outputs": [
    {
     "data": {
      "text/plain": [
       "(10, 'a', [1, 2, 3])"
      ]
     },
     "execution_count": 35,
     "metadata": {},
     "output_type": "execute_result"
    }
   ],
   "source": [
    "t = (10, 'a', [1,2,3])\n",
    "t"
   ]
  },
  {
   "cell_type": "code",
   "execution_count": 36,
   "metadata": {},
   "outputs": [
    {
     "data": {
      "text/plain": [
       "10"
      ]
     },
     "execution_count": 36,
     "metadata": {},
     "output_type": "execute_result"
    }
   ],
   "source": [
    "t[0]"
   ]
  },
  {
   "cell_type": "code",
   "execution_count": 37,
   "metadata": {},
   "outputs": [
    {
     "data": {
      "text/plain": [
       "'a'"
      ]
     },
     "execution_count": 37,
     "metadata": {},
     "output_type": "execute_result"
    }
   ],
   "source": [
    "t[1]"
   ]
  },
  {
   "cell_type": "code",
   "execution_count": 38,
   "metadata": {},
   "outputs": [
    {
     "data": {
      "text/plain": [
       "[1, 2, 3]"
      ]
     },
     "execution_count": 38,
     "metadata": {},
     "output_type": "execute_result"
    }
   ],
   "source": [
    "t[2]"
   ]
  },
  {
   "cell_type": "code",
   "execution_count": 39,
   "metadata": {},
   "outputs": [],
   "source": [
    "person = ('Reuven', 'Lerner', 54, 46)\n",
    "\n",
    "first_name, last_name, age, shoe_size = person"
   ]
  },
  {
   "cell_type": "code",
   "execution_count": 40,
   "metadata": {},
   "outputs": [
    {
     "data": {
      "text/plain": [
       "'Reuven'"
      ]
     },
     "execution_count": 40,
     "metadata": {},
     "output_type": "execute_result"
    }
   ],
   "source": [
    "first_name"
   ]
  },
  {
   "cell_type": "code",
   "execution_count": 41,
   "metadata": {},
   "outputs": [
    {
     "data": {
      "text/plain": [
       "'Lerner'"
      ]
     },
     "execution_count": 41,
     "metadata": {},
     "output_type": "execute_result"
    }
   ],
   "source": [
    "last_name"
   ]
  },
  {
   "cell_type": "code",
   "execution_count": 42,
   "metadata": {},
   "outputs": [
    {
     "data": {
      "text/plain": [
       "54"
      ]
     },
     "execution_count": 42,
     "metadata": {},
     "output_type": "execute_result"
    }
   ],
   "source": [
    "age"
   ]
  },
  {
   "cell_type": "code",
   "execution_count": 43,
   "metadata": {},
   "outputs": [
    {
     "data": {
      "text/plain": [
       "46"
      ]
     },
     "execution_count": 43,
     "metadata": {},
     "output_type": "execute_result"
    }
   ],
   "source": [
    "shoe_size"
   ]
  },
  {
   "cell_type": "code",
   "execution_count": 44,
   "metadata": {},
   "outputs": [],
   "source": [
    "# here, we're creating a new tuple whose values are from mylist\n",
    "# but we're not storing the tuple itself! Rather, we're storing the values we got from mylist\n",
    "# it's totally OK for us to have a list, unpack its values into a tuple, and then use those variables\n",
    "\n",
    "(x,y,z) = mylist "
   ]
  },
  {
   "cell_type": "markdown",
   "metadata": {},
   "source": [
    "# Exercise: First and last names\n",
    "\n",
    "1. Ask the user, repeatedly, to enter their first + last names, separated by a space.\n",
    "    - If the user enters an empty string, then use `break` to get out of the `while True` loop.\n",
    "2. Assume that the user did enter just two names, separated by a space.\n",
    "3. Use tuple unpacking to define `first_name` and `last_name`, based on the user's input\n",
    "4. Greet the person using their first and last names (but not together).\n",
    "\n",
    "Example:\n",
    "\n",
    "    Enter your first + last names: Reuven Lerner\n",
    "    Hello, Reuven!\n",
    "    We have not had any Lerners here for a while. Welcome.\n"
   ]
  },
  {
   "cell_type": "code",
   "execution_count": 46,
   "metadata": {},
   "outputs": [
    {
     "name": "stdin",
     "output_type": "stream",
     "text": [
      "Enter your first and last names:  Reuven Lerner\n"
     ]
    },
    {
     "name": "stdout",
     "output_type": "stream",
     "text": [
      "Hey there, Reuven!\n",
      "Do a lot of people have the last name Lerner where you come from?\n"
     ]
    },
    {
     "name": "stdin",
     "output_type": "stream",
     "text": [
      "Enter your first and last names:  hello\n"
     ]
    },
    {
     "name": "stdout",
     "output_type": "stream",
     "text": [
      "Enter both first and last names, separated by a space\n"
     ]
    },
    {
     "name": "stdin",
     "output_type": "stream",
     "text": [
      "Enter your first and last names:  hello out there\n"
     ]
    },
    {
     "name": "stdout",
     "output_type": "stream",
     "text": [
      "Enter both first and last names, separated by a space\n"
     ]
    },
    {
     "name": "stdin",
     "output_type": "stream",
     "text": [
      "Enter your first and last names:  a b\n"
     ]
    },
    {
     "name": "stdout",
     "output_type": "stream",
     "text": [
      "Hey there, a!\n",
      "Do a lot of people have the last name b where you come from?\n"
     ]
    },
    {
     "name": "stdin",
     "output_type": "stream",
     "text": [
      "Enter your first and last names:  \n"
     ]
    }
   ],
   "source": [
    "while True:\n",
    "    name = input('Enter your first and last names: ').strip()\n",
    "\n",
    "    if name == '':\n",
    "        break\n",
    "\n",
    "    if name.count(' ') != 1:   # this counts how many spaces there are in name...\n",
    "        print(f'Enter both first and last names, separated by a space')\n",
    "        continue\n",
    "\n",
    "    first_name, last_name = name.split()  # str.split returns a list of strings\n",
    "\n",
    "    print(f'Hey there, {first_name}!')\n",
    "    print(f'Do a lot of people have the last name {last_name} where you come from?')"
   ]
  },
  {
   "cell_type": "markdown",
   "metadata": {},
   "source": [
    "# Next up\n",
    "\n",
    "1. Dictionaries\n",
    "    - What are they, and why do we need them?\n",
    "    - Defining them\n",
    "    - Retrieving from them\n",
    "    - Searching in them"
   ]
  },
  {
   "cell_type": "markdown",
   "metadata": {},
   "source": [
    "# Dictionaries\n",
    "\n",
    "These are the most important data structure in Python!\n",
    "\n",
    "- They are easy to use\n",
    "- They are super fast\n",
    "- They are extremely flexible\n",
    "\n",
    "If you have any programming experience, then you might have heard of dicts with other names:\n",
    "\n",
    "- Hash tables\n",
    "- Hashes\n",
    "- Hash maps\n",
    "- Associative arrays\n",
    "- Key-value stores\n",
    "- Name-value stores\n",
    "\n",
    "The basic idea is: We don't store individual values. Rather, we store pairs of values, a key (kind of like the index) and the value.\n",
    "\n",
    "Another way to think about dicts is that they are like lists, except that we get to determine the key (i.e., the index), rather than having it defined for us based on the location in the list.\n",
    "\n",
    "# Some rules for dicts\n",
    "\n",
    "- Keys can be anything at all, so long as they are immutable. This typically means integers and strings, but in theory, tuples can also be dict keys.\n",
    "- Vavlues can be anything at all, with no exceptions or restrictions whatsoever.\n",
    "- Keys must be unique in a dict. There is no repetition of keys.\n",
    "\n",
    "# Defining and using dicts\n",
    "\n",
    "We define a dict with `{}`.\n",
    "\n",
    "- You can have an empty dict, `{}`\n",
    "- Every key-value pair is written as `key:value`, with a `:` between them\n",
    "- The pairs are separated by `,`\n",
    "\n",
    "Some examples:\n",
    "\n",
    "```python\n",
    "d = {'a':10, 'b':20, 'c':30}   # keys are 'a', 'b', and 'c', and their values are 10, 20, and 30\n",
    "d = {'first':'Reuven', 'last':'Lerner'}   # keys are 'first' and 'last', and values are 'Reuven' and 'Lerner'\n",
    "d = {1:'January', 2:'February', 3:'March'}  # keys are 1, 2, and 3; values are 'January', 'February', and 'March'\n",
    "```\n",
    "\n",
    "\n"
   ]
  },
  {
   "cell_type": "code",
   "execution_count": 47,
   "metadata": {},
   "outputs": [
    {
     "data": {
      "text/plain": [
       "dict"
      ]
     },
     "execution_count": 47,
     "metadata": {},
     "output_type": "execute_result"
    }
   ],
   "source": [
    "d = {'a':10, 'b':20, 'c':30}\n",
    "\n",
    "type(d)  # what kind of data is stored in d?"
   ]
  },
  {
   "cell_type": "code",
   "execution_count": 48,
   "metadata": {},
   "outputs": [
    {
     "data": {
      "text/plain": [
       "10"
      ]
     },
     "execution_count": 48,
     "metadata": {},
     "output_type": "execute_result"
    }
   ],
   "source": [
    "# how can I retrieve from a dict?\n",
    "# I put the key in `[]`, just like a string/list/tuple -- but now we can use non-integers\n",
    "\n",
    "d['a']"
   ]
  },
  {
   "cell_type": "code",
   "execution_count": 49,
   "metadata": {},
   "outputs": [
    {
     "ename": "KeyError",
     "evalue": "'x'",
     "output_type": "error",
     "traceback": [
      "\u001b[31m---------------------------------------------------------------------------\u001b[39m",
      "\u001b[31mKeyError\u001b[39m                                  Traceback (most recent call last)",
      "\u001b[36mCell\u001b[39m\u001b[36m \u001b[39m\u001b[32mIn[49]\u001b[39m\u001b[32m, line 3\u001b[39m\n\u001b[32m      1\u001b[39m \u001b[38;5;66;03m# what if I ask for a key that doesn't exist?\u001b[39;00m\n\u001b[32m----> \u001b[39m\u001b[32m3\u001b[39m \u001b[43md\u001b[49m\u001b[43m[\u001b[49m\u001b[33;43m'\u001b[39;49m\u001b[33;43mx\u001b[39;49m\u001b[33;43m'\u001b[39;49m\u001b[43m]\u001b[49m\n",
      "\u001b[31mKeyError\u001b[39m: 'x'"
     ]
    }
   ],
   "source": [
    "# what if I ask for a key that doesn't exist?\n",
    "\n",
    "d['x']"
   ]
  },
  {
   "cell_type": "code",
   "execution_count": 50,
   "metadata": {},
   "outputs": [
    {
     "name": "stdout",
     "output_type": "stream",
     "text": [
      "No such key \"x\" in d\n"
     ]
    }
   ],
   "source": [
    "# I can search in the keys with the \"in\" operator\n",
    "\n",
    "if 'x' in d:        # if 'x' is a key in d...\n",
    "    print(d['x'])   #   ... then print d['x']\n",
    "else:\n",
    "    print(f'No such key \"x\" in d')"
   ]
  },
  {
   "cell_type": "markdown",
   "metadata": {},
   "source": [
    "# Why do we care about dicts so much?\n",
    "\n",
    "There are many, many programming problems that can be solved using a dictionary:\n",
    "\n",
    "- Month names to month numbers\n",
    "- Month numbers to month names\n",
    "- ID numbers to database records\n",
    "- Usernames to ID numbers\n",
    "- Usernames to passwords"
   ]
  },
  {
   "cell_type": "markdown",
   "metadata": {},
   "source": [
    "# Using variables with dicts\n",
    "\n",
    "If you want, you can use a variable instead of a dict key. This is very useful (and common)!"
   ]
  },
  {
   "cell_type": "code",
   "execution_count": 51,
   "metadata": {},
   "outputs": [
    {
     "data": {
      "text/plain": [
       "20"
      ]
     },
     "execution_count": 51,
     "metadata": {},
     "output_type": "execute_result"
    }
   ],
   "source": [
    "d = {'a':10, 'b':20, 'c':30}\n",
    "\n",
    "k = 'b'\n",
    "\n",
    "d[k]  # what will be returned?"
   ]
  },
  {
   "cell_type": "markdown",
   "metadata": {},
   "source": [
    "# Exercise: Restaurant\n",
    "\n",
    "1. Define `total` to be 0.\n",
    "2. Define a dict, `menu`, in which the keys are restaurant menu items (strings) and the values are the prices for those items (integers).\n",
    "3. Ask the user, repeatedly, to order something on the menu. (Don't show them the menu!)\n",
    "    - If the user enters an empty string, stop asking\n",
    "    - If the user enters something that *is* on the menu, print the item and its price, and the new total.\n",
    "    - If the user enters something that is *not* on the menu, scold them and let them try again\n",
    "4. In the end, print the final total.\n",
    "\n",
    "Example:\n",
    "\n",
    "    Order: sandwich\n",
    "    sandwich is 10, total is 10\n",
    "    Order: tea\n",
    "    tea is 5, total is 15\n",
    "    Order: elephant\n",
    "    Sorry, we're fresh out of elephant today!\n",
    "    Order: [ENTER]\n",
    "    Total is 15"
   ]
  },
  {
   "cell_type": "code",
   "execution_count": 52,
   "metadata": {},
   "outputs": [
    {
     "data": {
      "text/plain": [
       "{'sandwich': 10, 'tea': 5, 'apple': 3, 'cake': 7}"
      ]
     },
     "execution_count": 52,
     "metadata": {},
     "output_type": "execute_result"
    }
   ],
   "source": [
    "total = 0\n",
    "\n",
    "menu = { 'sandwich':10,   'tea':5,    'apple':3,     'cake':7   }\n",
    "menu"
   ]
  },
  {
   "cell_type": "code",
   "execution_count": 53,
   "metadata": {},
   "outputs": [
    {
     "data": {
      "text/plain": [
       "4"
      ]
     },
     "execution_count": 53,
     "metadata": {},
     "output_type": "execute_result"
    }
   ],
   "source": [
    "len(menu)"
   ]
  },
  {
   "cell_type": "code",
   "execution_count": 54,
   "metadata": {},
   "outputs": [
    {
     "name": "stdin",
     "output_type": "stream",
     "text": [
      "Order:  sandwich\n"
     ]
    },
    {
     "name": "stdout",
     "output_type": "stream",
     "text": [
      "sandwich is 10; total is now 10\n"
     ]
    },
    {
     "name": "stdin",
     "output_type": "stream",
     "text": [
      "Order:  apple\n"
     ]
    },
    {
     "name": "stdout",
     "output_type": "stream",
     "text": [
      "apple is 3; total is now 13\n"
     ]
    },
    {
     "name": "stdin",
     "output_type": "stream",
     "text": [
      "Order:  tea\n"
     ]
    },
    {
     "name": "stdout",
     "output_type": "stream",
     "text": [
      "tea is 5; total is now 18\n"
     ]
    },
    {
     "name": "stdin",
     "output_type": "stream",
     "text": [
      "Order:  tea\n"
     ]
    },
    {
     "name": "stdout",
     "output_type": "stream",
     "text": [
      "tea is 5; total is now 23\n"
     ]
    },
    {
     "name": "stdin",
     "output_type": "stream",
     "text": [
      "Order:  asdfafafafafaf\n"
     ]
    },
    {
     "name": "stdout",
     "output_type": "stream",
     "text": [
      "We are out of asdfafafafafaf today!\n"
     ]
    },
    {
     "name": "stdin",
     "output_type": "stream",
     "text": [
      "Order:  \n"
     ]
    },
    {
     "name": "stdout",
     "output_type": "stream",
     "text": [
      "Total = 23\n"
     ]
    }
   ],
   "source": [
    "menu = {'sandwich': 10, 'tea': 5, 'apple': 3, 'cake': 7}\n",
    "\n",
    "while True:   # infinite loop! We must have a \"break\" for it to end sometime\n",
    "    order = input('Order: ').strip()\n",
    "\n",
    "    if order == '':   # empty string?\n",
    "        break\n",
    "\n",
    "    elif order in menu:   # is the user's input string a key in the \"menu\" dict?\n",
    "        price = menu[order]  # get the value for the \"order\" key from the \"menu\" dict, and assign to \"price\"\n",
    "        total += price       # add the price to the total\n",
    "        print(f'{order} is {price}; total is now {total}')\n",
    "\n",
    "    else:\n",
    "        print(f'We are out of {order} today!')\n",
    "\n",
    "print(f'Total = {total}')        "
   ]
  },
  {
   "cell_type": "code",
   "execution_count": 57,
   "metadata": {},
   "outputs": [
    {
     "name": "stdin",
     "output_type": "stream",
     "text": [
      "order from the menu cola\n"
     ]
    },
    {
     "name": "stdout",
     "output_type": "stream",
     "text": [
      "cola costs 12\n"
     ]
    },
    {
     "name": "stdin",
     "output_type": "stream",
     "text": [
      "order from the menu wine\n"
     ]
    },
    {
     "name": "stdout",
     "output_type": "stream",
     "text": [
      "wine costs 44\n"
     ]
    },
    {
     "name": "stdin",
     "output_type": "stream",
     "text": [
      "order from the menu asdfsafafaasd\n"
     ]
    },
    {
     "name": "stdout",
     "output_type": "stream",
     "text": [
      "done\n"
     ]
    },
    {
     "name": "stdin",
     "output_type": "stream",
     "text": [
      "order from the menu \n"
     ]
    }
   ],
   "source": [
    "# IS\n",
    "\n",
    "total = 0\n",
    "menu = {'cola':12, 'orange': 10, 'wine': 44}\n",
    "while True:\n",
    "    item = input('order from the menu').strip()\n",
    "    if item == '':\n",
    "        break\n",
    "    elif item in menu:\n",
    "        price = menu[item]\n",
    "        print(f'{item} costs {price}')\n",
    "    else:\n",
    "        print('done')"
   ]
  },
  {
   "cell_type": "markdown",
   "metadata": {},
   "source": [
    "# Are dictionaries mutable?\n",
    "\n",
    "Meaning: Can we change them? Yes!\n",
    "\n",
    "There are several ways to change a mutable data structure:\n",
    "\n",
    "- Modify an existing value\n",
    "- Add new elements\n",
    "- Remove existing elements\n",
    "\n",
    "We can do all of these with a dict"
   ]
  },
  {
   "cell_type": "code",
   "execution_count": 58,
   "metadata": {},
   "outputs": [
    {
     "data": {
      "text/plain": [
       "{'a': 20, 'b': 20, 'c': 30}"
      ]
     },
     "execution_count": 58,
     "metadata": {},
     "output_type": "execute_result"
    }
   ],
   "source": [
    "# how do we modify an existing value?\n",
    "# we just assign to it!\n",
    "\n",
    "d = {'a':10, 'b':20, 'c':30}\n",
    "\n",
    "d['a'] = 20   # this replaces the existing value associated with the key 'a'\n",
    "d"
   ]
  },
  {
   "cell_type": "code",
   "execution_count": 59,
   "metadata": {},
   "outputs": [
    {
     "data": {
      "text/plain": [
       "{'a': 25, 'b': 20, 'c': 30}"
      ]
     },
     "execution_count": 59,
     "metadata": {},
     "output_type": "execute_result"
    }
   ],
   "source": [
    "# I can also say:\n",
    "\n",
    "d['a'] += 5    # this changes the value to be 5 more than before\n",
    "d"
   ]
  },
  {
   "cell_type": "code",
   "execution_count": 60,
   "metadata": {},
   "outputs": [
    {
     "data": {
      "text/plain": [
       "{'a': 25, 'b': 20, 'c': 30, 'x': 123}"
      ]
     },
     "execution_count": 60,
     "metadata": {},
     "output_type": "execute_result"
    }
   ],
   "source": [
    "# how can I add new key-value pairs to a dict?\n",
    "# with a list, I have to use the .append method\n",
    "# with dicts... it's not that complicated -- I just assign!\n",
    "\n",
    "d['x'] = 123   # this adds a key-value pair if it's new, or updates the value if it isn't\n",
    "d"
   ]
  },
  {
   "cell_type": "code",
   "execution_count": 61,
   "metadata": {},
   "outputs": [
    {
     "data": {
      "text/plain": [
       "{'a': 25, 'b': 20, 'c': 30}"
      ]
     },
     "execution_count": 61,
     "metadata": {},
     "output_type": "execute_result"
    }
   ],
   "source": [
    "# how can I remove existing key-value pairs?\n",
    "# it's actually kind of rare, in my experience, to do this, but it does work\n",
    "# use the dict.pop method -- give it a key, and it'll return the value, removing the pair\n",
    "\n",
    "d.pop('x')   # removes the key-value pair with 'x' as a key\n",
    "d"
   ]
  },
  {
   "cell_type": "code",
   "execution_count": 62,
   "metadata": {},
   "outputs": [],
   "source": [
    "# if we want to change a key...\n",
    "# remember that keys must be IMMUTABLE\n",
    "# which means that they cannot ever be changed\n",
    "# because if they could, then they wouldn't be legal dict keys\n",
    "\n",
    "d = {'abcd':10, 'efghi':20, 'jklmno':30}"
   ]
  },
  {
   "cell_type": "code",
   "execution_count": 63,
   "metadata": {},
   "outputs": [
    {
     "data": {
      "text/plain": [
       "{'efghi': 20, 'jklmno': 30, 'ABCD': 10}"
      ]
     },
     "execution_count": 63,
     "metadata": {},
     "output_type": "execute_result"
    }
   ],
   "source": [
    "# instead, I could remove an existing pair and add a new key with the old value\n",
    "\n",
    "d['ABCD'] = d.pop('abcd')\n",
    "d"
   ]
  },
  {
   "cell_type": "code",
   "execution_count": 64,
   "metadata": {},
   "outputs": [
    {
     "data": {
      "text/plain": [
       "3"
      ]
     },
     "execution_count": 64,
     "metadata": {},
     "output_type": "execute_result"
    }
   ],
   "source": [
    "# U1\n",
    "\n",
    "menu = {'hamburger':10, 'fries':5, 'pizza':15, 'salad':10}\n",
    "\n",
    "menu['soda'] = 3\n",
    "menu.pop('soda')"
   ]
  },
  {
   "cell_type": "code",
   "execution_count": 65,
   "metadata": {},
   "outputs": [
    {
     "data": {
      "text/plain": [
       "{'a': 10, 'b': 20, 'c': 300, 'd': 400, 'e': 500}"
      ]
     },
     "execution_count": 65,
     "metadata": {},
     "output_type": "execute_result"
    }
   ],
   "source": [
    "# SS : Can we join two dicts?\n",
    "\n",
    "d1 = {'a':10, 'b':20, 'c':30}\n",
    "d2 = {'c':300, 'd':400, 'e':500}\n",
    "\n",
    "# we can use the | symbol to get a new dict, the union of the previous two\n",
    "# if the same key exists in both, the right side gets priority\n",
    "\n",
    "d1 | d2"
   ]
  },
  {
   "cell_type": "markdown",
   "metadata": {},
   "source": [
    "# How are dicts implemented?\n",
    "\n",
    "Dictionaries are super fast at finding or retrieving keys, and also (by extension) retrieving values based on keys.\n",
    "\n",
    "How do they do it?\n",
    "\n",
    "When we add a new value to a list, it goes at the end. This means that if want to know if a value is in a list, we have to run a `for` loop over the entire list, from start to end. We might get to the end of the list, and find that it wasn't there. Or it might have been there, just earlier.\n",
    "\n",
    "So searching for an item in a list takes longer, the longer the list is. \n",
    "\n",
    "By contrast, Python stores key-value pairs in a dict based on something known as the \"hash function.\" This function takes a key and returns an integer -- one that looks random, and which has a huge range, but which isn't random. However, it is impossible for a human to predict the outcome of the hash function for any one argument.\n",
    "\n",
    "When we store a key-value pair, Python runs `hash(key)`, getting a location in memory. The key-value pair is stored in that memory location. When you say `key in d` or `d[key]`, Python runs `hash(key)`, jumps to that memory location, and retrieves the value. It doesn't matter how many key-value pairs are in the dict; it still runs and retrieves super fast. No `for` loops are needed.\n",
    "\n"
   ]
  },
  {
   "cell_type": "markdown",
   "metadata": {},
   "source": [
    "# Next up\n",
    "\n",
    "- Using dicts as accumulators for known keys\n",
    "- Using dicts as accumulators for unknown keys\n",
    "- Using dicts in `for` loops"
   ]
  },
  {
   "cell_type": "markdown",
   "metadata": {},
   "source": [
    "# Dict paradigm #2: Accumulate known keys\n",
    "\n",
    "In this paradigm for using dicts:\n",
    "\n",
    "- Define a dictionary with all of the keys that we'll use. We won't ever add/remove keys.\n",
    "- The values for these keys are all starting points -- 0 or `[]` or the like\n",
    "- Over the course of the program's run, we'll update the values, but never add/remove keys\n",
    "\n"
   ]
  },
  {
   "cell_type": "markdown",
   "metadata": {},
   "source": [
    "# Example: Odds and evens\n",
    "\n"
   ]
  },
  {
   "cell_type": "code",
   "execution_count": 66,
   "metadata": {},
   "outputs": [
    {
     "name": "stdout",
     "output_type": "stream",
     "text": [
      "{'odds': 2, 'evens': 3}\n"
     ]
    }
   ],
   "source": [
    "counts = {'odds':0, 'evens':0}\n",
    "\n",
    "numbers = [10, 15, 20, 23, 28]\n",
    "\n",
    "for one_number in numbers:\n",
    "    if one_number % 2 == 0:   # if the number is even -- because %2 means \"give me the remainder after dividing by 2\"\n",
    "        counts['evens'] += 1\n",
    "    else:\n",
    "        counts['odds'] += 1\n",
    "\n",
    "print(counts)        "
   ]
  },
  {
   "cell_type": "code",
   "execution_count": 67,
   "metadata": {},
   "outputs": [
    {
     "name": "stdout",
     "output_type": "stream",
     "text": [
      "{'odds': [15, 23], 'evens': [10, 20, 28]}\n"
     ]
    }
   ],
   "source": [
    "# slightly different, using lists for the values rather than 0\n",
    "\n",
    "counts = {'odds':[], 'evens':[]}\n",
    "\n",
    "numbers = [10, 15, 20, 23, 28]\n",
    "\n",
    "for one_number in numbers:\n",
    "    if one_number % 2 == 0:   # if the number is even -- because %2 means \"give me the remainder after dividing by 2\"\n",
    "        counts['evens'].append(one_number) \n",
    "    else:\n",
    "        counts['odds'].append(one_number)\n",
    "\n",
    "print(counts)        "
   ]
  },
  {
   "cell_type": "markdown",
   "metadata": {},
   "source": [
    "# Exercise: Vowels, digits, and others -- dict edition!\n",
    "\n",
    "1. Define a dict `counts` in which the keys are `vowels`, `digits`, and `others`. The values should all be 0.\n",
    "2. Ask the user to enter text.\n",
    "3. Go through that text, one character at a time.\n",
    "    - If it's a vowel, add 1 to the `vowels` key in `counts`\n",
    "    - If it's a digit, add 1 to the `digits` key in `counts`\n",
    "    - In other cases, add 1 to the `others` key in `counts`\n",
    "4. Print `counts`"
   ]
  },
  {
   "cell_type": "code",
   "execution_count": 68,
   "metadata": {},
   "outputs": [
    {
     "name": "stdin",
     "output_type": "stream",
     "text": [
      "Enter text:  hello!! 123\n"
     ]
    },
    {
     "name": "stdout",
     "output_type": "stream",
     "text": [
      "{'vowels': 2, 'digits': 3, 'others': 6}\n"
     ]
    }
   ],
   "source": [
    "counts = {'vowels':0,\n",
    "          'digits':0,\n",
    "          'others':0}\n",
    "\n",
    "text = input('Enter text: ').strip()\n",
    "\n",
    "for one_character in text:\n",
    "    if one_character in 'aeiou':     # if the character is a vowel...\n",
    "        counts['vowels'] += 1        # ... add 1 to the value for 'vowels'\n",
    "    elif one_character.isdigit():    # if the character is a digit...\n",
    "        counts['digits'] += 1        # ... add 1 to the value for 'digits'\n",
    "    else:\n",
    "        counts['others'] += 1        # otherwise, add 1 to the count of 'others'\n",
    "\n",
    "print(counts)        "
   ]
  },
  {
   "cell_type": "markdown",
   "metadata": {},
   "source": [
    "# Iterating over dicts\n",
    "\n",
    "We've seen that we can use a `for` loop on a bunch of different data structures:\n",
    "\n",
    "- Looping on a string gives us its characters\n",
    "- Looping on a list (or tuple) gives us its elements\n",
    "\n",
    "Can we loop on a dict? What will we get?"
   ]
  },
  {
   "cell_type": "code",
   "execution_count": 70,
   "metadata": {},
   "outputs": [
    {
     "data": {
      "text/plain": [
       "{'a': 10, 'b': 20, 'c': 30}"
      ]
     },
     "execution_count": 70,
     "metadata": {},
     "output_type": "execute_result"
    }
   ],
   "source": [
    "d = {'a':10, 'b':20, 'c':30}\n",
    "d"
   ]
  },
  {
   "cell_type": "code",
   "execution_count": 72,
   "metadata": {},
   "outputs": [
    {
     "name": "stdout",
     "output_type": "stream",
     "text": [
      "a\n",
      "b\n",
      "c\n"
     ]
    }
   ],
   "source": [
    "# iterating over a dict gives you its keys\n",
    "\n",
    "for one_item in d:\n",
    "    print(one_item)"
   ]
  },
  {
   "cell_type": "code",
   "execution_count": 73,
   "metadata": {},
   "outputs": [
    {
     "name": "stdout",
     "output_type": "stream",
     "text": [
      "a: 10\n",
      "b: 20\n",
      "c: 30\n"
     ]
    }
   ],
   "source": [
    "# one way to get the values is by retrieving them\n",
    "\n",
    "for one_key in d:\n",
    "    print(f'{one_key}: {d[one_key]}')"
   ]
  },
  {
   "cell_type": "code",
   "execution_count": 74,
   "metadata": {},
   "outputs": [
    {
     "name": "stdout",
     "output_type": "stream",
     "text": [
      "a: 10\n",
      "b: 20\n",
      "c: 30\n"
     ]
    }
   ],
   "source": [
    "# My preferred way is to use the dict.items method\n",
    "# this returns a 2-element tuple (key, value) with each iteration\n",
    "\n",
    "# here's how this looks:\n",
    "\n",
    "for key, value in d.items():  # we know that we'll get (key, value) with each iteration\n",
    "    print(f'{key}: {value}')"
   ]
  },
  {
   "cell_type": "markdown",
   "metadata": {},
   "source": [
    "# Don't use `dict.keys`!\n",
    "\n",
    "You might see people talk about the `dict.keys` method, which returns a dict's keys. I see *no reason* to use this method. You should be invoking `in` on your dict to search, and `for` on your dict to iterate. If you use `dict.keys`, then you will get the right answer! But it'll be much, much slower than other options."
   ]
  },
  {
   "cell_type": "code",
   "execution_count": 75,
   "metadata": {},
   "outputs": [
    {
     "name": "stdin",
     "output_type": "stream",
     "text": [
      "Enter text:  hello!! 123\n"
     ]
    },
    {
     "name": "stdout",
     "output_type": "stream",
     "text": [
      "vowels: 2\n",
      "digits: 3\n",
      "others: 6\n"
     ]
    }
   ],
   "source": [
    "counts = {'vowels':0,\n",
    "          'digits':0,\n",
    "          'others':0}\n",
    "\n",
    "text = input('Enter text: ').strip()\n",
    "\n",
    "for one_character in text:\n",
    "    if one_character in 'aeiou':     # if the character is a vowel...\n",
    "        counts['vowels'] += 1        # ... add 1 to the value for 'vowels'\n",
    "    elif one_character.isdigit():    # if the character is a digit...\n",
    "        counts['digits'] += 1        # ... add 1 to the value for 'digits'\n",
    "    else:\n",
    "        counts['others'] += 1        # otherwise, add 1 to the count of 'others'\n",
    "\n",
    "for key, value in counts.items():\n",
    "    print(f'{key}: {value}')"
   ]
  },
  {
   "cell_type": "code",
   "execution_count": 76,
   "metadata": {},
   "outputs": [],
   "source": [
    "# if you want to search in the values of a dict, you can\n",
    "# with the dict.values method, which returns the values. You can use \"in\" to search on there."
   ]
  },
  {
   "cell_type": "raw",
   "metadata": {},
   "source": [
    "# VR\n",
    "\n",
    "Enter text: Praise God!\n",
    "{'vowels': 4, 'digits': 0, 'others': 7}\n",
    "vowels : 4\n",
    "digits : 0\n",
    "others : 7"
   ]
  },
  {
   "cell_type": "markdown",
   "metadata": {},
   "source": [
    "No, what I meant is, in that output {'vowels': 4, 'digits': 0, 'others': 7} is displayed for me whereas in your output it is not there."
   ]
  },
  {
   "cell_type": "markdown",
   "metadata": {},
   "source": [
    "# Dict paradigm 3: Counting the unknown\n",
    "\n",
    "Sometimes, we want to count things, but we don't know what we'll be counting. Or there are so many possibilities that we can't or won't populate a dict in advance. \n",
    "\n",
    "We can start with an empty dict (`{}`), and then:\n",
    "\n",
    "- If we encounter a new key-value pair we want to store, we do so\n",
    "- If the key already exists, then we update the value to reflect/add the new one"
   ]
  },
  {
   "cell_type": "code",
   "execution_count": 77,
   "metadata": {},
   "outputs": [
    {
     "name": "stdin",
     "output_type": "stream",
     "text": [
      "Enter text:  hello!! 123\n"
     ]
    },
    {
     "name": "stdout",
     "output_type": "stream",
     "text": [
      "h: 1\n",
      "e: 1\n",
      "l: 2\n",
      "o: 1\n",
      "!: 2\n",
      " : 1\n",
      "1: 1\n",
      "2: 1\n",
      "3: 1\n"
     ]
    }
   ],
   "source": [
    "# Character count\n",
    "\n",
    "counts = {}\n",
    "\n",
    "text = input('Enter text: ').strip()\n",
    "\n",
    "for one_character in text:\n",
    "    if one_character in counts:     # if it's already a key in counts\n",
    "        counts[one_character] += 1\n",
    "    else:\n",
    "        counts[one_character] = 1   # add the key-value pair\n",
    "\n",
    "for key, value in counts.items():\n",
    "    print(f'{key}: {value}')"
   ]
  },
  {
   "cell_type": "code",
   "execution_count": 79,
   "metadata": {},
   "outputs": [
    {
     "data": {
      "text/plain": [
       "60"
      ]
     },
     "execution_count": 79,
     "metadata": {},
     "output_type": "execute_result"
    }
   ],
   "source": [
    "10 + 10\n",
    "20 + 20 \n",
    "30 + 30    # this will be evaluateed, and will also be displayed"
   ]
  },
  {
   "cell_type": "markdown",
   "metadata": {},
   "source": [
    "# Exercise: Rainfall\n",
    "\n",
    "1. Define an empty dict, `rainfall`. You will populate it with strings (the keys, city names) and integers (the values, mm of rain that fell in that city).\n",
    "2. Ask the user, repeatedly, to enter a city name.\n",
    "    - If they give an empty string, stop iterating; use `break`\n",
    "3. Take the city name and store in `city_name`\n",
    "4. Then, if you have a non-empty city name, ask for the quantity of rain, in mm\n",
    "    - Let's assume the user is willing to give this value\n",
    "5. If the city is new, then add a new key-value to the city\n",
    "6. If the city existed before (in our dict), then update the value to reflect the newer figures\n",
    "7. At the end of the loop, print the entire dict.\n",
    "\n",
    "Example:\n",
    "\n",
    "    City: Chicago\n",
    "    Rain: 10\n",
    "    City: Philadelphia\n",
    "    Rain: 7\n",
    "    City: Chicago\n",
    "    Rain: 3\n",
    "    City: [ENTER]\n",
    "    Chicago: 13\n",
    "    Philadelphia: 7\n",
    "\n",
    "    "
   ]
  },
  {
   "cell_type": "code",
   "execution_count": 81,
   "metadata": {},
   "outputs": [
    {
     "name": "stdin",
     "output_type": "stream",
     "text": [
      "City:  Chicago\n",
      "Rain:  10\n",
      "City:  Philadelphia\n",
      "Rain:  7\n",
      "City:  Chicago\n",
      "Rain:  3\n",
      "City:  \n"
     ]
    },
    {
     "name": "stdout",
     "output_type": "stream",
     "text": [
      "Chicago: 13\n",
      "Philadelphia: 7\n"
     ]
    }
   ],
   "source": [
    "rainfall = {}   # empty dict\n",
    "\n",
    "while True:\n",
    "    city_name = input('City: ').strip()\n",
    "\n",
    "    if city_name == '':\n",
    "        break\n",
    "\n",
    "    mm_rain = input('Rain: ').strip()\n",
    "    mm_rain = int(mm_rain)\n",
    "\n",
    "    if city_name in rainfall:  # if we've already seen this city, then we just need to add to its value in the database\n",
    "        rainfall[city_name] += mm_rain\n",
    "    else:\n",
    "        rainfall[city_name] = mm_rain\n",
    "\n",
    "for key, value in rainfall.items():\n",
    "    print(f'{key}: {value}')"
   ]
  },
  {
   "cell_type": "code",
   "execution_count": 82,
   "metadata": {},
   "outputs": [
    {
     "name": "stdin",
     "output_type": "stream",
     "text": [
      "Enter city name:  a\n",
      "Enter rainfall amount for a (in mm):  5\n",
      "Enter city name:  b\n",
      "Enter rainfall amount for b (in mm):  3\n",
      "Enter city name:  a\n",
      "Enter rainfall amount for a (in mm):  2\n",
      "Enter city name:  \n"
     ]
    },
    {
     "name": "stdout",
     "output_type": "stream",
     "text": [
      "Rainfall data:\n",
      "a: 7 mm\n",
      "b: 3 mm\n"
     ]
    }
   ],
   "source": [
    "# VR\n",
    "\n",
    "rainfall = {}  # Initialize an empty dictionary\n",
    "\n",
    "while True:\n",
    "    city_name = input(\"Enter city name: \").strip()\n",
    "\n",
    "    if city_name == '':\n",
    "        break  # Exit the loop if the user does not enter anything\n",
    "\n",
    "    try:\n",
    "        rain_amount = int(input(f\"Enter rainfall amount for {city_name} (in mm): \"))\n",
    "\n",
    "        # have we seen this city before?\n",
    "        if city_name in rainfall:\n",
    "            rainfall[city_name] += rain_amount  \n",
    "        else:\n",
    "            rainfall[city_name] = rain_amount \n",
    "            \n",
    "    except ValueError:\n",
    "        print(\"Invalid rainfall amount. Please enter an integer.\")\n",
    "\n",
    "print(\"Rainfall data:\")\n",
    "for city, amount in rainfall.items():\n",
    "    print(f\"{city}: {amount} mm\")"
   ]
  },
  {
   "cell_type": "code",
   "execution_count": 84,
   "metadata": {},
   "outputs": [
    {
     "name": "stdin",
     "output_type": "stream",
     "text": [
      "Please enter a city name:  a\n",
      "Rain:  5\n",
      "Please enter a city name:  b\n",
      "Rain:  3\n",
      "Please enter a city name:  a\n",
      "Rain:  2\n",
      "Please enter a city name:  \n"
     ]
    },
    {
     "name": "stdout",
     "output_type": "stream",
     "text": [
      "a: 7\n",
      "b: 3\n"
     ]
    }
   ],
   "source": [
    "# U1\n",
    "\n",
    "rainfall = {}\n",
    "\n",
    "while True:\n",
    "    city_name = input(f'Please enter a city name: ').strip()\n",
    "\n",
    "    if city_name == '':\n",
    "        break\n",
    "\n",
    "    mm_rain = input('Rain: ').strip()\n",
    "    mm_rain = int(mm_rain)\n",
    "\n",
    "    if city_name in rainfall:   # if we've seen this city, then we need to add tot he value in the database\n",
    "        rainfall[city_name]  += mm_rain\n",
    "\n",
    "    else:\n",
    "        rainfall[city_name] = mm_rain\n",
    "\n",
    "for key,value in rainfall.items():\n",
    "    print(f'{key}: {value}')"
   ]
  },
  {
   "cell_type": "code",
   "execution_count": null,
   "metadata": {},
   "outputs": [],
   "source": [
    "# SS\n",
    "\n",
    "rainfall = {}\n",
    "\n",
    "while True :\n",
    "  city = input('Enter the city name:').strip()\n",
    "  if city == '':\n",
    "    break\n",
    "  else:\n",
    "    city_name = city\n",
    "    while True :\n",
    "      rain = input('Enter the rain in mm:').strip()\n",
    "      if rain.isdigit():\n",
    "        rain_mm = float(rain)\n",
    "        break\n",
    "      else:\n",
    "        print('Enter value in digits')\n",
    "        continue\n",
    "      if city_name in rainfall:\n",
    "        rainfall[city] += rain_mm\n",
    "      else:\n",
    "        rainfall[city] = rain_mm\n",
    "  \n",
    "print(f'{rainfall}')\n"
   ]
  },
  {
   "cell_type": "markdown",
   "metadata": {},
   "source": [
    "# Next up: Files!\n",
    "\n",
    "- What is a file?\n",
    "- Reading from files\n",
    "- (A little) writing to files"
   ]
  },
  {
   "cell_type": "markdown",
   "metadata": {},
   "source": [
    "# About files\n",
    "\n",
    "We use files all of the time as computer users. But what is a file?\n",
    "\n",
    "A file is a permanently stored version of the data structures in a program's memory. If we can take the data structures in memory and write them to a file, then even if we restart the computer, or move to another computer altogether, we can recreate the data structures that we had before.\n",
    "\n",
    "There are *many* different file formats, and each is trying to solve this problem in a different way, because it has different data structures to store and retrieve. There are some common, universal formats, such as JSON and XML, which try to solve this problem for everyone.\n",
    "\n",
    "In this class, we're just going to take about using plain text files. We'll be responsible for turning data structures into the text files, and also (primarily) reading them from disk into our data structures.\n",
    "\n",
    "### Reading from a file\n",
    "\n",
    "To read from a file, you'll need two things:\n",
    "\n",
    "1. The filename, as a string (as either an absolute or relative filename)\n",
    "2. The `open` builtin function, which takes a filename as an argument and returns a new \"file object,\" which we can use.\n",
    "\n",
    "Filenames:\n",
    "- If they contain no `/` characters (or `\\` if you're on Windows), then the file is assumed to be in the same directory/folder as your Python program or Jupyter notebook.\n",
    "- If they contain a leading `/` character (or `c:\\` if you're on Windows), then this is an \"absolute path,\" and doesn't depend on your program's location\n",
    "\n",
    "So if I say\n",
    "\n",
    "    open('/etc/passwd')   # /etc/passwd is a Unix file describing all of the users on a system\n",
    "\n",
    "I'll get back a file object.    "
   ]
  },
  {
   "cell_type": "code",
   "execution_count": 87,
   "metadata": {},
   "outputs": [
    {
     "data": {
      "text/plain": [
       "<_io.TextIOWrapper name='/etc/passwd' mode='r' encoding='UTF-8'>"
      ]
     },
     "execution_count": 87,
     "metadata": {},
     "output_type": "execute_result"
    }
   ],
   "source": [
    "f = open('/etc/passwd')\n",
    "f"
   ]
  },
  {
   "cell_type": "markdown",
   "metadata": {},
   "source": [
    "# File objects\n",
    "\n",
    "In earlier versions of Python, we really had \"file objects.\" Now we have a lot of objects that do similar things, each for its own particular type of file, and sometimes even things that aren't files, but act like them. For that reason, the Python documentation talks about \"file-like objects,\" which I think is silly/confusing. So we'll just talk about \"file objects.\"\n",
    "\n",
    "The object doesn't have the file's contents right away! We need to invoke a method to get the contents back. One method is `read`, which returns the contents of the file from the current location (defaulting to the start) through the end of the file. `read` returns a string, potentially a very long string."
   ]
  },
  {
   "cell_type": "code",
   "execution_count": 88,
   "metadata": {},
   "outputs": [
    {
     "name": "stdout",
     "output_type": "stream",
     "text": [
      "##\n",
      "# User Database\n",
      "# \n",
      "# Note that this file is consulted directly only when the system is running\n",
      "# in single-user mode.  At other times this information is provided by\n",
      "# Open Directory.\n",
      "#\n",
      "# See the opendirectoryd(8) man page for additional information about\n",
      "# Open Directory.\n",
      "##\n",
      "nobody:*:-2:-2:Unprivileged User:/var/empty:/usr/bin/false\n",
      "root:*:0:0:System Administrator:/var/root:/bin/sh\n",
      "daemon:*:1:1:System Services:/var/root:/usr/bin/false\n",
      "_uucp:*:4:4:Unix to Unix Copy Protocol:/var/spool/uucp:/usr/sbin/uucico\n",
      "_taskgated:*:13:13:Task Gate Daemon:/var/empty:/usr/bin/false\n",
      "_networkd:*:24:24:Network Services:/var/networkd:/usr/bin/false\n",
      "_installassistant:*:25:25:Install Assistant:/var/empty:/usr/bin/false\n",
      "_lp:*:26:26:Printing Services:/var/spool/cups:/usr/bin/false\n",
      "_postfix:*:27:27:Postfix Mail Server:/var/spool/postfix:/usr/bin/false\n",
      "_scsd:*:31:31:Service Configuration Service:/var/empty:/usr/bin/false\n",
      "_ces:*:32:32:Certificate Enrollment Service:/var/empty:/usr/bin/false\n",
      "_appstore:*:33:33:Mac App Store Service:/var/db/appstore:/usr/bin/false\n",
      "_mcxalr:*:54:54:MCX AppLaunch:/var/empty:/usr/bin/false\n",
      "_appleevents:*:55:55:AppleEvents Daemon:/var/empty:/usr/bin/false\n",
      "_geod:*:56:56:Geo Services Daemon:/var/db/geod:/usr/bin/false\n",
      "_devdocs:*:59:59:Developer Documentation:/var/empty:/usr/bin/false\n",
      "_sandbox:*:60:60:Seatbelt:/var/empty:/usr/bin/false\n",
      "_mdnsresponder:*:65:65:mDNSResponder:/var/empty:/usr/bin/false\n",
      "_ard:*:67:67:Apple Remote Desktop:/var/empty:/usr/bin/false\n",
      "_www:*:70:70:World Wide Web Server:/Library/WebServer:/usr/bin/false\n",
      "_eppc:*:71:71:Apple Events User:/var/empty:/usr/bin/false\n",
      "_cvs:*:72:72:CVS Server:/var/empty:/usr/bin/false\n",
      "_svn:*:73:73:SVN Server:/var/empty:/usr/bin/false\n",
      "_mysql:*:74:74:MySQL Server:/var/empty:/usr/bin/false\n",
      "_sshd:*:75:75:sshd Privilege separation:/var/empty:/usr/bin/false\n",
      "_qtss:*:76:76:QuickTime Streaming Server:/var/empty:/usr/bin/false\n",
      "_cyrus:*:77:6:Cyrus Administrator:/var/imap:/usr/bin/false\n",
      "_mailman:*:78:78:Mailman List Server:/var/empty:/usr/bin/false\n",
      "_appserver:*:79:79:Application Server:/var/empty:/usr/bin/false\n",
      "_clamav:*:82:82:ClamAV Daemon:/var/virusmails:/usr/bin/false\n",
      "_amavisd:*:83:83:AMaViS Daemon:/var/virusmails:/usr/bin/false\n",
      "_jabber:*:84:84:Jabber XMPP Server:/var/empty:/usr/bin/false\n",
      "_appowner:*:87:87:Application Owner:/var/empty:/usr/bin/false\n",
      "_windowserver:*:88:88:WindowServer:/var/empty:/usr/bin/false\n",
      "_spotlight:*:89:89:Spotlight:/var/empty:/usr/bin/false\n",
      "_tokend:*:91:91:Token Daemon:/var/empty:/usr/bin/false\n",
      "_securityagent:*:92:92:SecurityAgent:/var/db/securityagent:/usr/bin/false\n",
      "_calendar:*:93:93:Calendar:/var/empty:/usr/bin/false\n",
      "_teamsserver:*:94:94:TeamsServer:/var/teamsserver:/usr/bin/false\n",
      "_update_sharing:*:95:-2:Update Sharing:/var/empty:/usr/bin/false\n",
      "_installer:*:96:-2:Installer:/var/empty:/usr/bin/false\n",
      "_atsserver:*:97:97:ATS Server:/var/empty:/usr/bin/false\n",
      "_ftp:*:98:-2:FTP Daemon:/var/empty:/usr/bin/false\n",
      "_unknown:*:99:99:Unknown User:/var/empty:/usr/bin/false\n",
      "_softwareupdate:*:200:200:Software Update Service:/var/db/softwareupdate:/usr/bin/false\n",
      "_coreaudiod:*:202:202:Core Audio Daemon:/var/empty:/usr/bin/false\n",
      "_screensaver:*:203:203:Screensaver:/var/empty:/usr/bin/false\n",
      "_locationd:*:205:205:Location Daemon:/var/db/locationd:/usr/bin/false\n",
      "_trustevaluationagent:*:208:208:Trust Evaluation Agent:/var/empty:/usr/bin/false\n",
      "_timezone:*:210:210:AutoTimeZoneDaemon:/var/empty:/usr/bin/false\n",
      "_lda:*:211:211:Local Delivery Agent:/var/empty:/usr/bin/false\n",
      "_cvmsroot:*:212:212:CVMS Root:/var/empty:/usr/bin/false\n",
      "_usbmuxd:*:213:213:iPhone OS Device Helper:/var/db/lockdown:/usr/bin/false\n",
      "_dovecot:*:214:6:Dovecot Administrator:/var/empty:/usr/bin/false\n",
      "_dpaudio:*:215:215:DP Audio:/var/empty:/usr/bin/false\n",
      "_postgres:*:216:216:PostgreSQL Server:/var/empty:/usr/bin/false\n",
      "_krbtgt:*:217:-2:Kerberos Ticket Granting Ticket:/var/empty:/usr/bin/false\n",
      "_kadmin_admin:*:218:-2:Kerberos Admin Service:/var/empty:/usr/bin/false\n",
      "_kadmin_changepw:*:219:-2:Kerberos Change Password Service:/var/empty:/usr/bin/false\n",
      "_devicemgr:*:220:220:Device Management Server:/var/empty:/usr/bin/false\n",
      "_webauthserver:*:221:221:Web Auth Server:/var/empty:/usr/bin/false\n",
      "_netbios:*:222:222:NetBIOS:/var/empty:/usr/bin/false\n",
      "_warmd:*:224:224:Warm Daemon:/var/empty:/usr/bin/false\n",
      "_dovenull:*:227:227:Dovecot Authentication:/var/empty:/usr/bin/false\n",
      "_netstatistics:*:228:228:Network Statistics Daemon:/var/empty:/usr/bin/false\n",
      "_avbdeviced:*:229:-2:Ethernet AVB Device Daemon:/var/empty:/usr/bin/false\n",
      "_krb_krbtgt:*:230:-2:Open Directory Kerberos Ticket Granting Ticket:/var/empty:/usr/bin/false\n",
      "_krb_kadmin:*:231:-2:Open Directory Kerberos Admin Service:/var/empty:/usr/bin/false\n",
      "_krb_changepw:*:232:-2:Open Directory Kerberos Change Password Service:/var/empty:/usr/bin/false\n",
      "_krb_kerberos:*:233:-2:Open Directory Kerberos:/var/empty:/usr/bin/false\n",
      "_krb_anonymous:*:234:-2:Open Directory Kerberos Anonymous:/var/empty:/usr/bin/false\n",
      "_assetcache:*:235:235:Asset Cache Service:/var/empty:/usr/bin/false\n",
      "_coremediaiod:*:236:236:Core Media IO Daemon:/var/empty:/usr/bin/false\n",
      "_launchservicesd:*:239:239:_launchservicesd:/var/empty:/usr/bin/false\n",
      "_iconservices:*:240:240:IconServices:/var/empty:/usr/bin/false\n",
      "_distnote:*:241:241:DistNote:/var/empty:/usr/bin/false\n",
      "_nsurlsessiond:*:242:242:NSURLSession Daemon:/var/db/nsurlsessiond:/usr/bin/false\n",
      "_displaypolicyd:*:244:244:Display Policy Daemon:/var/empty:/usr/bin/false\n",
      "_astris:*:245:245:Astris Services:/var/db/astris:/usr/bin/false\n",
      "_krbfast:*:246:-2:Kerberos FAST Account:/var/empty:/usr/bin/false\n",
      "_gamecontrollerd:*:247:247:Game Controller Daemon:/var/empty:/usr/bin/false\n",
      "_mbsetupuser:*:248:248:Setup User:/var/setup:/bin/bash\n",
      "_ondemand:*:249:249:On Demand Resource Daemon:/var/db/ondemand:/usr/bin/false\n",
      "_xserverdocs:*:251:251:macOS Server Documents Service:/var/empty:/usr/bin/false\n",
      "_wwwproxy:*:252:252:WWW Proxy:/var/empty:/usr/bin/false\n",
      "_mobileasset:*:253:253:MobileAsset User:/var/ma:/usr/bin/false\n",
      "_findmydevice:*:254:254:Find My Device Daemon:/var/db/findmydevice:/usr/bin/false\n",
      "_datadetectors:*:257:257:DataDetectors:/var/db/datadetectors:/usr/bin/false\n",
      "_captiveagent:*:258:258:captiveagent:/var/empty:/usr/bin/false\n",
      "_ctkd:*:259:259:ctkd Account:/var/empty:/usr/bin/false\n",
      "_applepay:*:260:260:applepay Account:/var/db/applepay:/usr/bin/false\n",
      "_hidd:*:261:261:HID Service User:/var/db/hidd:/usr/bin/false\n",
      "_cmiodalassistants:*:262:262:CoreMedia IO Assistants User:/var/db/cmiodalassistants:/usr/bin/false\n",
      "_analyticsd:*:263:263:Analytics Daemon:/var/db/analyticsd:/usr/bin/false\n",
      "_fpsd:*:265:265:FPS Daemon:/var/db/fpsd:/usr/bin/false\n",
      "_timed:*:266:266:Time Sync Daemon:/var/db/timed:/usr/bin/false\n",
      "_nearbyd:*:268:268:Proximity and Ranging Daemon:/var/db/nearbyd:/usr/bin/false\n",
      "_reportmemoryexception:*:269:269:ReportMemoryException:/var/db/reportmemoryexception:/usr/bin/false\n",
      "_driverkit:*:270:270:DriverKit:/var/empty:/usr/bin/false\n",
      "_diskimagesiod:*:271:271:DiskImages IO Daemon:/var/db/diskimagesiod:/usr/bin/false\n",
      "_logd:*:272:272:Log Daemon:/var/db/diagnostics:/usr/bin/false\n",
      "_appinstalld:*:273:273:App Install Daemon:/var/db/appinstalld:/usr/bin/false\n",
      "_installcoordinationd:*:274:274:Install Coordination Daemon:/var/db/installcoordinationd:/usr/bin/false\n",
      "_demod:*:275:275:Demo Daemon:/var/empty:/usr/bin/false\n",
      "_rmd:*:277:277:Remote Management Daemon:/var/db/rmd:/usr/bin/false\n",
      "_accessoryupdater:*:278:278:Accessory Update Daemon:/var/db/accessoryupdater:/usr/bin/false\n",
      "_knowledgegraphd:*:279:279:Knowledge Graph Daemon:/var/db/knowledgegraphd:/usr/bin/false\n",
      "_coreml:*:280:280:CoreML Services:/var/db/coreml:/usr/bin/false\n",
      "_sntpd:*:281:281:SNTP Server Daemon:/var/empty:/usr/bin/false\n",
      "_trustd:*:282:282:trustd:/var/empty:/usr/bin/false\n",
      "_mmaintenanced:*:283:283:mmaintenanced:/var/db/mmaintenanced:/usr/bin/false\n",
      "_darwindaemon:*:284:284:Darwin Daemon:/var/db/darwindaemon:/usr/bin/false\n",
      "_notification_proxy:*:285:285:Notification Proxy:/var/empty:/usr/bin/false\n",
      "_avphidbridge:*:288:288:Apple Virtual Platform HID Bridge:/var/empty:/usr/bin/false\n",
      "_biome:*:289:289:Biome:/var/db/biome:/usr/bin/false\n",
      "_backgroundassets:*:291:291:Background Assets Service:/var/empty:/usr/bin/false\n",
      "_mobilegestalthelper:*:293:293:MobileGestaltHelper:/var/empty:/usr/bin/false\n",
      "_audiomxd:*:294:294:Audio and MediaExperience Daemon:/var/db/audiomxd:/usr/bin/false\n",
      "_terminusd:*:295:295:Terminus:/var/db/terminus:/usr/bin/false\n",
      "_neuralengine:*:296:296:AppleNeuralEngine:/var/db/neuralengine:/usr/bin/false\n",
      "_eligibilityd:*:297:297:OS Eligibility Daemon:/var/db/eligibilityd:/usr/bin/false\n",
      "_systemstatusd:*:298:298:SystemStatus Services:/var/empty:/usr/bin/false\n",
      "_aonsensed:*:300:300:Always On Sense Daemon:/var/db/aonsensed:/usr/bin/false\n",
      "_modelmanagerd:*:301:301:Model Manager:/var/db/modelmanagerd:/usr/bin/false\n",
      "_reportsystemmemory:*:302:302:ReportSystemMemory:/var/empty:/usr/bin/false\n",
      "_swtransparencyd:*:303:303:Software Transparency Services:/var/db/swtransparencyd:/usr/bin/false\n",
      "_naturallanguaged:*:304:304:Natural Language Services:/var/db/com.apple.naturallanguaged:/usr/bin/false\n",
      "_oahd:*:441:441:OAH Daemon:/var/empty:/usr/bin/false\n",
      "\n"
     ]
    }
   ],
   "source": [
    "print(f.read())"
   ]
  },
  {
   "cell_type": "markdown",
   "metadata": {},
   "source": [
    "# A big problem\n",
    "\n",
    "When we invoke the `read` method on our file object, it creates a string with the file's *complete* contents. What if the file contains 10 TB of data? Python will try to create a 10 TB string in memory. \n",
    "\n",
    "We need a different approach, one that'll work with all files, including huge ones.\n",
    "\n",
    "The standard approach in Python is: Iterate over the file object in a `for` loop:\n",
    "\n",
    "- Each iteration gives us one line from the file, including the `'\\n'` at the end\n",
    "- Because we're getting lines, the odds of any one string overwhelming memory are pretty slim"
   ]
  },
  {
   "cell_type": "code",
   "execution_count": 89,
   "metadata": {},
   "outputs": [
    {
     "name": "stdout",
     "output_type": "stream",
     "text": [
      "##\n",
      "\n",
      "# User Database\n",
      "\n",
      "# \n",
      "\n",
      "# Note that this file is consulted directly only when the system is running\n",
      "\n",
      "# in single-user mode.  At other times this information is provided by\n",
      "\n",
      "# Open Directory.\n",
      "\n",
      "#\n",
      "\n",
      "# See the opendirectoryd(8) man page for additional information about\n",
      "\n",
      "# Open Directory.\n",
      "\n",
      "##\n",
      "\n",
      "nobody:*:-2:-2:Unprivileged User:/var/empty:/usr/bin/false\n",
      "\n",
      "root:*:0:0:System Administrator:/var/root:/bin/sh\n",
      "\n",
      "daemon:*:1:1:System Services:/var/root:/usr/bin/false\n",
      "\n",
      "_uucp:*:4:4:Unix to Unix Copy Protocol:/var/spool/uucp:/usr/sbin/uucico\n",
      "\n",
      "_taskgated:*:13:13:Task Gate Daemon:/var/empty:/usr/bin/false\n",
      "\n",
      "_networkd:*:24:24:Network Services:/var/networkd:/usr/bin/false\n",
      "\n",
      "_installassistant:*:25:25:Install Assistant:/var/empty:/usr/bin/false\n",
      "\n",
      "_lp:*:26:26:Printing Services:/var/spool/cups:/usr/bin/false\n",
      "\n",
      "_postfix:*:27:27:Postfix Mail Server:/var/spool/postfix:/usr/bin/false\n",
      "\n",
      "_scsd:*:31:31:Service Configuration Service:/var/empty:/usr/bin/false\n",
      "\n",
      "_ces:*:32:32:Certificate Enrollment Service:/var/empty:/usr/bin/false\n",
      "\n",
      "_appstore:*:33:33:Mac App Store Service:/var/db/appstore:/usr/bin/false\n",
      "\n",
      "_mcxalr:*:54:54:MCX AppLaunch:/var/empty:/usr/bin/false\n",
      "\n",
      "_appleevents:*:55:55:AppleEvents Daemon:/var/empty:/usr/bin/false\n",
      "\n",
      "_geod:*:56:56:Geo Services Daemon:/var/db/geod:/usr/bin/false\n",
      "\n",
      "_devdocs:*:59:59:Developer Documentation:/var/empty:/usr/bin/false\n",
      "\n",
      "_sandbox:*:60:60:Seatbelt:/var/empty:/usr/bin/false\n",
      "\n",
      "_mdnsresponder:*:65:65:mDNSResponder:/var/empty:/usr/bin/false\n",
      "\n",
      "_ard:*:67:67:Apple Remote Desktop:/var/empty:/usr/bin/false\n",
      "\n",
      "_www:*:70:70:World Wide Web Server:/Library/WebServer:/usr/bin/false\n",
      "\n",
      "_eppc:*:71:71:Apple Events User:/var/empty:/usr/bin/false\n",
      "\n",
      "_cvs:*:72:72:CVS Server:/var/empty:/usr/bin/false\n",
      "\n",
      "_svn:*:73:73:SVN Server:/var/empty:/usr/bin/false\n",
      "\n",
      "_mysql:*:74:74:MySQL Server:/var/empty:/usr/bin/false\n",
      "\n",
      "_sshd:*:75:75:sshd Privilege separation:/var/empty:/usr/bin/false\n",
      "\n",
      "_qtss:*:76:76:QuickTime Streaming Server:/var/empty:/usr/bin/false\n",
      "\n",
      "_cyrus:*:77:6:Cyrus Administrator:/var/imap:/usr/bin/false\n",
      "\n",
      "_mailman:*:78:78:Mailman List Server:/var/empty:/usr/bin/false\n",
      "\n",
      "_appserver:*:79:79:Application Server:/var/empty:/usr/bin/false\n",
      "\n",
      "_clamav:*:82:82:ClamAV Daemon:/var/virusmails:/usr/bin/false\n",
      "\n",
      "_amavisd:*:83:83:AMaViS Daemon:/var/virusmails:/usr/bin/false\n",
      "\n",
      "_jabber:*:84:84:Jabber XMPP Server:/var/empty:/usr/bin/false\n",
      "\n",
      "_appowner:*:87:87:Application Owner:/var/empty:/usr/bin/false\n",
      "\n",
      "_windowserver:*:88:88:WindowServer:/var/empty:/usr/bin/false\n",
      "\n",
      "_spotlight:*:89:89:Spotlight:/var/empty:/usr/bin/false\n",
      "\n",
      "_tokend:*:91:91:Token Daemon:/var/empty:/usr/bin/false\n",
      "\n",
      "_securityagent:*:92:92:SecurityAgent:/var/db/securityagent:/usr/bin/false\n",
      "\n",
      "_calendar:*:93:93:Calendar:/var/empty:/usr/bin/false\n",
      "\n",
      "_teamsserver:*:94:94:TeamsServer:/var/teamsserver:/usr/bin/false\n",
      "\n",
      "_update_sharing:*:95:-2:Update Sharing:/var/empty:/usr/bin/false\n",
      "\n",
      "_installer:*:96:-2:Installer:/var/empty:/usr/bin/false\n",
      "\n",
      "_atsserver:*:97:97:ATS Server:/var/empty:/usr/bin/false\n",
      "\n",
      "_ftp:*:98:-2:FTP Daemon:/var/empty:/usr/bin/false\n",
      "\n",
      "_unknown:*:99:99:Unknown User:/var/empty:/usr/bin/false\n",
      "\n",
      "_softwareupdate:*:200:200:Software Update Service:/var/db/softwareupdate:/usr/bin/false\n",
      "\n",
      "_coreaudiod:*:202:202:Core Audio Daemon:/var/empty:/usr/bin/false\n",
      "\n",
      "_screensaver:*:203:203:Screensaver:/var/empty:/usr/bin/false\n",
      "\n",
      "_locationd:*:205:205:Location Daemon:/var/db/locationd:/usr/bin/false\n",
      "\n",
      "_trustevaluationagent:*:208:208:Trust Evaluation Agent:/var/empty:/usr/bin/false\n",
      "\n",
      "_timezone:*:210:210:AutoTimeZoneDaemon:/var/empty:/usr/bin/false\n",
      "\n",
      "_lda:*:211:211:Local Delivery Agent:/var/empty:/usr/bin/false\n",
      "\n",
      "_cvmsroot:*:212:212:CVMS Root:/var/empty:/usr/bin/false\n",
      "\n",
      "_usbmuxd:*:213:213:iPhone OS Device Helper:/var/db/lockdown:/usr/bin/false\n",
      "\n",
      "_dovecot:*:214:6:Dovecot Administrator:/var/empty:/usr/bin/false\n",
      "\n",
      "_dpaudio:*:215:215:DP Audio:/var/empty:/usr/bin/false\n",
      "\n",
      "_postgres:*:216:216:PostgreSQL Server:/var/empty:/usr/bin/false\n",
      "\n",
      "_krbtgt:*:217:-2:Kerberos Ticket Granting Ticket:/var/empty:/usr/bin/false\n",
      "\n",
      "_kadmin_admin:*:218:-2:Kerberos Admin Service:/var/empty:/usr/bin/false\n",
      "\n",
      "_kadmin_changepw:*:219:-2:Kerberos Change Password Service:/var/empty:/usr/bin/false\n",
      "\n",
      "_devicemgr:*:220:220:Device Management Server:/var/empty:/usr/bin/false\n",
      "\n",
      "_webauthserver:*:221:221:Web Auth Server:/var/empty:/usr/bin/false\n",
      "\n",
      "_netbios:*:222:222:NetBIOS:/var/empty:/usr/bin/false\n",
      "\n",
      "_warmd:*:224:224:Warm Daemon:/var/empty:/usr/bin/false\n",
      "\n",
      "_dovenull:*:227:227:Dovecot Authentication:/var/empty:/usr/bin/false\n",
      "\n",
      "_netstatistics:*:228:228:Network Statistics Daemon:/var/empty:/usr/bin/false\n",
      "\n",
      "_avbdeviced:*:229:-2:Ethernet AVB Device Daemon:/var/empty:/usr/bin/false\n",
      "\n",
      "_krb_krbtgt:*:230:-2:Open Directory Kerberos Ticket Granting Ticket:/var/empty:/usr/bin/false\n",
      "\n",
      "_krb_kadmin:*:231:-2:Open Directory Kerberos Admin Service:/var/empty:/usr/bin/false\n",
      "\n",
      "_krb_changepw:*:232:-2:Open Directory Kerberos Change Password Service:/var/empty:/usr/bin/false\n",
      "\n",
      "_krb_kerberos:*:233:-2:Open Directory Kerberos:/var/empty:/usr/bin/false\n",
      "\n",
      "_krb_anonymous:*:234:-2:Open Directory Kerberos Anonymous:/var/empty:/usr/bin/false\n",
      "\n",
      "_assetcache:*:235:235:Asset Cache Service:/var/empty:/usr/bin/false\n",
      "\n",
      "_coremediaiod:*:236:236:Core Media IO Daemon:/var/empty:/usr/bin/false\n",
      "\n",
      "_launchservicesd:*:239:239:_launchservicesd:/var/empty:/usr/bin/false\n",
      "\n",
      "_iconservices:*:240:240:IconServices:/var/empty:/usr/bin/false\n",
      "\n",
      "_distnote:*:241:241:DistNote:/var/empty:/usr/bin/false\n",
      "\n",
      "_nsurlsessiond:*:242:242:NSURLSession Daemon:/var/db/nsurlsessiond:/usr/bin/false\n",
      "\n",
      "_displaypolicyd:*:244:244:Display Policy Daemon:/var/empty:/usr/bin/false\n",
      "\n",
      "_astris:*:245:245:Astris Services:/var/db/astris:/usr/bin/false\n",
      "\n",
      "_krbfast:*:246:-2:Kerberos FAST Account:/var/empty:/usr/bin/false\n",
      "\n",
      "_gamecontrollerd:*:247:247:Game Controller Daemon:/var/empty:/usr/bin/false\n",
      "\n",
      "_mbsetupuser:*:248:248:Setup User:/var/setup:/bin/bash\n",
      "\n",
      "_ondemand:*:249:249:On Demand Resource Daemon:/var/db/ondemand:/usr/bin/false\n",
      "\n",
      "_xserverdocs:*:251:251:macOS Server Documents Service:/var/empty:/usr/bin/false\n",
      "\n",
      "_wwwproxy:*:252:252:WWW Proxy:/var/empty:/usr/bin/false\n",
      "\n",
      "_mobileasset:*:253:253:MobileAsset User:/var/ma:/usr/bin/false\n",
      "\n",
      "_findmydevice:*:254:254:Find My Device Daemon:/var/db/findmydevice:/usr/bin/false\n",
      "\n",
      "_datadetectors:*:257:257:DataDetectors:/var/db/datadetectors:/usr/bin/false\n",
      "\n",
      "_captiveagent:*:258:258:captiveagent:/var/empty:/usr/bin/false\n",
      "\n",
      "_ctkd:*:259:259:ctkd Account:/var/empty:/usr/bin/false\n",
      "\n",
      "_applepay:*:260:260:applepay Account:/var/db/applepay:/usr/bin/false\n",
      "\n",
      "_hidd:*:261:261:HID Service User:/var/db/hidd:/usr/bin/false\n",
      "\n",
      "_cmiodalassistants:*:262:262:CoreMedia IO Assistants User:/var/db/cmiodalassistants:/usr/bin/false\n",
      "\n",
      "_analyticsd:*:263:263:Analytics Daemon:/var/db/analyticsd:/usr/bin/false\n",
      "\n",
      "_fpsd:*:265:265:FPS Daemon:/var/db/fpsd:/usr/bin/false\n",
      "\n",
      "_timed:*:266:266:Time Sync Daemon:/var/db/timed:/usr/bin/false\n",
      "\n",
      "_nearbyd:*:268:268:Proximity and Ranging Daemon:/var/db/nearbyd:/usr/bin/false\n",
      "\n",
      "_reportmemoryexception:*:269:269:ReportMemoryException:/var/db/reportmemoryexception:/usr/bin/false\n",
      "\n",
      "_driverkit:*:270:270:DriverKit:/var/empty:/usr/bin/false\n",
      "\n",
      "_diskimagesiod:*:271:271:DiskImages IO Daemon:/var/db/diskimagesiod:/usr/bin/false\n",
      "\n",
      "_logd:*:272:272:Log Daemon:/var/db/diagnostics:/usr/bin/false\n",
      "\n",
      "_appinstalld:*:273:273:App Install Daemon:/var/db/appinstalld:/usr/bin/false\n",
      "\n",
      "_installcoordinationd:*:274:274:Install Coordination Daemon:/var/db/installcoordinationd:/usr/bin/false\n",
      "\n",
      "_demod:*:275:275:Demo Daemon:/var/empty:/usr/bin/false\n",
      "\n",
      "_rmd:*:277:277:Remote Management Daemon:/var/db/rmd:/usr/bin/false\n",
      "\n",
      "_accessoryupdater:*:278:278:Accessory Update Daemon:/var/db/accessoryupdater:/usr/bin/false\n",
      "\n",
      "_knowledgegraphd:*:279:279:Knowledge Graph Daemon:/var/db/knowledgegraphd:/usr/bin/false\n",
      "\n",
      "_coreml:*:280:280:CoreML Services:/var/db/coreml:/usr/bin/false\n",
      "\n",
      "_sntpd:*:281:281:SNTP Server Daemon:/var/empty:/usr/bin/false\n",
      "\n",
      "_trustd:*:282:282:trustd:/var/empty:/usr/bin/false\n",
      "\n",
      "_mmaintenanced:*:283:283:mmaintenanced:/var/db/mmaintenanced:/usr/bin/false\n",
      "\n",
      "_darwindaemon:*:284:284:Darwin Daemon:/var/db/darwindaemon:/usr/bin/false\n",
      "\n",
      "_notification_proxy:*:285:285:Notification Proxy:/var/empty:/usr/bin/false\n",
      "\n",
      "_avphidbridge:*:288:288:Apple Virtual Platform HID Bridge:/var/empty:/usr/bin/false\n",
      "\n",
      "_biome:*:289:289:Biome:/var/db/biome:/usr/bin/false\n",
      "\n",
      "_backgroundassets:*:291:291:Background Assets Service:/var/empty:/usr/bin/false\n",
      "\n",
      "_mobilegestalthelper:*:293:293:MobileGestaltHelper:/var/empty:/usr/bin/false\n",
      "\n",
      "_audiomxd:*:294:294:Audio and MediaExperience Daemon:/var/db/audiomxd:/usr/bin/false\n",
      "\n",
      "_terminusd:*:295:295:Terminus:/var/db/terminus:/usr/bin/false\n",
      "\n",
      "_neuralengine:*:296:296:AppleNeuralEngine:/var/db/neuralengine:/usr/bin/false\n",
      "\n",
      "_eligibilityd:*:297:297:OS Eligibility Daemon:/var/db/eligibilityd:/usr/bin/false\n",
      "\n",
      "_systemstatusd:*:298:298:SystemStatus Services:/var/empty:/usr/bin/false\n",
      "\n",
      "_aonsensed:*:300:300:Always On Sense Daemon:/var/db/aonsensed:/usr/bin/false\n",
      "\n",
      "_modelmanagerd:*:301:301:Model Manager:/var/db/modelmanagerd:/usr/bin/false\n",
      "\n",
      "_reportsystemmemory:*:302:302:ReportSystemMemory:/var/empty:/usr/bin/false\n",
      "\n",
      "_swtransparencyd:*:303:303:Software Transparency Services:/var/db/swtransparencyd:/usr/bin/false\n",
      "\n",
      "_naturallanguaged:*:304:304:Natural Language Services:/var/db/com.apple.naturallanguaged:/usr/bin/false\n",
      "\n",
      "_oahd:*:441:441:OAH Daemon:/var/empty:/usr/bin/false\n",
      "\n"
     ]
    }
   ],
   "source": [
    "filename = '/etc/passwd'\n",
    "f = open(filename)\n",
    "\n",
    "for one_line in f:   # read one line from the file at a time, including the final \\n\n",
    "    print(one_line)  # display the line, adding a \\n of our own"
   ]
  },
  {
   "cell_type": "code",
   "execution_count": 90,
   "metadata": {},
   "outputs": [
    {
     "name": "stdout",
     "output_type": "stream",
     "text": [
      "##\n",
      "# User Database\n",
      "#\n",
      "# Note that this file is consulted directly only when the system is running\n",
      "# in single-user mode.  At other times this information is provided by\n",
      "# Open Directory.\n",
      "#\n",
      "# See the opendirectoryd(8) man page for additional information about\n",
      "# Open Directory.\n",
      "##\n",
      "nobody:*:-2:-2:Unprivileged User:/var/empty:/usr/bin/false\n",
      "root:*:0:0:System Administrator:/var/root:/bin/sh\n",
      "daemon:*:1:1:System Services:/var/root:/usr/bin/false\n",
      "_uucp:*:4:4:Unix to Unix Copy Protocol:/var/spool/uucp:/usr/sbin/uucico\n",
      "_taskgated:*:13:13:Task Gate Daemon:/var/empty:/usr/bin/false\n",
      "_networkd:*:24:24:Network Services:/var/networkd:/usr/bin/false\n",
      "_installassistant:*:25:25:Install Assistant:/var/empty:/usr/bin/false\n",
      "_lp:*:26:26:Printing Services:/var/spool/cups:/usr/bin/false\n",
      "_postfix:*:27:27:Postfix Mail Server:/var/spool/postfix:/usr/bin/false\n",
      "_scsd:*:31:31:Service Configuration Service:/var/empty:/usr/bin/false\n",
      "_ces:*:32:32:Certificate Enrollment Service:/var/empty:/usr/bin/false\n",
      "_appstore:*:33:33:Mac App Store Service:/var/db/appstore:/usr/bin/false\n",
      "_mcxalr:*:54:54:MCX AppLaunch:/var/empty:/usr/bin/false\n",
      "_appleevents:*:55:55:AppleEvents Daemon:/var/empty:/usr/bin/false\n",
      "_geod:*:56:56:Geo Services Daemon:/var/db/geod:/usr/bin/false\n",
      "_devdocs:*:59:59:Developer Documentation:/var/empty:/usr/bin/false\n",
      "_sandbox:*:60:60:Seatbelt:/var/empty:/usr/bin/false\n",
      "_mdnsresponder:*:65:65:mDNSResponder:/var/empty:/usr/bin/false\n",
      "_ard:*:67:67:Apple Remote Desktop:/var/empty:/usr/bin/false\n",
      "_www:*:70:70:World Wide Web Server:/Library/WebServer:/usr/bin/false\n",
      "_eppc:*:71:71:Apple Events User:/var/empty:/usr/bin/false\n",
      "_cvs:*:72:72:CVS Server:/var/empty:/usr/bin/false\n",
      "_svn:*:73:73:SVN Server:/var/empty:/usr/bin/false\n",
      "_mysql:*:74:74:MySQL Server:/var/empty:/usr/bin/false\n",
      "_sshd:*:75:75:sshd Privilege separation:/var/empty:/usr/bin/false\n",
      "_qtss:*:76:76:QuickTime Streaming Server:/var/empty:/usr/bin/false\n",
      "_cyrus:*:77:6:Cyrus Administrator:/var/imap:/usr/bin/false\n",
      "_mailman:*:78:78:Mailman List Server:/var/empty:/usr/bin/false\n",
      "_appserver:*:79:79:Application Server:/var/empty:/usr/bin/false\n",
      "_clamav:*:82:82:ClamAV Daemon:/var/virusmails:/usr/bin/false\n",
      "_amavisd:*:83:83:AMaViS Daemon:/var/virusmails:/usr/bin/false\n",
      "_jabber:*:84:84:Jabber XMPP Server:/var/empty:/usr/bin/false\n",
      "_appowner:*:87:87:Application Owner:/var/empty:/usr/bin/false\n",
      "_windowserver:*:88:88:WindowServer:/var/empty:/usr/bin/false\n",
      "_spotlight:*:89:89:Spotlight:/var/empty:/usr/bin/false\n",
      "_tokend:*:91:91:Token Daemon:/var/empty:/usr/bin/false\n",
      "_securityagent:*:92:92:SecurityAgent:/var/db/securityagent:/usr/bin/false\n",
      "_calendar:*:93:93:Calendar:/var/empty:/usr/bin/false\n",
      "_teamsserver:*:94:94:TeamsServer:/var/teamsserver:/usr/bin/false\n",
      "_update_sharing:*:95:-2:Update Sharing:/var/empty:/usr/bin/false\n",
      "_installer:*:96:-2:Installer:/var/empty:/usr/bin/false\n",
      "_atsserver:*:97:97:ATS Server:/var/empty:/usr/bin/false\n",
      "_ftp:*:98:-2:FTP Daemon:/var/empty:/usr/bin/false\n",
      "_unknown:*:99:99:Unknown User:/var/empty:/usr/bin/false\n",
      "_softwareupdate:*:200:200:Software Update Service:/var/db/softwareupdate:/usr/bin/false\n",
      "_coreaudiod:*:202:202:Core Audio Daemon:/var/empty:/usr/bin/false\n",
      "_screensaver:*:203:203:Screensaver:/var/empty:/usr/bin/false\n",
      "_locationd:*:205:205:Location Daemon:/var/db/locationd:/usr/bin/false\n",
      "_trustevaluationagent:*:208:208:Trust Evaluation Agent:/var/empty:/usr/bin/false\n",
      "_timezone:*:210:210:AutoTimeZoneDaemon:/var/empty:/usr/bin/false\n",
      "_lda:*:211:211:Local Delivery Agent:/var/empty:/usr/bin/false\n",
      "_cvmsroot:*:212:212:CVMS Root:/var/empty:/usr/bin/false\n",
      "_usbmuxd:*:213:213:iPhone OS Device Helper:/var/db/lockdown:/usr/bin/false\n",
      "_dovecot:*:214:6:Dovecot Administrator:/var/empty:/usr/bin/false\n",
      "_dpaudio:*:215:215:DP Audio:/var/empty:/usr/bin/false\n",
      "_postgres:*:216:216:PostgreSQL Server:/var/empty:/usr/bin/false\n",
      "_krbtgt:*:217:-2:Kerberos Ticket Granting Ticket:/var/empty:/usr/bin/false\n",
      "_kadmin_admin:*:218:-2:Kerberos Admin Service:/var/empty:/usr/bin/false\n",
      "_kadmin_changepw:*:219:-2:Kerberos Change Password Service:/var/empty:/usr/bin/false\n",
      "_devicemgr:*:220:220:Device Management Server:/var/empty:/usr/bin/false\n",
      "_webauthserver:*:221:221:Web Auth Server:/var/empty:/usr/bin/false\n",
      "_netbios:*:222:222:NetBIOS:/var/empty:/usr/bin/false\n",
      "_warmd:*:224:224:Warm Daemon:/var/empty:/usr/bin/false\n",
      "_dovenull:*:227:227:Dovecot Authentication:/var/empty:/usr/bin/false\n",
      "_netstatistics:*:228:228:Network Statistics Daemon:/var/empty:/usr/bin/false\n",
      "_avbdeviced:*:229:-2:Ethernet AVB Device Daemon:/var/empty:/usr/bin/false\n",
      "_krb_krbtgt:*:230:-2:Open Directory Kerberos Ticket Granting Ticket:/var/empty:/usr/bin/false\n",
      "_krb_kadmin:*:231:-2:Open Directory Kerberos Admin Service:/var/empty:/usr/bin/false\n",
      "_krb_changepw:*:232:-2:Open Directory Kerberos Change Password Service:/var/empty:/usr/bin/false\n",
      "_krb_kerberos:*:233:-2:Open Directory Kerberos:/var/empty:/usr/bin/false\n",
      "_krb_anonymous:*:234:-2:Open Directory Kerberos Anonymous:/var/empty:/usr/bin/false\n",
      "_assetcache:*:235:235:Asset Cache Service:/var/empty:/usr/bin/false\n",
      "_coremediaiod:*:236:236:Core Media IO Daemon:/var/empty:/usr/bin/false\n",
      "_launchservicesd:*:239:239:_launchservicesd:/var/empty:/usr/bin/false\n",
      "_iconservices:*:240:240:IconServices:/var/empty:/usr/bin/false\n",
      "_distnote:*:241:241:DistNote:/var/empty:/usr/bin/false\n",
      "_nsurlsessiond:*:242:242:NSURLSession Daemon:/var/db/nsurlsessiond:/usr/bin/false\n",
      "_displaypolicyd:*:244:244:Display Policy Daemon:/var/empty:/usr/bin/false\n",
      "_astris:*:245:245:Astris Services:/var/db/astris:/usr/bin/false\n",
      "_krbfast:*:246:-2:Kerberos FAST Account:/var/empty:/usr/bin/false\n",
      "_gamecontrollerd:*:247:247:Game Controller Daemon:/var/empty:/usr/bin/false\n",
      "_mbsetupuser:*:248:248:Setup User:/var/setup:/bin/bash\n",
      "_ondemand:*:249:249:On Demand Resource Daemon:/var/db/ondemand:/usr/bin/false\n",
      "_xserverdocs:*:251:251:macOS Server Documents Service:/var/empty:/usr/bin/false\n",
      "_wwwproxy:*:252:252:WWW Proxy:/var/empty:/usr/bin/false\n",
      "_mobileasset:*:253:253:MobileAsset User:/var/ma:/usr/bin/false\n",
      "_findmydevice:*:254:254:Find My Device Daemon:/var/db/findmydevice:/usr/bin/false\n",
      "_datadetectors:*:257:257:DataDetectors:/var/db/datadetectors:/usr/bin/false\n",
      "_captiveagent:*:258:258:captiveagent:/var/empty:/usr/bin/false\n",
      "_ctkd:*:259:259:ctkd Account:/var/empty:/usr/bin/false\n",
      "_applepay:*:260:260:applepay Account:/var/db/applepay:/usr/bin/false\n",
      "_hidd:*:261:261:HID Service User:/var/db/hidd:/usr/bin/false\n",
      "_cmiodalassistants:*:262:262:CoreMedia IO Assistants User:/var/db/cmiodalassistants:/usr/bin/false\n",
      "_analyticsd:*:263:263:Analytics Daemon:/var/db/analyticsd:/usr/bin/false\n",
      "_fpsd:*:265:265:FPS Daemon:/var/db/fpsd:/usr/bin/false\n",
      "_timed:*:266:266:Time Sync Daemon:/var/db/timed:/usr/bin/false\n",
      "_nearbyd:*:268:268:Proximity and Ranging Daemon:/var/db/nearbyd:/usr/bin/false\n",
      "_reportmemoryexception:*:269:269:ReportMemoryException:/var/db/reportmemoryexception:/usr/bin/false\n",
      "_driverkit:*:270:270:DriverKit:/var/empty:/usr/bin/false\n",
      "_diskimagesiod:*:271:271:DiskImages IO Daemon:/var/db/diskimagesiod:/usr/bin/false\n",
      "_logd:*:272:272:Log Daemon:/var/db/diagnostics:/usr/bin/false\n",
      "_appinstalld:*:273:273:App Install Daemon:/var/db/appinstalld:/usr/bin/false\n",
      "_installcoordinationd:*:274:274:Install Coordination Daemon:/var/db/installcoordinationd:/usr/bin/false\n",
      "_demod:*:275:275:Demo Daemon:/var/empty:/usr/bin/false\n",
      "_rmd:*:277:277:Remote Management Daemon:/var/db/rmd:/usr/bin/false\n",
      "_accessoryupdater:*:278:278:Accessory Update Daemon:/var/db/accessoryupdater:/usr/bin/false\n",
      "_knowledgegraphd:*:279:279:Knowledge Graph Daemon:/var/db/knowledgegraphd:/usr/bin/false\n",
      "_coreml:*:280:280:CoreML Services:/var/db/coreml:/usr/bin/false\n",
      "_sntpd:*:281:281:SNTP Server Daemon:/var/empty:/usr/bin/false\n",
      "_trustd:*:282:282:trustd:/var/empty:/usr/bin/false\n",
      "_mmaintenanced:*:283:283:mmaintenanced:/var/db/mmaintenanced:/usr/bin/false\n",
      "_darwindaemon:*:284:284:Darwin Daemon:/var/db/darwindaemon:/usr/bin/false\n",
      "_notification_proxy:*:285:285:Notification Proxy:/var/empty:/usr/bin/false\n",
      "_avphidbridge:*:288:288:Apple Virtual Platform HID Bridge:/var/empty:/usr/bin/false\n",
      "_biome:*:289:289:Biome:/var/db/biome:/usr/bin/false\n",
      "_backgroundassets:*:291:291:Background Assets Service:/var/empty:/usr/bin/false\n",
      "_mobilegestalthelper:*:293:293:MobileGestaltHelper:/var/empty:/usr/bin/false\n",
      "_audiomxd:*:294:294:Audio and MediaExperience Daemon:/var/db/audiomxd:/usr/bin/false\n",
      "_terminusd:*:295:295:Terminus:/var/db/terminus:/usr/bin/false\n",
      "_neuralengine:*:296:296:AppleNeuralEngine:/var/db/neuralengine:/usr/bin/false\n",
      "_eligibilityd:*:297:297:OS Eligibility Daemon:/var/db/eligibilityd:/usr/bin/false\n",
      "_systemstatusd:*:298:298:SystemStatus Services:/var/empty:/usr/bin/false\n",
      "_aonsensed:*:300:300:Always On Sense Daemon:/var/db/aonsensed:/usr/bin/false\n",
      "_modelmanagerd:*:301:301:Model Manager:/var/db/modelmanagerd:/usr/bin/false\n",
      "_reportsystemmemory:*:302:302:ReportSystemMemory:/var/empty:/usr/bin/false\n",
      "_swtransparencyd:*:303:303:Software Transparency Services:/var/db/swtransparencyd:/usr/bin/false\n",
      "_naturallanguaged:*:304:304:Natural Language Services:/var/db/com.apple.naturallanguaged:/usr/bin/false\n",
      "_oahd:*:441:441:OAH Daemon:/var/empty:/usr/bin/false\n"
     ]
    }
   ],
   "source": [
    "filename = '/etc/passwd'\n",
    "\n",
    "for one_line in open(filename):   # read one line from the file at a time, including the final \\n\n",
    "    print(one_line.strip())       # display the line, adding a \\n of our own"
   ]
  },
  {
   "cell_type": "code",
   "execution_count": 93,
   "metadata": {},
   "outputs": [
    {
     "name": "stdout",
     "output_type": "stream",
     "text": [
      "nobody\n",
      "root\n",
      "daemon\n",
      "_uucp\n",
      "_taskgated\n",
      "_networkd\n",
      "_installassistant\n",
      "_lp\n",
      "_postfix\n",
      "_scsd\n",
      "_ces\n",
      "_appstore\n",
      "_mcxalr\n",
      "_appleevents\n",
      "_geod\n",
      "_devdocs\n",
      "_sandbox\n",
      "_mdnsresponder\n",
      "_ard\n",
      "_www\n",
      "_eppc\n",
      "_cvs\n",
      "_svn\n",
      "_mysql\n",
      "_sshd\n",
      "_qtss\n",
      "_cyrus\n",
      "_mailman\n",
      "_appserver\n",
      "_clamav\n",
      "_amavisd\n",
      "_jabber\n",
      "_appowner\n",
      "_windowserver\n",
      "_spotlight\n",
      "_tokend\n",
      "_securityagent\n",
      "_calendar\n",
      "_teamsserver\n",
      "_update_sharing\n",
      "_installer\n",
      "_atsserver\n",
      "_ftp\n",
      "_unknown\n",
      "_softwareupdate\n",
      "_coreaudiod\n",
      "_screensaver\n",
      "_locationd\n",
      "_trustevaluationagent\n",
      "_timezone\n",
      "_lda\n",
      "_cvmsroot\n",
      "_usbmuxd\n",
      "_dovecot\n",
      "_dpaudio\n",
      "_postgres\n",
      "_krbtgt\n",
      "_kadmin_admin\n",
      "_kadmin_changepw\n",
      "_devicemgr\n",
      "_webauthserver\n",
      "_netbios\n",
      "_warmd\n",
      "_dovenull\n",
      "_netstatistics\n",
      "_avbdeviced\n",
      "_krb_krbtgt\n",
      "_krb_kadmin\n",
      "_krb_changepw\n",
      "_krb_kerberos\n",
      "_krb_anonymous\n",
      "_assetcache\n",
      "_coremediaiod\n",
      "_launchservicesd\n",
      "_iconservices\n",
      "_distnote\n",
      "_nsurlsessiond\n",
      "_displaypolicyd\n",
      "_astris\n",
      "_krbfast\n",
      "_gamecontrollerd\n",
      "_mbsetupuser\n",
      "_ondemand\n",
      "_xserverdocs\n",
      "_wwwproxy\n",
      "_mobileasset\n",
      "_findmydevice\n",
      "_datadetectors\n",
      "_captiveagent\n",
      "_ctkd\n",
      "_applepay\n",
      "_hidd\n",
      "_cmiodalassistants\n",
      "_analyticsd\n",
      "_fpsd\n",
      "_timed\n",
      "_nearbyd\n",
      "_reportmemoryexception\n",
      "_driverkit\n",
      "_diskimagesiod\n",
      "_logd\n",
      "_appinstalld\n",
      "_installcoordinationd\n",
      "_demod\n",
      "_rmd\n",
      "_accessoryupdater\n",
      "_knowledgegraphd\n",
      "_coreml\n",
      "_sntpd\n",
      "_trustd\n",
      "_mmaintenanced\n",
      "_darwindaemon\n",
      "_notification_proxy\n",
      "_avphidbridge\n",
      "_biome\n",
      "_backgroundassets\n",
      "_mobilegestalthelper\n",
      "_audiomxd\n",
      "_terminusd\n",
      "_neuralengine\n",
      "_eligibilityd\n",
      "_systemstatusd\n",
      "_aonsensed\n",
      "_modelmanagerd\n",
      "_reportsystemmemory\n",
      "_swtransparencyd\n",
      "_naturallanguaged\n",
      "_oahd\n"
     ]
    }
   ],
   "source": [
    "# I want to print the usernames on my system from /etc/passwd\n",
    "# how can I do that?\n",
    "\n",
    "filename = '/etc/passwd'\n",
    "\n",
    "for one_line in open(filename):   # read one line from the file at a time, including the final \\n\n",
    "    if one_line[0] == '#':\n",
    "        continue\n",
    "    print(one_line.split(':')[0])  # split the line on :, and grab the first element of the resulting list, at index 0"
   ]
  },
  {
   "cell_type": "markdown",
   "metadata": {},
   "source": [
    "# Exercise: IP addresses\n",
    "\n",
    "1. You'll want (need) to download a zipfile of files for exercises from https://files.lerner.co.il/exercise-files.zip . Inside of that file is `mini-access-log.txt`, a short version of a Web server's log from a number of years ago.\n",
    "2. Create a dict called `counts`. The keys will be IP addresses from the file, and the values will be integers, indicating how often that IP address occurred.\n",
    "3. The IP addresses all appear at the start of lines in the file.\n",
    "4. Iterate over the file, one line at a time.\n",
    "    - If the IP address is in `counts` already, add 1 to the IP address's value\n",
    "    - If the IP address isn't (yet) in `counts`, add the IP address as a key and 1 as the value\n",
    "5. Use a `for` loop to print each IP address and the number of times it appears."
   ]
  },
  {
   "cell_type": "code",
   "execution_count": 100,
   "metadata": {},
   "outputs": [
    {
     "name": "stdout",
     "output_type": "stream",
     "text": [
      "67.218.116.165:\t2\n",
      "66.249.71.65:\t3\n",
      "65.55.106.183:\t2\n",
      "66.249.65.12:\t32\n",
      "65.55.106.131:\t2\n",
      "65.55.106.186:\t2\n",
      "74.52.245.146:\t2\n",
      "66.249.65.43:\t3\n",
      "65.55.207.25:\t2\n",
      "65.55.207.94:\t2\n",
      "65.55.207.71:\t1\n",
      "98.242.170.241:\t1\n",
      "66.249.65.38:\t100\n",
      "65.55.207.126:\t2\n",
      "82.34.9.20:\t2\n",
      "65.55.106.155:\t2\n",
      "65.55.207.77:\t2\n",
      "208.80.193.28:\t1\n",
      "89.248.172.58:\t22\n",
      "67.195.112.35:\t16\n",
      "65.55.207.50:\t3\n",
      "65.55.215.75:\t2\n"
     ]
    }
   ],
   "source": [
    "counts = {}\n",
    "\n",
    "for one_line in open('mini-access-log.txt'):\n",
    "    ip_address = one_line.split()[0]\n",
    "\n",
    "    if ip_address in counts:       # if ip_address is already a key in our dict...\n",
    "        counts[ip_address] += 1    # ...add 1 to the count for this IP address\n",
    "    else:\n",
    "        counts[ip_address] = 1     # otherwise, add this IP address with a value of 1\n",
    "\n",
    "for key, value in counts.items():\n",
    "    print(f'{key}:\\t{value}')"
   ]
  },
  {
   "cell_type": "markdown",
   "metadata": {},
   "source": [
    "# Writing to files\n",
    "\n",
    "So far, we have invoked `open` with a filename, and that has given us read-only access to a file. But if we invoke `open` with a second (optional) argument, `'w'`, then that opens the file for *WRITING*, and not for reading.\n",
    "\n",
    "This is dangerous, because opening a file for writing guarantees that it will lo"
   ]
  }
 ],
 "metadata": {
  "kernelspec": {
   "display_name": "Python 3 (ipykernel)",
   "language": "python",
   "name": "python3"
  },
  "language_info": {
   "codemirror_mode": {
    "name": "ipython",
    "version": 3
   },
   "file_extension": ".py",
   "mimetype": "text/x-python",
   "name": "python",
   "nbconvert_exporter": "python",
   "pygments_lexer": "ipython3",
   "version": "3.13.2"
  }
 },
 "nbformat": 4,
 "nbformat_minor": 4
}
