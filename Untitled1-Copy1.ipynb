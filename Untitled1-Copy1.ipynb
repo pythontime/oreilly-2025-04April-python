{
 "cells": [
  {
   "cell_type": "code",
   "execution_count": null,
   "id": "95fa142d-13b1-4264-8b7c-87bb30619960",
   "metadata": {},
   "outputs": [],
   "source": []
  }
 ],
 "metadata": {
  "kernelspec": {
   "display_name": "",
   "name": ""
  },
  "language_info": {
   "name": ""
  }
 },
 "nbformat": 4,
 "nbformat_minor": 5
}
